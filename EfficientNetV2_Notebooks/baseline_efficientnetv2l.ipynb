{
  "cells": [
    {
      "cell_type": "markdown",
      "metadata": {
        "id": "NFDC6TgLorsU"
      },
      "source": [
        "# EfficientNetV2 - Large"
      ]
    },
    {
      "cell_type": "code",
      "execution_count": null,
      "metadata": {
        "colab": {
          "base_uri": "https://localhost:8080/"
        },
        "id": "d42Oq6eHKPI1",
        "outputId": "74c39d16-1bd8-4c46-eb90-3d546c935f58"
      },
      "outputs": [
        {
          "output_type": "stream",
          "name": "stdout",
          "text": [
            "Downloading from https://www.kaggle.com/api/v1/datasets/download/elmadafri/the-wildfire-dataset?dataset_version_number=1...\n"
          ]
        },
        {
          "output_type": "stream",
          "name": "stderr",
          "text": [
            "100%|██████████| 9.94G/9.94G [00:44<00:00, 241MB/s]"
          ]
        },
        {
          "output_type": "stream",
          "name": "stdout",
          "text": [
            "Extracting files...\n"
          ]
        },
        {
          "output_type": "stream",
          "name": "stderr",
          "text": [
            "\n"
          ]
        },
        {
          "output_type": "stream",
          "name": "stdout",
          "text": [
            "Path to dataset files: /root/.cache/kagglehub/datasets/elmadafri/the-wildfire-dataset/versions/1\n"
          ]
        }
      ],
      "source": [
        "import kagglehub\n",
        "\n",
        "# Download latest version\n",
        "path = kagglehub.dataset_download(\"elmadafri/the-wildfire-dataset/versions/1\")\n",
        "\n",
        "print(\"Path to dataset files:\", path)"
      ]
    },
    {
      "cell_type": "code",
      "source": [
        "!rm /root/.cache/kagglehub/datasets/elmadafri/the-wildfire-dataset/versions/1/the_wildfire_dataset/the_wildfire_dataset/val/fire/Both_smoke_and_fire/desktop.ini"
      ],
      "metadata": {
        "id": "EzQjfZJClO98"
      },
      "execution_count": null,
      "outputs": []
    },
    {
      "cell_type": "code",
      "execution_count": null,
      "metadata": {
        "id": "qKNpK6JhorsV"
      },
      "outputs": [],
      "source": [
        "import torch\n",
        "import pandas as pd\n",
        "import torch.nn as nn\n",
        "import torch.optim as optim\n",
        "from torchvision import datasets, models, transforms"
      ]
    },
    {
      "cell_type": "markdown",
      "metadata": {
        "id": "52VSqbJBorsW"
      },
      "source": [
        "## Load Model"
      ]
    },
    {
      "cell_type": "code",
      "execution_count": null,
      "metadata": {
        "colab": {
          "base_uri": "https://localhost:8080/"
        },
        "id": "nZN41V7SorsW",
        "outputId": "c021d9a1-6acc-49bf-8ac4-387aa66ff946"
      },
      "outputs": [
        {
          "output_type": "stream",
          "name": "stderr",
          "text": [
            "Downloading: \"https://download.pytorch.org/models/efficientnet_v2_s-dd5fe13b.pth\" to /root/.cache/torch/hub/checkpoints/efficientnet_v2_s-dd5fe13b.pth\n",
            "100%|██████████| 82.7M/82.7M [00:01<00:00, 85.1MB/s]\n"
          ]
        }
      ],
      "source": [
        "# Use pretrained weights\n",
        "model = models.efficientnet_v2_s(weights=\"DEFAULT\")"
      ]
    },
    {
      "cell_type": "code",
      "execution_count": null,
      "metadata": {
        "id": "4FBxXAQdorsW"
      },
      "outputs": [],
      "source": [
        "in_features = 1280\n",
        "\n",
        "# Strip out original classifier\n",
        "model.classifier = nn.Identity()\n",
        "\n",
        "# Binary Head\n",
        "binary_head = nn.Sequential(\n",
        "    nn.Linear(in_features, 1),\n",
        "    nn.Sigmoid()\n",
        ")\n",
        "\n",
        "# Multi-class Head -> 5 output classes\n",
        "multi_class_head = nn.Linear(in_features, 5)"
      ]
    },
    {
      "cell_type": "code",
      "execution_count": null,
      "metadata": {
        "id": "UdDPqeWcveKM"
      },
      "outputs": [],
      "source": [
        "import os\n",
        "from PIL import Image\n",
        "import torch\n",
        "from torch.utils.data import Dataset\n",
        "\n",
        "class CustomFireDataset(Dataset):\n",
        "    def __init__(self, root_dir, transform=None):\n",
        "        self.root_dir = root_dir\n",
        "        self.transform = transform\n",
        "        self.image_paths = []\n",
        "        self.binary_labels = []\n",
        "        self.multi_class_labels = []\n",
        "\n",
        "        # Define mappings for binary and multi-class labels\n",
        "        binary_label_mapping = {'fire': 1, 'nofire': 0}\n",
        "        multi_class_mapping = {\n",
        "            'fire': {'Both_smoke_and_fire': 0, 'Smoke_from_fires': 1},\n",
        "            'nofire': {'Fire_confounding_elements': 2, 'Forested_areas_without_confounding_elements': 3, 'Smoke_confounding_elements': 4}\n",
        "        }\n",
        "\n",
        "        # Traverse the root directory and collect image paths and labels\n",
        "        for binary_label_name in os.listdir(root_dir):\n",
        "            binary_label_path = os.path.join(root_dir, binary_label_name)\n",
        "            if os.path.isdir(binary_label_path):\n",
        "                # Assign binary label\n",
        "                binary_label = binary_label_mapping[binary_label_name]\n",
        "\n",
        "                # Traverse subclasses\n",
        "                for subclass_name in os.listdir(binary_label_path):\n",
        "                    subclass_path = os.path.join(binary_label_path, subclass_name)\n",
        "                    if os.path.isdir(subclass_path):\n",
        "                        # Assign multi-class label\n",
        "                        multi_class_label = multi_class_mapping[binary_label_name][subclass_name]\n",
        "\n",
        "                        # Collect all images in the subclass directory\n",
        "                        for img_name in os.listdir(subclass_path):\n",
        "                            img_path = os.path.join(subclass_path, img_name)\n",
        "                            if os.path.isfile(img_path):\n",
        "                                self.image_paths.append(img_path)\n",
        "                                self.binary_labels.append(binary_label)\n",
        "                                self.multi_class_labels.append(multi_class_label)\n",
        "\n",
        "    def __len__(self):\n",
        "        return len(self.image_paths)\n",
        "\n",
        "    def __getitem__(self, idx):\n",
        "        img_path = self.image_paths[idx]\n",
        "        image = Image.open(img_path).convert(\"RGB\")\n",
        "        binary_label = self.binary_labels[idx]\n",
        "        multi_class_label = self.multi_class_labels[idx]\n",
        "\n",
        "        if self.transform:\n",
        "            image = self.transform(image)\n",
        "\n",
        "        return image, (torch.tensor(binary_label, dtype=torch.float), torch.tensor(multi_class_label, dtype=torch.long))\n"
      ]
    },
    {
      "cell_type": "code",
      "execution_count": null,
      "metadata": {
        "id": "FTgDfCJGorsW"
      },
      "outputs": [],
      "source": [
        "train_transforms = transforms.Compose([\n",
        "    transforms.Resize((224, 224)),\n",
        "    transforms.RandomHorizontalFlip(),\n",
        "    transforms.ToTensor(),\n",
        "    transforms.Normalize([0.485, 0.456, 0.406], [0.229, 0.224, 0.225])\n",
        "])\n",
        "\n",
        "val_transforms = transforms.Compose([\n",
        "    transforms.Resize((224, 224)),\n",
        "    transforms.ToTensor(),\n",
        "    transforms.Normalize([0.485, 0.456, 0.406], [0.229, 0.224, 0.225])\n",
        "])\n",
        "\n",
        "# Load your datasets (replace \"path_to_train_dataset\" and \"path_to_val_dataset\" with your paths)\n",
        "#train_dataset = datasets.ImageFolder(\"/root/.cache/kagglehub/datasets/elmadafri/the-wildfire-dataset/versions/3/the_wildfire_dataset_2n_version/train\", transform=train_transforms)\n",
        "#val_dataset = datasets.ImageFolder(\"/root/.cache/kagglehub/datasets/elmadafri/the-wildfire-dataset/versions/3/the_wildfire_dataset_2n_version/val\", transform=val_transforms)\n",
        "train_dataset = CustomFireDataset(root_dir=\"/root/.cache/kagglehub/datasets/elmadafri/the-wildfire-dataset/versions/1/the_wildfire_dataset/the_wildfire_dataset/train\", transform=train_transforms)\n",
        "val_dataset = CustomFireDataset(root_dir=\"/root/.cache/kagglehub/datasets/elmadafri/the-wildfire-dataset/versions/1/the_wildfire_dataset/the_wildfire_dataset/val\", transform=val_transforms)\n",
        "\n",
        "\n",
        "train_loader = torch.utils.data.DataLoader(train_dataset, batch_size=32, shuffle=True, num_workers=10)\n",
        "val_loader = torch.utils.data.DataLoader(val_dataset, batch_size=32, shuffle=False, num_workers=10)"
      ]
    },
    {
      "cell_type": "code",
      "execution_count": null,
      "metadata": {
        "id": "j8dnuzGuorsX"
      },
      "outputs": [],
      "source": [
        "criterion_binary = nn.BCELoss()\n",
        "criterion_multi_class = nn.CrossEntropyLoss()\n",
        "optimizer = torch.optim.Adam(\n",
        "    list(model.parameters()) + list(binary_head.parameters()) + list(multi_class_head.parameters()),\n",
        "    lr=0.01\n",
        ")"
      ]
    },
    {
      "cell_type": "code",
      "execution_count": null,
      "metadata": {
        "id": "hD99LlS4orsX"
      },
      "outputs": [],
      "source": [
        "device = torch.device(\"cuda:0\" if torch.cuda.is_available() else \"cpu\")\n",
        "model = model.to(device)\n",
        "binary_head = binary_head.to(device)\n",
        "multi_class_head = multi_class_head.to(device)"
      ]
    },
    {
      "cell_type": "code",
      "execution_count": null,
      "metadata": {
        "id": "8UyImczIveKN"
      },
      "outputs": [],
      "source": [
        "def combined_loss(binary_output, binary_target, multi_class_output, multi_class_target, alpha=0.5, beta=0.5):\n",
        "    loss_binary = criterion_binary(binary_output, binary_target)\n",
        "    loss_multi_class = criterion_multi_class(multi_class_output, multi_class_target)\n",
        "    return alpha * loss_binary + beta * loss_multi_class"
      ]
    },
    {
      "cell_type": "code",
      "execution_count": null,
      "metadata": {
        "colab": {
          "base_uri": "https://localhost:8080/"
        },
        "id": "a8CIw6fHorsX",
        "outputId": "2c205523-acf3-4308-bb35-bf970a68b26c"
      },
      "outputs": [
        {
          "output_type": "stream",
          "name": "stderr",
          "text": [
            "/usr/local/lib/python3.10/dist-packages/PIL/Image.py:3406: DecompressionBombWarning: Image size (104688771 pixels) exceeds limit of 89478485 pixels, could be decompression bomb DOS attack.\n",
            "  warnings.warn(\n",
            "/usr/local/lib/python3.10/dist-packages/PIL/Image.py:3406: DecompressionBombWarning: Image size (89747104 pixels) exceeds limit of 89478485 pixels, could be decompression bomb DOS attack.\n",
            "  warnings.warn(\n"
          ]
        },
        {
          "output_type": "stream",
          "name": "stdout",
          "text": [
            "Epoch 1/30\n",
            "  Loss: 1.0378\n",
            "  Training Binary Accuracy: 64.86%\n",
            "  Training Multi-Class Accuracy: 40.54%\n",
            "  Validation Binary Accuracy: 65.67%\n",
            "  Validation Multi-Class Accuracy: 44.53%\n"
          ]
        },
        {
          "output_type": "stream",
          "name": "stderr",
          "text": [
            "/usr/local/lib/python3.10/dist-packages/PIL/Image.py:3406: DecompressionBombWarning: Image size (89747104 pixels) exceeds limit of 89478485 pixels, could be decompression bomb DOS attack.\n",
            "  warnings.warn(\n",
            "/usr/local/lib/python3.10/dist-packages/PIL/Image.py:3406: DecompressionBombWarning: Image size (104688771 pixels) exceeds limit of 89478485 pixels, could be decompression bomb DOS attack.\n",
            "  warnings.warn(\n"
          ]
        },
        {
          "output_type": "stream",
          "name": "stdout",
          "text": [
            "Epoch 2/30\n",
            "  Loss: 0.9023\n",
            "  Training Binary Accuracy: 72.71%\n",
            "  Training Multi-Class Accuracy: 48.65%\n",
            "  Validation Binary Accuracy: 75.62%\n",
            "  Validation Multi-Class Accuracy: 49.25%\n"
          ]
        },
        {
          "output_type": "stream",
          "name": "stderr",
          "text": [
            "/usr/local/lib/python3.10/dist-packages/PIL/Image.py:3406: DecompressionBombWarning: Image size (89747104 pixels) exceeds limit of 89478485 pixels, could be decompression bomb DOS attack.\n",
            "  warnings.warn(\n",
            "/usr/local/lib/python3.10/dist-packages/PIL/Image.py:3406: DecompressionBombWarning: Image size (104688771 pixels) exceeds limit of 89478485 pixels, could be decompression bomb DOS attack.\n",
            "  warnings.warn(\n"
          ]
        },
        {
          "output_type": "stream",
          "name": "stdout",
          "text": [
            "Epoch 3/30\n",
            "  Loss: 0.8870\n",
            "  Training Binary Accuracy: 76.74%\n",
            "  Training Multi-Class Accuracy: 49.02%\n",
            "  Validation Binary Accuracy: 75.12%\n",
            "  Validation Multi-Class Accuracy: 51.00%\n"
          ]
        },
        {
          "output_type": "stream",
          "name": "stderr",
          "text": [
            "/usr/local/lib/python3.10/dist-packages/PIL/Image.py:3406: DecompressionBombWarning: Image size (104688771 pixels) exceeds limit of 89478485 pixels, could be decompression bomb DOS attack.\n",
            "  warnings.warn(\n",
            "/usr/local/lib/python3.10/dist-packages/PIL/Image.py:3406: DecompressionBombWarning: Image size (89747104 pixels) exceeds limit of 89478485 pixels, could be decompression bomb DOS attack.\n",
            "  warnings.warn(\n"
          ]
        },
        {
          "output_type": "stream",
          "name": "stdout",
          "text": [
            "Epoch 4/30\n",
            "  Loss: 0.8324\n",
            "  Training Binary Accuracy: 77.69%\n",
            "  Training Multi-Class Accuracy: 50.24%\n",
            "  Validation Binary Accuracy: 71.89%\n",
            "  Validation Multi-Class Accuracy: 42.79%\n"
          ]
        },
        {
          "output_type": "stream",
          "name": "stderr",
          "text": [
            "/usr/local/lib/python3.10/dist-packages/PIL/Image.py:3406: DecompressionBombWarning: Image size (89747104 pixels) exceeds limit of 89478485 pixels, could be decompression bomb DOS attack.\n",
            "  warnings.warn(\n",
            "/usr/local/lib/python3.10/dist-packages/PIL/Image.py:3406: DecompressionBombWarning: Image size (104688771 pixels) exceeds limit of 89478485 pixels, could be decompression bomb DOS attack.\n",
            "  warnings.warn(\n"
          ]
        },
        {
          "output_type": "stream",
          "name": "stdout",
          "text": [
            "Epoch 5/30\n",
            "  Loss: 0.8285\n",
            "  Training Binary Accuracy: 78.80%\n",
            "  Training Multi-Class Accuracy: 52.09%\n",
            "  Validation Binary Accuracy: 78.11%\n",
            "  Validation Multi-Class Accuracy: 54.48%\n"
          ]
        },
        {
          "output_type": "stream",
          "name": "stderr",
          "text": [
            "/usr/local/lib/python3.10/dist-packages/PIL/Image.py:3406: DecompressionBombWarning: Image size (89747104 pixels) exceeds limit of 89478485 pixels, could be decompression bomb DOS attack.\n",
            "  warnings.warn(\n",
            "/usr/local/lib/python3.10/dist-packages/PIL/Image.py:3406: DecompressionBombWarning: Image size (104688771 pixels) exceeds limit of 89478485 pixels, could be decompression bomb DOS attack.\n",
            "  warnings.warn(\n"
          ]
        },
        {
          "output_type": "stream",
          "name": "stdout",
          "text": [
            "Epoch 6/30\n",
            "  Loss: 0.7749\n",
            "  Training Binary Accuracy: 81.29%\n",
            "  Training Multi-Class Accuracy: 54.21%\n",
            "  Validation Binary Accuracy: 74.88%\n",
            "  Validation Multi-Class Accuracy: 51.24%\n"
          ]
        },
        {
          "output_type": "stream",
          "name": "stderr",
          "text": [
            "/usr/local/lib/python3.10/dist-packages/PIL/Image.py:3406: DecompressionBombWarning: Image size (89747104 pixels) exceeds limit of 89478485 pixels, could be decompression bomb DOS attack.\n",
            "  warnings.warn(\n",
            "/usr/local/lib/python3.10/dist-packages/PIL/Image.py:3406: DecompressionBombWarning: Image size (104688771 pixels) exceeds limit of 89478485 pixels, could be decompression bomb DOS attack.\n",
            "  warnings.warn(\n"
          ]
        },
        {
          "output_type": "stream",
          "name": "stdout",
          "text": [
            "Epoch 7/30\n",
            "  Loss: 0.7851\n",
            "  Training Binary Accuracy: 81.40%\n",
            "  Training Multi-Class Accuracy: 53.58%\n",
            "  Validation Binary Accuracy: 76.87%\n",
            "  Validation Multi-Class Accuracy: 55.47%\n"
          ]
        },
        {
          "output_type": "stream",
          "name": "stderr",
          "text": [
            "/usr/local/lib/python3.10/dist-packages/PIL/Image.py:3406: DecompressionBombWarning: Image size (104688771 pixels) exceeds limit of 89478485 pixels, could be decompression bomb DOS attack.\n",
            "  warnings.warn(\n",
            "/usr/local/lib/python3.10/dist-packages/PIL/Image.py:3406: DecompressionBombWarning: Image size (89747104 pixels) exceeds limit of 89478485 pixels, could be decompression bomb DOS attack.\n",
            "  warnings.warn(\n"
          ]
        },
        {
          "output_type": "stream",
          "name": "stdout",
          "text": [
            "Epoch 8/30\n",
            "  Loss: 0.7597\n",
            "  Training Binary Accuracy: 80.71%\n",
            "  Training Multi-Class Accuracy: 54.74%\n",
            "  Validation Binary Accuracy: 70.90%\n",
            "  Validation Multi-Class Accuracy: 48.76%\n"
          ]
        },
        {
          "output_type": "stream",
          "name": "stderr",
          "text": [
            "/usr/local/lib/python3.10/dist-packages/PIL/Image.py:3406: DecompressionBombWarning: Image size (104688771 pixels) exceeds limit of 89478485 pixels, could be decompression bomb DOS attack.\n",
            "  warnings.warn(\n",
            "/usr/local/lib/python3.10/dist-packages/PIL/Image.py:3406: DecompressionBombWarning: Image size (89747104 pixels) exceeds limit of 89478485 pixels, could be decompression bomb DOS attack.\n",
            "  warnings.warn(\n"
          ]
        },
        {
          "output_type": "stream",
          "name": "stdout",
          "text": [
            "Epoch 9/30\n",
            "  Loss: 0.7428\n",
            "  Training Binary Accuracy: 82.83%\n",
            "  Training Multi-Class Accuracy: 55.43%\n",
            "  Validation Binary Accuracy: 79.35%\n",
            "  Validation Multi-Class Accuracy: 56.47%\n"
          ]
        },
        {
          "output_type": "stream",
          "name": "stderr",
          "text": [
            "/usr/local/lib/python3.10/dist-packages/PIL/Image.py:3406: DecompressionBombWarning: Image size (104688771 pixels) exceeds limit of 89478485 pixels, could be decompression bomb DOS attack.\n",
            "  warnings.warn(\n",
            "/usr/local/lib/python3.10/dist-packages/PIL/Image.py:3406: DecompressionBombWarning: Image size (89747104 pixels) exceeds limit of 89478485 pixels, could be decompression bomb DOS attack.\n",
            "  warnings.warn(\n"
          ]
        },
        {
          "output_type": "stream",
          "name": "stdout",
          "text": [
            "Epoch 10/30\n",
            "  Loss: 0.7161\n",
            "  Training Binary Accuracy: 83.09%\n",
            "  Training Multi-Class Accuracy: 56.39%\n",
            "  Validation Binary Accuracy: 79.35%\n",
            "  Validation Multi-Class Accuracy: 56.72%\n"
          ]
        },
        {
          "output_type": "stream",
          "name": "stderr",
          "text": [
            "/usr/local/lib/python3.10/dist-packages/PIL/Image.py:3406: DecompressionBombWarning: Image size (89747104 pixels) exceeds limit of 89478485 pixels, could be decompression bomb DOS attack.\n",
            "  warnings.warn(\n",
            "/usr/local/lib/python3.10/dist-packages/PIL/Image.py:3406: DecompressionBombWarning: Image size (104688771 pixels) exceeds limit of 89478485 pixels, could be decompression bomb DOS attack.\n",
            "  warnings.warn(\n"
          ]
        },
        {
          "output_type": "stream",
          "name": "stdout",
          "text": [
            "Epoch 11/30\n",
            "  Loss: 0.7021\n",
            "  Training Binary Accuracy: 83.52%\n",
            "  Training Multi-Class Accuracy: 58.88%\n",
            "  Validation Binary Accuracy: 81.34%\n",
            "  Validation Multi-Class Accuracy: 59.20%\n"
          ]
        },
        {
          "output_type": "stream",
          "name": "stderr",
          "text": [
            "/usr/local/lib/python3.10/dist-packages/PIL/Image.py:3406: DecompressionBombWarning: Image size (89747104 pixels) exceeds limit of 89478485 pixels, could be decompression bomb DOS attack.\n",
            "  warnings.warn(\n",
            "/usr/local/lib/python3.10/dist-packages/PIL/Image.py:3406: DecompressionBombWarning: Image size (104688771 pixels) exceeds limit of 89478485 pixels, could be decompression bomb DOS attack.\n",
            "  warnings.warn(\n"
          ]
        },
        {
          "output_type": "stream",
          "name": "stdout",
          "text": [
            "Epoch 12/30\n",
            "  Loss: 0.6972\n",
            "  Training Binary Accuracy: 83.25%\n",
            "  Training Multi-Class Accuracy: 57.34%\n",
            "  Validation Binary Accuracy: 79.10%\n",
            "  Validation Multi-Class Accuracy: 53.48%\n"
          ]
        },
        {
          "output_type": "stream",
          "name": "stderr",
          "text": [
            "/usr/local/lib/python3.10/dist-packages/PIL/Image.py:3406: DecompressionBombWarning: Image size (89747104 pixels) exceeds limit of 89478485 pixels, could be decompression bomb DOS attack.\n",
            "  warnings.warn(\n",
            "/usr/local/lib/python3.10/dist-packages/PIL/Image.py:3406: DecompressionBombWarning: Image size (104688771 pixels) exceeds limit of 89478485 pixels, could be decompression bomb DOS attack.\n",
            "  warnings.warn(\n"
          ]
        },
        {
          "output_type": "stream",
          "name": "stdout",
          "text": [
            "Epoch 13/30\n",
            "  Loss: 0.6908\n",
            "  Training Binary Accuracy: 84.10%\n",
            "  Training Multi-Class Accuracy: 58.40%\n",
            "  Validation Binary Accuracy: 80.60%\n",
            "  Validation Multi-Class Accuracy: 55.22%\n"
          ]
        },
        {
          "output_type": "stream",
          "name": "stderr",
          "text": [
            "/usr/local/lib/python3.10/dist-packages/PIL/Image.py:3406: DecompressionBombWarning: Image size (104688771 pixels) exceeds limit of 89478485 pixels, could be decompression bomb DOS attack.\n",
            "  warnings.warn(\n",
            "/usr/local/lib/python3.10/dist-packages/PIL/Image.py:3406: DecompressionBombWarning: Image size (89747104 pixels) exceeds limit of 89478485 pixels, could be decompression bomb DOS attack.\n",
            "  warnings.warn(\n"
          ]
        },
        {
          "output_type": "stream",
          "name": "stdout",
          "text": [
            "Epoch 14/30\n",
            "  Loss: 0.6903\n",
            "  Training Binary Accuracy: 83.31%\n",
            "  Training Multi-Class Accuracy: 58.51%\n",
            "  Validation Binary Accuracy: 79.60%\n",
            "  Validation Multi-Class Accuracy: 55.22%\n"
          ]
        },
        {
          "output_type": "stream",
          "name": "stderr",
          "text": [
            "/usr/local/lib/python3.10/dist-packages/PIL/Image.py:3406: DecompressionBombWarning: Image size (104688771 pixels) exceeds limit of 89478485 pixels, could be decompression bomb DOS attack.\n",
            "  warnings.warn(\n",
            "/usr/local/lib/python3.10/dist-packages/PIL/Image.py:3406: DecompressionBombWarning: Image size (89747104 pixels) exceeds limit of 89478485 pixels, could be decompression bomb DOS attack.\n",
            "  warnings.warn(\n"
          ]
        },
        {
          "output_type": "stream",
          "name": "stdout",
          "text": [
            "Epoch 15/30\n",
            "  Loss: 0.6579\n",
            "  Training Binary Accuracy: 84.68%\n",
            "  Training Multi-Class Accuracy: 58.93%\n",
            "  Validation Binary Accuracy: 80.10%\n",
            "  Validation Multi-Class Accuracy: 55.47%\n"
          ]
        },
        {
          "output_type": "stream",
          "name": "stderr",
          "text": [
            "/usr/local/lib/python3.10/dist-packages/PIL/Image.py:3406: DecompressionBombWarning: Image size (104688771 pixels) exceeds limit of 89478485 pixels, could be decompression bomb DOS attack.\n",
            "  warnings.warn(\n",
            "/usr/local/lib/python3.10/dist-packages/PIL/Image.py:3406: DecompressionBombWarning: Image size (89747104 pixels) exceeds limit of 89478485 pixels, could be decompression bomb DOS attack.\n",
            "  warnings.warn(\n"
          ]
        },
        {
          "output_type": "stream",
          "name": "stdout",
          "text": [
            "Epoch 16/30\n",
            "  Loss: 0.6543\n",
            "  Training Binary Accuracy: 84.58%\n",
            "  Training Multi-Class Accuracy: 61.10%\n",
            "  Validation Binary Accuracy: 77.61%\n",
            "  Validation Multi-Class Accuracy: 54.23%\n"
          ]
        },
        {
          "output_type": "stream",
          "name": "stderr",
          "text": [
            "/usr/local/lib/python3.10/dist-packages/PIL/Image.py:3406: DecompressionBombWarning: Image size (104688771 pixels) exceeds limit of 89478485 pixels, could be decompression bomb DOS attack.\n",
            "  warnings.warn(\n",
            "/usr/local/lib/python3.10/dist-packages/PIL/Image.py:3406: DecompressionBombWarning: Image size (89747104 pixels) exceeds limit of 89478485 pixels, could be decompression bomb DOS attack.\n",
            "  warnings.warn(\n"
          ]
        },
        {
          "output_type": "stream",
          "name": "stdout",
          "text": [
            "Epoch 17/30\n",
            "  Loss: 0.6577\n",
            "  Training Binary Accuracy: 84.84%\n",
            "  Training Multi-Class Accuracy: 59.88%\n",
            "  Validation Binary Accuracy: 79.85%\n",
            "  Validation Multi-Class Accuracy: 58.21%\n"
          ]
        },
        {
          "output_type": "stream",
          "name": "stderr",
          "text": [
            "/usr/local/lib/python3.10/dist-packages/PIL/Image.py:3406: DecompressionBombWarning: Image size (89747104 pixels) exceeds limit of 89478485 pixels, could be decompression bomb DOS attack.\n",
            "  warnings.warn(\n",
            "/usr/local/lib/python3.10/dist-packages/PIL/Image.py:3406: DecompressionBombWarning: Image size (104688771 pixels) exceeds limit of 89478485 pixels, could be decompression bomb DOS attack.\n",
            "  warnings.warn(\n"
          ]
        },
        {
          "output_type": "stream",
          "name": "stdout",
          "text": [
            "Epoch 18/30\n",
            "  Loss: 0.6404\n",
            "  Training Binary Accuracy: 85.43%\n",
            "  Training Multi-Class Accuracy: 61.95%\n",
            "  Validation Binary Accuracy: 75.87%\n",
            "  Validation Multi-Class Accuracy: 53.48%\n"
          ]
        },
        {
          "output_type": "stream",
          "name": "stderr",
          "text": [
            "/usr/local/lib/python3.10/dist-packages/PIL/Image.py:3406: DecompressionBombWarning: Image size (89747104 pixels) exceeds limit of 89478485 pixels, could be decompression bomb DOS attack.\n",
            "  warnings.warn(\n",
            "/usr/local/lib/python3.10/dist-packages/PIL/Image.py:3406: DecompressionBombWarning: Image size (104688771 pixels) exceeds limit of 89478485 pixels, could be decompression bomb DOS attack.\n",
            "  warnings.warn(\n"
          ]
        },
        {
          "output_type": "stream",
          "name": "stdout",
          "text": [
            "Epoch 19/30\n",
            "  Loss: 0.6430\n",
            "  Training Binary Accuracy: 85.53%\n",
            "  Training Multi-Class Accuracy: 61.95%\n",
            "  Validation Binary Accuracy: 80.60%\n",
            "  Validation Multi-Class Accuracy: 60.70%\n"
          ]
        },
        {
          "output_type": "stream",
          "name": "stderr",
          "text": [
            "/usr/local/lib/python3.10/dist-packages/PIL/Image.py:3406: DecompressionBombWarning: Image size (89747104 pixels) exceeds limit of 89478485 pixels, could be decompression bomb DOS attack.\n",
            "  warnings.warn(\n",
            "/usr/local/lib/python3.10/dist-packages/PIL/Image.py:3406: DecompressionBombWarning: Image size (104688771 pixels) exceeds limit of 89478485 pixels, could be decompression bomb DOS attack.\n",
            "  warnings.warn(\n"
          ]
        },
        {
          "output_type": "stream",
          "name": "stdout",
          "text": [
            "Epoch 20/30\n",
            "  Loss: 0.6223\n",
            "  Training Binary Accuracy: 85.21%\n",
            "  Training Multi-Class Accuracy: 62.48%\n",
            "  Validation Binary Accuracy: 78.61%\n",
            "  Validation Multi-Class Accuracy: 58.46%\n"
          ]
        },
        {
          "output_type": "stream",
          "name": "stderr",
          "text": [
            "/usr/local/lib/python3.10/dist-packages/PIL/Image.py:3406: DecompressionBombWarning: Image size (89747104 pixels) exceeds limit of 89478485 pixels, could be decompression bomb DOS attack.\n",
            "  warnings.warn(\n",
            "/usr/local/lib/python3.10/dist-packages/PIL/Image.py:3406: DecompressionBombWarning: Image size (104688771 pixels) exceeds limit of 89478485 pixels, could be decompression bomb DOS attack.\n",
            "  warnings.warn(\n"
          ]
        },
        {
          "output_type": "stream",
          "name": "stdout",
          "text": [
            "Epoch 21/30\n",
            "  Loss: 0.6238\n",
            "  Training Binary Accuracy: 84.68%\n",
            "  Training Multi-Class Accuracy: 61.84%\n",
            "  Validation Binary Accuracy: 77.61%\n",
            "  Validation Multi-Class Accuracy: 54.73%\n"
          ]
        },
        {
          "output_type": "stream",
          "name": "stderr",
          "text": [
            "/usr/local/lib/python3.10/dist-packages/PIL/Image.py:3406: DecompressionBombWarning: Image size (89747104 pixels) exceeds limit of 89478485 pixels, could be decompression bomb DOS attack.\n",
            "  warnings.warn(\n",
            "/usr/local/lib/python3.10/dist-packages/PIL/Image.py:3406: DecompressionBombWarning: Image size (104688771 pixels) exceeds limit of 89478485 pixels, could be decompression bomb DOS attack.\n",
            "  warnings.warn(\n"
          ]
        },
        {
          "output_type": "stream",
          "name": "stdout",
          "text": [
            "Epoch 22/30\n",
            "  Loss: 0.6236\n",
            "  Training Binary Accuracy: 85.64%\n",
            "  Training Multi-Class Accuracy: 62.11%\n",
            "  Validation Binary Accuracy: 81.84%\n",
            "  Validation Multi-Class Accuracy: 59.95%\n"
          ]
        },
        {
          "output_type": "stream",
          "name": "stderr",
          "text": [
            "/usr/local/lib/python3.10/dist-packages/PIL/Image.py:3406: DecompressionBombWarning: Image size (89747104 pixels) exceeds limit of 89478485 pixels, could be decompression bomb DOS attack.\n",
            "  warnings.warn(\n",
            "/usr/local/lib/python3.10/dist-packages/PIL/Image.py:3406: DecompressionBombWarning: Image size (104688771 pixels) exceeds limit of 89478485 pixels, could be decompression bomb DOS attack.\n",
            "  warnings.warn(\n"
          ]
        },
        {
          "output_type": "stream",
          "name": "stdout",
          "text": [
            "Epoch 23/30\n",
            "  Loss: 0.5857\n",
            "  Training Binary Accuracy: 87.44%\n",
            "  Training Multi-Class Accuracy: 64.49%\n",
            "  Validation Binary Accuracy: 79.60%\n",
            "  Validation Multi-Class Accuracy: 58.46%\n"
          ]
        },
        {
          "output_type": "stream",
          "name": "stderr",
          "text": [
            "/usr/local/lib/python3.10/dist-packages/PIL/Image.py:3406: DecompressionBombWarning: Image size (104688771 pixels) exceeds limit of 89478485 pixels, could be decompression bomb DOS attack.\n",
            "  warnings.warn(\n",
            "/usr/local/lib/python3.10/dist-packages/PIL/Image.py:3406: DecompressionBombWarning: Image size (89747104 pixels) exceeds limit of 89478485 pixels, could be decompression bomb DOS attack.\n",
            "  warnings.warn(\n"
          ]
        },
        {
          "output_type": "stream",
          "name": "stdout",
          "text": [
            "Epoch 24/30\n",
            "  Loss: 0.6018\n",
            "  Training Binary Accuracy: 86.65%\n",
            "  Training Multi-Class Accuracy: 63.54%\n",
            "  Validation Binary Accuracy: 80.35%\n",
            "  Validation Multi-Class Accuracy: 57.46%\n"
          ]
        },
        {
          "output_type": "stream",
          "name": "stderr",
          "text": [
            "/usr/local/lib/python3.10/dist-packages/PIL/Image.py:3406: DecompressionBombWarning: Image size (89747104 pixels) exceeds limit of 89478485 pixels, could be decompression bomb DOS attack.\n",
            "  warnings.warn(\n",
            "/usr/local/lib/python3.10/dist-packages/PIL/Image.py:3406: DecompressionBombWarning: Image size (104688771 pixels) exceeds limit of 89478485 pixels, could be decompression bomb DOS attack.\n",
            "  warnings.warn(\n"
          ]
        },
        {
          "output_type": "stream",
          "name": "stdout",
          "text": [
            "Epoch 25/30\n",
            "  Loss: 0.5654\n",
            "  Training Binary Accuracy: 87.12%\n",
            "  Training Multi-Class Accuracy: 65.08%\n",
            "  Validation Binary Accuracy: 80.10%\n",
            "  Validation Multi-Class Accuracy: 63.43%\n"
          ]
        },
        {
          "output_type": "stream",
          "name": "stderr",
          "text": [
            "/usr/local/lib/python3.10/dist-packages/PIL/Image.py:3406: DecompressionBombWarning: Image size (104688771 pixels) exceeds limit of 89478485 pixels, could be decompression bomb DOS attack.\n",
            "  warnings.warn(\n",
            "/usr/local/lib/python3.10/dist-packages/PIL/Image.py:3406: DecompressionBombWarning: Image size (89747104 pixels) exceeds limit of 89478485 pixels, could be decompression bomb DOS attack.\n",
            "  warnings.warn(\n"
          ]
        },
        {
          "output_type": "stream",
          "name": "stdout",
          "text": [
            "Epoch 26/30\n",
            "  Loss: 0.5973\n",
            "  Training Binary Accuracy: 86.96%\n",
            "  Training Multi-Class Accuracy: 64.18%\n",
            "  Validation Binary Accuracy: 81.34%\n",
            "  Validation Multi-Class Accuracy: 58.96%\n"
          ]
        },
        {
          "output_type": "stream",
          "name": "stderr",
          "text": [
            "/usr/local/lib/python3.10/dist-packages/PIL/Image.py:3406: DecompressionBombWarning: Image size (104688771 pixels) exceeds limit of 89478485 pixels, could be decompression bomb DOS attack.\n",
            "  warnings.warn(\n",
            "/usr/local/lib/python3.10/dist-packages/PIL/Image.py:3406: DecompressionBombWarning: Image size (89747104 pixels) exceeds limit of 89478485 pixels, could be decompression bomb DOS attack.\n",
            "  warnings.warn(\n"
          ]
        },
        {
          "output_type": "stream",
          "name": "stdout",
          "text": [
            "Epoch 27/30\n",
            "  Loss: 0.5802\n",
            "  Training Binary Accuracy: 87.39%\n",
            "  Training Multi-Class Accuracy: 66.24%\n",
            "  Validation Binary Accuracy: 81.84%\n",
            "  Validation Multi-Class Accuracy: 61.19%\n"
          ]
        },
        {
          "output_type": "stream",
          "name": "stderr",
          "text": [
            "/usr/local/lib/python3.10/dist-packages/PIL/Image.py:3406: DecompressionBombWarning: Image size (89747104 pixels) exceeds limit of 89478485 pixels, could be decompression bomb DOS attack.\n",
            "  warnings.warn(\n",
            "/usr/local/lib/python3.10/dist-packages/PIL/Image.py:3406: DecompressionBombWarning: Image size (104688771 pixels) exceeds limit of 89478485 pixels, could be decompression bomb DOS attack.\n",
            "  warnings.warn(\n"
          ]
        },
        {
          "output_type": "stream",
          "name": "stdout",
          "text": [
            "Epoch 28/30\n",
            "  Loss: 0.5867\n",
            "  Training Binary Accuracy: 87.18%\n",
            "  Training Multi-Class Accuracy: 64.28%\n",
            "  Validation Binary Accuracy: 84.33%\n",
            "  Validation Multi-Class Accuracy: 63.68%\n"
          ]
        },
        {
          "output_type": "stream",
          "name": "stderr",
          "text": [
            "/usr/local/lib/python3.10/dist-packages/PIL/Image.py:3406: DecompressionBombWarning: Image size (104688771 pixels) exceeds limit of 89478485 pixels, could be decompression bomb DOS attack.\n",
            "  warnings.warn(\n",
            "/usr/local/lib/python3.10/dist-packages/PIL/Image.py:3406: DecompressionBombWarning: Image size (89747104 pixels) exceeds limit of 89478485 pixels, could be decompression bomb DOS attack.\n",
            "  warnings.warn(\n"
          ]
        },
        {
          "output_type": "stream",
          "name": "stdout",
          "text": [
            "Epoch 29/30\n",
            "  Loss: 0.5635\n",
            "  Training Binary Accuracy: 88.02%\n",
            "  Training Multi-Class Accuracy: 66.67%\n",
            "  Validation Binary Accuracy: 81.34%\n",
            "  Validation Multi-Class Accuracy: 58.21%\n"
          ]
        },
        {
          "output_type": "stream",
          "name": "stderr",
          "text": [
            "/usr/local/lib/python3.10/dist-packages/PIL/Image.py:3406: DecompressionBombWarning: Image size (104688771 pixels) exceeds limit of 89478485 pixels, could be decompression bomb DOS attack.\n",
            "  warnings.warn(\n",
            "/usr/local/lib/python3.10/dist-packages/PIL/Image.py:3406: DecompressionBombWarning: Image size (89747104 pixels) exceeds limit of 89478485 pixels, could be decompression bomb DOS attack.\n",
            "  warnings.warn(\n"
          ]
        },
        {
          "output_type": "stream",
          "name": "stdout",
          "text": [
            "Epoch 30/30\n",
            "  Loss: 0.5491\n",
            "  Training Binary Accuracy: 88.98%\n",
            "  Training Multi-Class Accuracy: 65.50%\n",
            "  Validation Binary Accuracy: 82.09%\n",
            "  Validation Multi-Class Accuracy: 57.71%\n"
          ]
        }
      ],
      "source": [
        "epoch_list = []\n",
        "loss_list = []\n",
        "train_binary_accuracy_list = []\n",
        "train_multi_class_accuracy_list = []\n",
        "val_binary_accuracy_list = []\n",
        "val_multi_class_accuracy_list = []\n",
        "\n",
        "# Training loop\n",
        "epochs = 30  # You can adjust the number of epochs based on your needs\n",
        "for epoch in range(epochs):\n",
        "    model.train()\n",
        "    running_loss = 0.0\n",
        "    correct_train_binary = 0\n",
        "    total_train_binary = 0\n",
        "    correct_train_multi_class = 0\n",
        "    total_train_multi_class = 0\n",
        "\n",
        "    # Training Loop\n",
        "    for images, (binary_labels, multi_class_labels) in train_loader:\n",
        "        images = images.to(device)\n",
        "        binary_labels = binary_labels.to(device).float()\n",
        "        multi_class_labels = multi_class_labels.to(device).long()\n",
        "\n",
        "        optimizer.zero_grad()\n",
        "        features = model(images)  # Extract features using MobileNetV3\n",
        "        binary_output = binary_head(features)\n",
        "        multi_class_output = multi_class_head(features)\n",
        "\n",
        "        # Compute the combined loss\n",
        "        loss = combined_loss(binary_output.squeeze(), binary_labels, multi_class_output, multi_class_labels)\n",
        "        loss.backward()\n",
        "        optimizer.step()\n",
        "\n",
        "        running_loss += loss.item()\n",
        "\n",
        "        # Calculate training accuracy for binary classification\n",
        "        predicted_binary = (binary_output.squeeze() > 0.5).int()  # Convert probabilities to binary predictions\n",
        "        correct_train_binary += (predicted_binary == binary_labels.int()).sum().item()\n",
        "        total_train_binary += binary_labels.size(0)\n",
        "\n",
        "        # Calculate training accuracy for multi-class classification\n",
        "        _, predicted_multi_class = torch.max(multi_class_output, 1)\n",
        "        correct_train_multi_class += (predicted_multi_class == multi_class_labels).sum().item()\n",
        "        total_train_multi_class += multi_class_labels.size(0)\n",
        "\n",
        "    # Calculate the average loss and training accuracies\n",
        "    avg_loss = running_loss / len(train_loader)\n",
        "    train_binary_accuracy = 100 * correct_train_binary / total_train_binary\n",
        "    train_multi_class_accuracy = 100 * correct_train_multi_class / total_train_multi_class\n",
        "\n",
        "    # Validation Loop\n",
        "    model.eval()\n",
        "    correct_val_binary = 0\n",
        "    total_val_binary = 0\n",
        "    correct_val_multi_class = 0\n",
        "    total_val_multi_class = 0\n",
        "    with torch.no_grad():\n",
        "        for images, (binary_labels, multi_class_labels) in val_loader:\n",
        "            images = images.to(device)\n",
        "            binary_labels = binary_labels.to(device).float()\n",
        "            multi_class_labels = multi_class_labels.to(device).long()\n",
        "\n",
        "            features = model(images)  # Extract features using MobileNetV3\n",
        "            binary_output = binary_head(features)\n",
        "            multi_class_output = multi_class_head(features)\n",
        "\n",
        "            # Calculate validation accuracy for binary classification\n",
        "            predicted_binary = (binary_output.squeeze() > 0.5).int()\n",
        "            correct_val_binary += (predicted_binary == binary_labels.int()).sum().item()\n",
        "            total_val_binary += binary_labels.size(0)\n",
        "\n",
        "            # Calculate validation accuracy for multi-class classification\n",
        "            _, predicted_multi_class = torch.max(multi_class_output, 1)\n",
        "            correct_val_multi_class += (predicted_multi_class == multi_class_labels).sum().item()\n",
        "            total_val_multi_class += multi_class_labels.size(0)\n",
        "\n",
        "    # Calculate validation accuracies\n",
        "    val_binary_accuracy = 100 * correct_val_binary / total_val_binary\n",
        "    val_multi_class_accuracy = 100 * correct_val_multi_class / total_val_multi_class\n",
        "\n",
        "    # Store the metrics\n",
        "    epoch_list.append(epoch + 1)\n",
        "    loss_list.append(avg_loss)\n",
        "    train_binary_accuracy_list.append(train_binary_accuracy)\n",
        "    train_multi_class_accuracy_list.append(train_multi_class_accuracy)\n",
        "    val_binary_accuracy_list.append(val_binary_accuracy)\n",
        "    val_multi_class_accuracy_list.append(val_multi_class_accuracy)\n",
        "\n",
        "    # Log the metrics\n",
        "    print(f\"Epoch {epoch+1}/{epochs}\")\n",
        "    print(f\"  Loss: {avg_loss:.4f}\")\n",
        "    print(f\"  Training Binary Accuracy: {train_binary_accuracy:.2f}%\")\n",
        "    print(f\"  Training Multi-Class Accuracy: {train_multi_class_accuracy:.2f}%\")\n",
        "    print(f\"  Validation Binary Accuracy: {val_binary_accuracy:.2f}%\")\n",
        "    print(f\"  Validation Multi-Class Accuracy: {val_multi_class_accuracy:.2f}%\")"
      ]
    },
    {
      "cell_type": "code",
      "execution_count": null,
      "metadata": {
        "id": "PlbISfkHWn8b",
        "colab": {
          "base_uri": "https://localhost:8080/"
        },
        "outputId": "14e8ccde-749c-4389-e1dd-ea42e00002c0"
      },
      "outputs": [
        {
          "output_type": "stream",
          "name": "stdout",
          "text": [
            "Model saved successfully!\n"
          ]
        }
      ],
      "source": [
        "# Save the model's state dictionary\n",
        "torch.save(model.state_dict(), \"efficientnetv2_multi_classifier.pth\")\n",
        "print(\"Model saved successfully!\")"
      ]
    },
    {
      "cell_type": "code",
      "execution_count": null,
      "metadata": {
        "id": "Dxt2ytzvZdXp",
        "colab": {
          "base_uri": "https://localhost:8080/"
        },
        "outputId": "49ca3c97-3068-497c-80bc-1cc7f161b419"
      },
      "outputs": [
        {
          "output_type": "stream",
          "name": "stdout",
          "text": [
            "Training results saved successfully!\n"
          ]
        }
      ],
      "source": [
        "# Save the metrics to a CSV file\n",
        "data = {\n",
        "    'Epoch': epoch_list,\n",
        "    'Loss': loss_list,\n",
        "    'Train Binary Accuracy': train_binary_accuracy_list,\n",
        "    'Train Multi-Class Accuracy': train_multi_class_accuracy_list,\n",
        "    'Validation Binary Accuracy': val_binary_accuracy_list,\n",
        "    'Validation Multi-Class Accuracy': val_multi_class_accuracy_list\n",
        "}\n",
        "\n",
        "# Create a DataFrame from the dictionary\n",
        "df = pd.DataFrame(data)\n",
        "\n",
        "# Save the DataFrame to a CSV file\n",
        "df.to_csv('efficientnetv2_training_results.csv', index=False)\n",
        "print(\"Training results saved successfully!\")"
      ]
    },
    {
      "cell_type": "markdown",
      "metadata": {
        "id": "UcsqOo-xudHK"
      },
      "source": [
        "## Test the Model"
      ]
    },
    {
      "cell_type": "code",
      "source": [
        "#model.load_state_dict(torch.load(\"efficientnetv2_multi_classifier.pth\"))"
      ],
      "metadata": {
        "id": "vghdvUe2Tsdh"
      },
      "execution_count": null,
      "outputs": []
    },
    {
      "cell_type": "code",
      "execution_count": null,
      "metadata": {
        "id": "TgewvZivs_sb"
      },
      "outputs": [],
      "source": [
        "# Define transformations for the test set\n",
        "test_transforms = transforms.Compose([\n",
        "    transforms.Resize((224, 224)),\n",
        "    transforms.ToTensor(),\n",
        "    transforms.Normalize([0.485, 0.456, 0.406], [0.229, 0.224, 0.225])\n",
        "])\n",
        "\n",
        "# Load your test dataset\n",
        "test_dataset = CustomFireDataset(root_dir=\"/root/.cache/kagglehub/datasets/elmadafri/the-wildfire-dataset/versions/1/the_wildfire_dataset/the_wildfire_dataset/test\", transform=test_transforms)\n",
        "\n",
        "# Create a DataLoader for the test dataset\n",
        "test_loader = torch.utils.data.DataLoader(test_dataset, batch_size=32, shuffle=False, num_workers=10)"
      ]
    },
    {
      "cell_type": "code",
      "execution_count": null,
      "metadata": {
        "id": "Ibrtd8M6WE80",
        "colab": {
          "base_uri": "https://localhost:8080/"
        },
        "outputId": "5e4beb06-6fc2-4f5f-de93-aaacab215e03"
      },
      "outputs": [
        {
          "output_type": "stream",
          "name": "stderr",
          "text": [
            "/usr/local/lib/python3.10/dist-packages/PIL/Image.py:3406: DecompressionBombWarning: Image size (101859328 pixels) exceeds limit of 89478485 pixels, could be decompression bomb DOS attack.\n",
            "  warnings.warn(\n",
            "/usr/local/lib/python3.10/dist-packages/PIL/Image.py:3406: DecompressionBombWarning: Image size (96631920 pixels) exceeds limit of 89478485 pixels, could be decompression bomb DOS attack.\n",
            "  warnings.warn(\n",
            "/usr/local/lib/python3.10/dist-packages/PIL/Image.py:3406: DecompressionBombWarning: Image size (94487082 pixels) exceeds limit of 89478485 pixels, could be decompression bomb DOS attack.\n",
            "  warnings.warn(\n"
          ]
        }
      ],
      "source": [
        "from sklearn.metrics import roc_curve, auc, confusion_matrix, classification_report\n",
        "import numpy as np\n",
        "import torch\n",
        "\n",
        "# Lists to store true labels and predicted probabilities/scores for binary classification\n",
        "true_binary_labels = []\n",
        "predicted_binary_probs = []  # Probabilities for the positive class (fire)\n",
        "\n",
        "# Lists to store true labels and predicted labels for multi-class classification\n",
        "true_multi_class_labels = []\n",
        "predicted_multi_class_labels = []\n",
        "\n",
        "# Evaluate the model on the test set\n",
        "model.eval()\n",
        "with torch.no_grad():\n",
        "    for images, (binary_labels, multi_class_labels) in test_loader:\n",
        "        images = images.to(device)\n",
        "        binary_labels = binary_labels.to(device).float()\n",
        "        multi_class_labels = multi_class_labels.to(device).long()\n",
        "\n",
        "        # Forward pass\n",
        "        features = model(images)\n",
        "        binary_output = binary_head(features)\n",
        "        multi_class_output = multi_class_head(features)\n",
        "\n",
        "        # Get probabilities for the positive class (fire) in binary classification\n",
        "        binary_probs = binary_output.squeeze().cpu().numpy()  # Probabilities from Sigmoid\n",
        "\n",
        "        # Get predicted class labels for multi-class classification\n",
        "        _, predicted_multi_class = torch.max(multi_class_output, 1)\n",
        "        predicted_multi_class = predicted_multi_class.cpu().numpy()\n",
        "\n",
        "        # Store true labels and predictions for binary classification\n",
        "        true_binary_labels.extend(binary_labels.cpu().numpy())\n",
        "        predicted_binary_probs.extend(binary_probs)\n",
        "\n",
        "        # Store true labels and predictions for multi-class classification\n",
        "        true_multi_class_labels.extend(multi_class_labels.cpu().numpy())\n",
        "        predicted_multi_class_labels.extend(predicted_multi_class)\n",
        "\n",
        "# Combine all data into a single DataFrame\n",
        "data = pd.DataFrame({\n",
        "    \"True Binary Labels\": true_binary_labels,\n",
        "    \"Predicted Binary Probabilities\": predicted_binary_probs,\n",
        "    \"True Multi-Class Labels\": true_multi_class_labels,\n",
        "    \"Predicted Multi-Class Labels\": predicted_multi_class_labels\n",
        "})\n",
        "\n",
        "data.to_csv(\"baseline_efficientnetv2l_test_results.csv\", index=False)"
      ]
    }
  ],
  "metadata": {
    "accelerator": "GPU",
    "colab": {
      "gpuType": "L4",
      "machine_shape": "hm",
      "provenance": []
    },
    "kernelspec": {
      "display_name": "Python 3",
      "name": "python3"
    },
    "language_info": {
      "codemirror_mode": {
        "name": "ipython",
        "version": 3
      },
      "file_extension": ".py",
      "mimetype": "text/x-python",
      "name": "python",
      "nbconvert_exporter": "python",
      "pygments_lexer": "ipython3",
      "version": "3.11.10"
    }
  },
  "nbformat": 4,
  "nbformat_minor": 0
}