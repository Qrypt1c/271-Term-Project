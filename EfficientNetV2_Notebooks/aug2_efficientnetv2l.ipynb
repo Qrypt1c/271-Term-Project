{
  "cells": [
    {
      "cell_type": "markdown",
      "metadata": {
        "id": "NFDC6TgLorsU"
      },
      "source": [
        "# EfficientNetV2 - Large"
      ]
    },
    {
      "cell_type": "code",
      "execution_count": null,
      "metadata": {
        "colab": {
          "base_uri": "https://localhost:8080/"
        },
        "id": "d42Oq6eHKPI1",
        "outputId": "350fc6d8-ea43-4a31-a298-77095fc4a4cc"
      },
      "outputs": [
        {
          "output_type": "stream",
          "name": "stdout",
          "text": [
            "Downloading from https://www.kaggle.com/api/v1/datasets/download/elmadafri/the-wildfire-dataset?dataset_version_number=1...\n"
          ]
        },
        {
          "output_type": "stream",
          "name": "stderr",
          "text": [
            "100%|██████████| 9.94G/9.94G [01:08<00:00, 156MB/s]"
          ]
        },
        {
          "output_type": "stream",
          "name": "stdout",
          "text": [
            "Extracting files...\n"
          ]
        },
        {
          "output_type": "stream",
          "name": "stderr",
          "text": [
            "\n"
          ]
        },
        {
          "output_type": "stream",
          "name": "stdout",
          "text": [
            "Path to dataset files: /root/.cache/kagglehub/datasets/elmadafri/the-wildfire-dataset/versions/1\n"
          ]
        }
      ],
      "source": [
        "import kagglehub\n",
        "\n",
        "# Download latest version\n",
        "path = kagglehub.dataset_download(\"elmadafri/the-wildfire-dataset/versions/1\")\n",
        "\n",
        "print(\"Path to dataset files:\", path)"
      ]
    },
    {
      "cell_type": "code",
      "source": [
        "!rm /root/.cache/kagglehub/datasets/elmadafri/the-wildfire-dataset/versions/1/the_wildfire_dataset/the_wildfire_dataset/val/fire/Both_smoke_and_fire/desktop.ini"
      ],
      "metadata": {
        "id": "EzQjfZJClO98"
      },
      "execution_count": null,
      "outputs": []
    },
    {
      "cell_type": "code",
      "execution_count": null,
      "metadata": {
        "id": "qKNpK6JhorsV"
      },
      "outputs": [],
      "source": [
        "import torch\n",
        "import pandas as pd\n",
        "import torch.nn as nn\n",
        "import torch.optim as optim\n",
        "from torchvision import datasets, models, transforms"
      ]
    },
    {
      "cell_type": "markdown",
      "metadata": {
        "id": "52VSqbJBorsW"
      },
      "source": [
        "## Load Model"
      ]
    },
    {
      "cell_type": "code",
      "execution_count": null,
      "metadata": {
        "colab": {
          "base_uri": "https://localhost:8080/"
        },
        "id": "nZN41V7SorsW",
        "outputId": "43e8990d-4e79-4cd6-abf4-384f37548d23"
      },
      "outputs": [
        {
          "output_type": "stream",
          "name": "stderr",
          "text": [
            "Downloading: \"https://download.pytorch.org/models/efficientnet_v2_s-dd5fe13b.pth\" to /root/.cache/torch/hub/checkpoints/efficientnet_v2_s-dd5fe13b.pth\n",
            "100%|██████████| 82.7M/82.7M [00:00<00:00, 154MB/s]\n"
          ]
        }
      ],
      "source": [
        "# Use pretrained weights\n",
        "model = models.efficientnet_v2_s(weights=\"DEFAULT\")"
      ]
    },
    {
      "cell_type": "markdown",
      "source": [
        "Higher dropout: 0.2 -> 0.3\n",
        "\n",
        "Decreased loss weight for binary and increased weight for multiclass:\n",
        "\n",
        "0.5 -> 0.4\n",
        "\n",
        "0.5 -> 0.6"
      ],
      "metadata": {
        "id": "JjiTRUuJoTqS"
      }
    },
    {
      "cell_type": "code",
      "execution_count": null,
      "metadata": {
        "id": "4FBxXAQdorsW"
      },
      "outputs": [],
      "source": [
        "in_features = 1280\n",
        "\n",
        "# Strip out original classifier\n",
        "model.classifier = nn.Identity()\n",
        "\n",
        "binary_head = nn.Sequential(\n",
        "    nn.Linear(in_features, 512),\n",
        "    nn.LeakyReLU(),\n",
        "    nn.Dropout(0.3),\n",
        "    nn.Linear(512, 1),\n",
        "    nn.Sigmoid()\n",
        ")\n",
        "\n",
        "multi_class_head = nn.Sequential(\n",
        "    nn.Linear(in_features, 512),\n",
        "    nn.LeakyReLU(),\n",
        "    nn.Linear(512, 5)\n",
        ")"
      ]
    },
    {
      "cell_type": "markdown",
      "source": [
        "### Change Notes:\n",
        "Added new layers in between output for better generalizability and to prevent plateuing as seen earlier"
      ],
      "metadata": {
        "id": "rJ75meIqy7SZ"
      }
    },
    {
      "cell_type": "code",
      "execution_count": null,
      "metadata": {
        "id": "UdDPqeWcveKM"
      },
      "outputs": [],
      "source": [
        "import os\n",
        "from PIL import Image\n",
        "import torch\n",
        "from torch.utils.data import Dataset\n",
        "\n",
        "class CustomFireDataset(Dataset):\n",
        "    def __init__(self, root_dir, transform=None):\n",
        "        self.root_dir = root_dir\n",
        "        self.transform = transform\n",
        "        self.image_paths = []\n",
        "        self.binary_labels = []\n",
        "        self.multi_class_labels = []\n",
        "\n",
        "        # Define mappings for binary and multi-class labels\n",
        "        binary_label_mapping = {'fire': 1, 'nofire': 0}\n",
        "        multi_class_mapping = {\n",
        "            'fire': {'Both_smoke_and_fire': 0, 'Smoke_from_fires': 1},\n",
        "            'nofire': {'Fire_confounding_elements': 2, 'Forested_areas_without_confounding_elements': 3, 'Smoke_confounding_elements': 4}\n",
        "        }\n",
        "\n",
        "        # Traverse the root directory and collect image paths and labels\n",
        "        for binary_label_name in os.listdir(root_dir):\n",
        "            binary_label_path = os.path.join(root_dir, binary_label_name)\n",
        "            if os.path.isdir(binary_label_path):\n",
        "                # Assign binary label\n",
        "                binary_label = binary_label_mapping[binary_label_name]\n",
        "\n",
        "                # Traverse subclasses\n",
        "                for subclass_name in os.listdir(binary_label_path):\n",
        "                    subclass_path = os.path.join(binary_label_path, subclass_name)\n",
        "                    if os.path.isdir(subclass_path):\n",
        "                        # Assign multi-class label\n",
        "                        multi_class_label = multi_class_mapping[binary_label_name][subclass_name]\n",
        "\n",
        "                        # Collect all images in the subclass directory\n",
        "                        for img_name in os.listdir(subclass_path):\n",
        "                            img_path = os.path.join(subclass_path, img_name)\n",
        "                            if os.path.isfile(img_path):\n",
        "                                self.image_paths.append(img_path)\n",
        "                                self.binary_labels.append(binary_label)\n",
        "                                self.multi_class_labels.append(multi_class_label)\n",
        "\n",
        "    def __len__(self):\n",
        "        return len(self.image_paths)\n",
        "\n",
        "    def __getitem__(self, idx):\n",
        "        img_path = self.image_paths[idx]\n",
        "        image = Image.open(img_path).convert(\"RGB\")\n",
        "        binary_label = self.binary_labels[idx]\n",
        "        multi_class_label = self.multi_class_labels[idx]\n",
        "\n",
        "        if self.transform:\n",
        "            image = self.transform(image)\n",
        "\n",
        "        return image, (torch.tensor(binary_label, dtype=torch.float), torch.tensor(multi_class_label, dtype=torch.long))\n"
      ]
    },
    {
      "cell_type": "code",
      "execution_count": null,
      "metadata": {
        "id": "FTgDfCJGorsW"
      },
      "outputs": [],
      "source": [
        "train_transforms = transforms.Compose([\n",
        "    transforms.Resize((224, 224)),\n",
        "    transforms.RandomHorizontalFlip(),\n",
        "    transforms.ToTensor(),\n",
        "    transforms.Normalize([0.485, 0.456, 0.406], [0.229, 0.224, 0.225])\n",
        "])\n",
        "\n",
        "val_transforms = transforms.Compose([\n",
        "    transforms.Resize((224, 224)),\n",
        "    transforms.ToTensor(),\n",
        "    transforms.Normalize([0.485, 0.456, 0.406], [0.229, 0.224, 0.225])\n",
        "])\n",
        "\n",
        "# Load your datasets (replace \"path_to_train_dataset\" and \"path_to_val_dataset\" with your paths)\n",
        "#train_dataset = datasets.ImageFolder(\"/root/.cache/kagglehub/datasets/elmadafri/the-wildfire-dataset/versions/3/the_wildfire_dataset_2n_version/train\", transform=train_transforms)\n",
        "#val_dataset = datasets.ImageFolder(\"/root/.cache/kagglehub/datasets/elmadafri/the-wildfire-dataset/versions/3/the_wildfire_dataset_2n_version/val\", transform=val_transforms)\n",
        "train_dataset = CustomFireDataset(root_dir=\"/root/.cache/kagglehub/datasets/elmadafri/the-wildfire-dataset/versions/1/the_wildfire_dataset/the_wildfire_dataset/train\", transform=train_transforms)\n",
        "val_dataset = CustomFireDataset(root_dir=\"/root/.cache/kagglehub/datasets/elmadafri/the-wildfire-dataset/versions/1/the_wildfire_dataset/the_wildfire_dataset/val\", transform=val_transforms)\n",
        "\n",
        "\n",
        "train_loader = torch.utils.data.DataLoader(train_dataset, batch_size=32, shuffle=True, num_workers=10)\n",
        "val_loader = torch.utils.data.DataLoader(val_dataset, batch_size=32, shuffle=False, num_workers=10)"
      ]
    },
    {
      "cell_type": "code",
      "execution_count": null,
      "metadata": {
        "id": "j8dnuzGuorsX"
      },
      "outputs": [],
      "source": [
        "criterion_binary = nn.BCELoss()\n",
        "criterion_multi_class = nn.CrossEntropyLoss()\n",
        "optimizer = torch.optim.Adam(\n",
        "    list(model.parameters()) + list(binary_head.parameters()) + list(multi_class_head.parameters()),\n",
        "    lr=0.002\n",
        ")"
      ]
    },
    {
      "cell_type": "code",
      "execution_count": null,
      "metadata": {
        "id": "hD99LlS4orsX"
      },
      "outputs": [],
      "source": [
        "device = torch.device(\"cuda:0\" if torch.cuda.is_available() else \"cpu\")\n",
        "model = model.to(device)\n",
        "binary_head = binary_head.to(device)\n",
        "multi_class_head = multi_class_head.to(device)"
      ]
    },
    {
      "cell_type": "code",
      "execution_count": null,
      "metadata": {
        "id": "8UyImczIveKN"
      },
      "outputs": [],
      "source": [
        "def combined_loss(binary_output, binary_target, multi_class_output, multi_class_target, alpha=0.4, beta=0.6):\n",
        "    loss_binary = criterion_binary(binary_output, binary_target)\n",
        "    loss_multi_class = criterion_multi_class(multi_class_output, multi_class_target)\n",
        "    return alpha * loss_binary + beta * loss_multi_class"
      ]
    },
    {
      "cell_type": "code",
      "execution_count": null,
      "metadata": {
        "colab": {
          "base_uri": "https://localhost:8080/"
        },
        "id": "a8CIw6fHorsX",
        "outputId": "09bcc0f2-b1b5-4b78-9677-c01dd142a63f"
      },
      "outputs": [
        {
          "output_type": "stream",
          "name": "stderr",
          "text": [
            "/usr/local/lib/python3.10/dist-packages/PIL/Image.py:3406: DecompressionBombWarning: Image size (89747104 pixels) exceeds limit of 89478485 pixels, could be decompression bomb DOS attack.\n",
            "  warnings.warn(\n",
            "/usr/local/lib/python3.10/dist-packages/PIL/Image.py:3406: DecompressionBombWarning: Image size (104688771 pixels) exceeds limit of 89478485 pixels, could be decompression bomb DOS attack.\n",
            "  warnings.warn(\n"
          ]
        },
        {
          "output_type": "stream",
          "name": "stdout",
          "text": [
            "Epoch 1/50\n",
            "  Loss: 0.8927\n",
            "  Training Binary Accuracy: 80.02%\n",
            "  Training Multi-Class Accuracy: 51.88%\n",
            "  Validation Binary Accuracy: 78.11%\n",
            "  Validation Multi-Class Accuracy: 57.71%\n"
          ]
        },
        {
          "output_type": "stream",
          "name": "stderr",
          "text": [
            "/usr/local/lib/python3.10/dist-packages/PIL/Image.py:3406: DecompressionBombWarning: Image size (104688771 pixels) exceeds limit of 89478485 pixels, could be decompression bomb DOS attack.\n",
            "  warnings.warn(\n",
            "/usr/local/lib/python3.10/dist-packages/PIL/Image.py:3406: DecompressionBombWarning: Image size (89747104 pixels) exceeds limit of 89478485 pixels, could be decompression bomb DOS attack.\n",
            "  warnings.warn(\n"
          ]
        },
        {
          "output_type": "stream",
          "name": "stdout",
          "text": [
            "Epoch 2/50\n",
            "  Loss: 0.7156\n",
            "  Training Binary Accuracy: 85.85%\n",
            "  Training Multi-Class Accuracy: 62.96%\n",
            "  Validation Binary Accuracy: 88.56%\n",
            "  Validation Multi-Class Accuracy: 63.93%\n"
          ]
        },
        {
          "output_type": "stream",
          "name": "stderr",
          "text": [
            "/usr/local/lib/python3.10/dist-packages/PIL/Image.py:3406: DecompressionBombWarning: Image size (104688771 pixels) exceeds limit of 89478485 pixels, could be decompression bomb DOS attack.\n",
            "  warnings.warn(\n",
            "/usr/local/lib/python3.10/dist-packages/PIL/Image.py:3406: DecompressionBombWarning: Image size (89747104 pixels) exceeds limit of 89478485 pixels, could be decompression bomb DOS attack.\n",
            "  warnings.warn(\n"
          ]
        },
        {
          "output_type": "stream",
          "name": "stdout",
          "text": [
            "Epoch 3/50\n",
            "  Loss: 0.6357\n",
            "  Training Binary Accuracy: 88.29%\n",
            "  Training Multi-Class Accuracy: 68.26%\n",
            "  Validation Binary Accuracy: 86.57%\n",
            "  Validation Multi-Class Accuracy: 67.91%\n"
          ]
        },
        {
          "output_type": "stream",
          "name": "stderr",
          "text": [
            "/usr/local/lib/python3.10/dist-packages/PIL/Image.py:3406: DecompressionBombWarning: Image size (89747104 pixels) exceeds limit of 89478485 pixels, could be decompression bomb DOS attack.\n",
            "  warnings.warn(\n",
            "/usr/local/lib/python3.10/dist-packages/PIL/Image.py:3406: DecompressionBombWarning: Image size (104688771 pixels) exceeds limit of 89478485 pixels, could be decompression bomb DOS attack.\n",
            "  warnings.warn(\n"
          ]
        },
        {
          "output_type": "stream",
          "name": "stdout",
          "text": [
            "Epoch 4/50\n",
            "  Loss: 0.6011\n",
            "  Training Binary Accuracy: 88.39%\n",
            "  Training Multi-Class Accuracy: 69.69%\n",
            "  Validation Binary Accuracy: 77.36%\n",
            "  Validation Multi-Class Accuracy: 61.94%\n"
          ]
        },
        {
          "output_type": "stream",
          "name": "stderr",
          "text": [
            "/usr/local/lib/python3.10/dist-packages/PIL/Image.py:3406: DecompressionBombWarning: Image size (104688771 pixels) exceeds limit of 89478485 pixels, could be decompression bomb DOS attack.\n",
            "  warnings.warn(\n",
            "/usr/local/lib/python3.10/dist-packages/PIL/Image.py:3406: DecompressionBombWarning: Image size (89747104 pixels) exceeds limit of 89478485 pixels, could be decompression bomb DOS attack.\n",
            "  warnings.warn(\n"
          ]
        },
        {
          "output_type": "stream",
          "name": "stdout",
          "text": [
            "Epoch 5/50\n",
            "  Loss: 0.5508\n",
            "  Training Binary Accuracy: 90.94%\n",
            "  Training Multi-Class Accuracy: 72.39%\n",
            "  Validation Binary Accuracy: 87.31%\n",
            "  Validation Multi-Class Accuracy: 71.89%\n"
          ]
        },
        {
          "output_type": "stream",
          "name": "stderr",
          "text": [
            "/usr/local/lib/python3.10/dist-packages/PIL/Image.py:3406: DecompressionBombWarning: Image size (104688771 pixels) exceeds limit of 89478485 pixels, could be decompression bomb DOS attack.\n",
            "  warnings.warn(\n",
            "/usr/local/lib/python3.10/dist-packages/PIL/Image.py:3406: DecompressionBombWarning: Image size (89747104 pixels) exceeds limit of 89478485 pixels, could be decompression bomb DOS attack.\n",
            "  warnings.warn(\n"
          ]
        },
        {
          "output_type": "stream",
          "name": "stdout",
          "text": [
            "Epoch 6/50\n",
            "  Loss: 0.5196\n",
            "  Training Binary Accuracy: 91.52%\n",
            "  Training Multi-Class Accuracy: 75.15%\n",
            "  Validation Binary Accuracy: 89.05%\n",
            "  Validation Multi-Class Accuracy: 72.89%\n"
          ]
        },
        {
          "output_type": "stream",
          "name": "stderr",
          "text": [
            "/usr/local/lib/python3.10/dist-packages/PIL/Image.py:3406: DecompressionBombWarning: Image size (89747104 pixels) exceeds limit of 89478485 pixels, could be decompression bomb DOS attack.\n",
            "  warnings.warn(\n",
            "/usr/local/lib/python3.10/dist-packages/PIL/Image.py:3406: DecompressionBombWarning: Image size (104688771 pixels) exceeds limit of 89478485 pixels, could be decompression bomb DOS attack.\n",
            "  warnings.warn(\n"
          ]
        },
        {
          "output_type": "stream",
          "name": "stdout",
          "text": [
            "Epoch 7/50\n",
            "  Loss: 0.4648\n",
            "  Training Binary Accuracy: 92.74%\n",
            "  Training Multi-Class Accuracy: 76.26%\n",
            "  Validation Binary Accuracy: 86.32%\n",
            "  Validation Multi-Class Accuracy: 69.40%\n"
          ]
        },
        {
          "output_type": "stream",
          "name": "stderr",
          "text": [
            "/usr/local/lib/python3.10/dist-packages/PIL/Image.py:3406: DecompressionBombWarning: Image size (89747104 pixels) exceeds limit of 89478485 pixels, could be decompression bomb DOS attack.\n",
            "  warnings.warn(\n",
            "/usr/local/lib/python3.10/dist-packages/PIL/Image.py:3406: DecompressionBombWarning: Image size (104688771 pixels) exceeds limit of 89478485 pixels, could be decompression bomb DOS attack.\n",
            "  warnings.warn(\n"
          ]
        },
        {
          "output_type": "stream",
          "name": "stdout",
          "text": [
            "Epoch 8/50\n",
            "  Loss: 0.4161\n",
            "  Training Binary Accuracy: 93.85%\n",
            "  Training Multi-Class Accuracy: 79.28%\n",
            "  Validation Binary Accuracy: 90.80%\n",
            "  Validation Multi-Class Accuracy: 78.36%\n"
          ]
        },
        {
          "output_type": "stream",
          "name": "stderr",
          "text": [
            "/usr/local/lib/python3.10/dist-packages/PIL/Image.py:3406: DecompressionBombWarning: Image size (89747104 pixels) exceeds limit of 89478485 pixels, could be decompression bomb DOS attack.\n",
            "  warnings.warn(\n",
            "/usr/local/lib/python3.10/dist-packages/PIL/Image.py:3406: DecompressionBombWarning: Image size (104688771 pixels) exceeds limit of 89478485 pixels, could be decompression bomb DOS attack.\n",
            "  warnings.warn(\n"
          ]
        },
        {
          "output_type": "stream",
          "name": "stdout",
          "text": [
            "Epoch 9/50\n",
            "  Loss: 0.3996\n",
            "  Training Binary Accuracy: 94.38%\n",
            "  Training Multi-Class Accuracy: 80.29%\n",
            "  Validation Binary Accuracy: 91.29%\n",
            "  Validation Multi-Class Accuracy: 73.63%\n"
          ]
        },
        {
          "output_type": "stream",
          "name": "stderr",
          "text": [
            "/usr/local/lib/python3.10/dist-packages/PIL/Image.py:3406: DecompressionBombWarning: Image size (89747104 pixels) exceeds limit of 89478485 pixels, could be decompression bomb DOS attack.\n",
            "  warnings.warn(\n",
            "/usr/local/lib/python3.10/dist-packages/PIL/Image.py:3406: DecompressionBombWarning: Image size (104688771 pixels) exceeds limit of 89478485 pixels, could be decompression bomb DOS attack.\n",
            "  warnings.warn(\n"
          ]
        },
        {
          "output_type": "stream",
          "name": "stdout",
          "text": [
            "Epoch 10/50\n",
            "  Loss: 0.3992\n",
            "  Training Binary Accuracy: 93.59%\n",
            "  Training Multi-Class Accuracy: 80.82%\n",
            "  Validation Binary Accuracy: 88.81%\n",
            "  Validation Multi-Class Accuracy: 70.65%\n"
          ]
        },
        {
          "output_type": "stream",
          "name": "stderr",
          "text": [
            "/usr/local/lib/python3.10/dist-packages/PIL/Image.py:3406: DecompressionBombWarning: Image size (89747104 pixels) exceeds limit of 89478485 pixels, could be decompression bomb DOS attack.\n",
            "  warnings.warn(\n",
            "/usr/local/lib/python3.10/dist-packages/PIL/Image.py:3406: DecompressionBombWarning: Image size (104688771 pixels) exceeds limit of 89478485 pixels, could be decompression bomb DOS attack.\n",
            "  warnings.warn(\n"
          ]
        },
        {
          "output_type": "stream",
          "name": "stdout",
          "text": [
            "Epoch 11/50\n",
            "  Loss: 0.3693\n",
            "  Training Binary Accuracy: 94.44%\n",
            "  Training Multi-Class Accuracy: 81.29%\n",
            "  Validation Binary Accuracy: 86.82%\n",
            "  Validation Multi-Class Accuracy: 75.87%\n"
          ]
        },
        {
          "output_type": "stream",
          "name": "stderr",
          "text": [
            "/usr/local/lib/python3.10/dist-packages/PIL/Image.py:3406: DecompressionBombWarning: Image size (104688771 pixels) exceeds limit of 89478485 pixels, could be decompression bomb DOS attack.\n",
            "  warnings.warn(\n",
            "/usr/local/lib/python3.10/dist-packages/PIL/Image.py:3406: DecompressionBombWarning: Image size (89747104 pixels) exceeds limit of 89478485 pixels, could be decompression bomb DOS attack.\n",
            "  warnings.warn(\n"
          ]
        },
        {
          "output_type": "stream",
          "name": "stdout",
          "text": [
            "Epoch 12/50\n",
            "  Loss: 0.3654\n",
            "  Training Binary Accuracy: 95.34%\n",
            "  Training Multi-Class Accuracy: 81.66%\n",
            "  Validation Binary Accuracy: 92.04%\n",
            "  Validation Multi-Class Accuracy: 77.61%\n"
          ]
        },
        {
          "output_type": "stream",
          "name": "stderr",
          "text": [
            "/usr/local/lib/python3.10/dist-packages/PIL/Image.py:3406: DecompressionBombWarning: Image size (104688771 pixels) exceeds limit of 89478485 pixels, could be decompression bomb DOS attack.\n",
            "  warnings.warn(\n",
            "/usr/local/lib/python3.10/dist-packages/PIL/Image.py:3406: DecompressionBombWarning: Image size (89747104 pixels) exceeds limit of 89478485 pixels, could be decompression bomb DOS attack.\n",
            "  warnings.warn(\n"
          ]
        },
        {
          "output_type": "stream",
          "name": "stdout",
          "text": [
            "Epoch 13/50\n",
            "  Loss: 0.2763\n",
            "  Training Binary Accuracy: 96.45%\n",
            "  Training Multi-Class Accuracy: 86.22%\n",
            "  Validation Binary Accuracy: 86.82%\n",
            "  Validation Multi-Class Accuracy: 74.13%\n"
          ]
        },
        {
          "output_type": "stream",
          "name": "stderr",
          "text": [
            "/usr/local/lib/python3.10/dist-packages/PIL/Image.py:3406: DecompressionBombWarning: Image size (104688771 pixels) exceeds limit of 89478485 pixels, could be decompression bomb DOS attack.\n",
            "  warnings.warn(\n",
            "/usr/local/lib/python3.10/dist-packages/PIL/Image.py:3406: DecompressionBombWarning: Image size (89747104 pixels) exceeds limit of 89478485 pixels, could be decompression bomb DOS attack.\n",
            "  warnings.warn(\n"
          ]
        },
        {
          "output_type": "stream",
          "name": "stdout",
          "text": [
            "Epoch 14/50\n",
            "  Loss: 0.2844\n",
            "  Training Binary Accuracy: 95.97%\n",
            "  Training Multi-Class Accuracy: 86.33%\n",
            "  Validation Binary Accuracy: 89.05%\n",
            "  Validation Multi-Class Accuracy: 67.66%\n"
          ]
        },
        {
          "output_type": "stream",
          "name": "stderr",
          "text": [
            "/usr/local/lib/python3.10/dist-packages/PIL/Image.py:3406: DecompressionBombWarning: Image size (89747104 pixels) exceeds limit of 89478485 pixels, could be decompression bomb DOS attack.\n",
            "  warnings.warn(\n",
            "/usr/local/lib/python3.10/dist-packages/PIL/Image.py:3406: DecompressionBombWarning: Image size (104688771 pixels) exceeds limit of 89478485 pixels, could be decompression bomb DOS attack.\n",
            "  warnings.warn(\n"
          ]
        },
        {
          "output_type": "stream",
          "name": "stdout",
          "text": [
            "Epoch 15/50\n",
            "  Loss: 0.2745\n",
            "  Training Binary Accuracy: 96.45%\n",
            "  Training Multi-Class Accuracy: 86.65%\n",
            "  Validation Binary Accuracy: 87.81%\n",
            "  Validation Multi-Class Accuracy: 76.12%\n"
          ]
        },
        {
          "output_type": "stream",
          "name": "stderr",
          "text": [
            "/usr/local/lib/python3.10/dist-packages/PIL/Image.py:3406: DecompressionBombWarning: Image size (104688771 pixels) exceeds limit of 89478485 pixels, could be decompression bomb DOS attack.\n",
            "  warnings.warn(\n",
            "/usr/local/lib/python3.10/dist-packages/PIL/Image.py:3406: DecompressionBombWarning: Image size (89747104 pixels) exceeds limit of 89478485 pixels, could be decompression bomb DOS attack.\n",
            "  warnings.warn(\n"
          ]
        },
        {
          "output_type": "stream",
          "name": "stdout",
          "text": [
            "Epoch 16/50\n",
            "  Loss: 0.2671\n",
            "  Training Binary Accuracy: 96.56%\n",
            "  Training Multi-Class Accuracy: 87.86%\n",
            "  Validation Binary Accuracy: 89.05%\n",
            "  Validation Multi-Class Accuracy: 79.35%\n"
          ]
        },
        {
          "output_type": "stream",
          "name": "stderr",
          "text": [
            "/usr/local/lib/python3.10/dist-packages/PIL/Image.py:3406: DecompressionBombWarning: Image size (104688771 pixels) exceeds limit of 89478485 pixels, could be decompression bomb DOS attack.\n",
            "  warnings.warn(\n",
            "/usr/local/lib/python3.10/dist-packages/PIL/Image.py:3406: DecompressionBombWarning: Image size (89747104 pixels) exceeds limit of 89478485 pixels, could be decompression bomb DOS attack.\n",
            "  warnings.warn(\n"
          ]
        },
        {
          "output_type": "stream",
          "name": "stdout",
          "text": [
            "Epoch 17/50\n",
            "  Loss: 0.2501\n",
            "  Training Binary Accuracy: 96.87%\n",
            "  Training Multi-Class Accuracy: 87.33%\n",
            "  Validation Binary Accuracy: 85.82%\n",
            "  Validation Multi-Class Accuracy: 72.64%\n"
          ]
        },
        {
          "output_type": "stream",
          "name": "stderr",
          "text": [
            "/usr/local/lib/python3.10/dist-packages/PIL/Image.py:3406: DecompressionBombWarning: Image size (89747104 pixels) exceeds limit of 89478485 pixels, could be decompression bomb DOS attack.\n",
            "  warnings.warn(\n",
            "/usr/local/lib/python3.10/dist-packages/PIL/Image.py:3406: DecompressionBombWarning: Image size (104688771 pixels) exceeds limit of 89478485 pixels, could be decompression bomb DOS attack.\n",
            "  warnings.warn(\n"
          ]
        },
        {
          "output_type": "stream",
          "name": "stdout",
          "text": [
            "Epoch 18/50\n",
            "  Loss: 0.2733\n",
            "  Training Binary Accuracy: 95.87%\n",
            "  Training Multi-Class Accuracy: 86.12%\n",
            "  Validation Binary Accuracy: 87.56%\n",
            "  Validation Multi-Class Accuracy: 73.38%\n"
          ]
        },
        {
          "output_type": "stream",
          "name": "stderr",
          "text": [
            "/usr/local/lib/python3.10/dist-packages/PIL/Image.py:3406: DecompressionBombWarning: Image size (89747104 pixels) exceeds limit of 89478485 pixels, could be decompression bomb DOS attack.\n",
            "  warnings.warn(\n",
            "/usr/local/lib/python3.10/dist-packages/PIL/Image.py:3406: DecompressionBombWarning: Image size (104688771 pixels) exceeds limit of 89478485 pixels, could be decompression bomb DOS attack.\n",
            "  warnings.warn(\n"
          ]
        },
        {
          "output_type": "stream",
          "name": "stdout",
          "text": [
            "Epoch 19/50\n",
            "  Loss: 0.2586\n",
            "  Training Binary Accuracy: 96.24%\n",
            "  Training Multi-Class Accuracy: 87.02%\n",
            "  Validation Binary Accuracy: 88.81%\n",
            "  Validation Multi-Class Accuracy: 73.13%\n"
          ]
        },
        {
          "output_type": "stream",
          "name": "stderr",
          "text": [
            "/usr/local/lib/python3.10/dist-packages/PIL/Image.py:3406: DecompressionBombWarning: Image size (104688771 pixels) exceeds limit of 89478485 pixels, could be decompression bomb DOS attack.\n",
            "  warnings.warn(\n",
            "/usr/local/lib/python3.10/dist-packages/PIL/Image.py:3406: DecompressionBombWarning: Image size (89747104 pixels) exceeds limit of 89478485 pixels, could be decompression bomb DOS attack.\n",
            "  warnings.warn(\n"
          ]
        },
        {
          "output_type": "stream",
          "name": "stdout",
          "text": [
            "Epoch 20/50\n",
            "  Loss: 0.2005\n",
            "  Training Binary Accuracy: 98.20%\n",
            "  Training Multi-Class Accuracy: 90.09%\n",
            "  Validation Binary Accuracy: 90.30%\n",
            "  Validation Multi-Class Accuracy: 78.11%\n"
          ]
        },
        {
          "output_type": "stream",
          "name": "stderr",
          "text": [
            "/usr/local/lib/python3.10/dist-packages/PIL/Image.py:3406: DecompressionBombWarning: Image size (89747104 pixels) exceeds limit of 89478485 pixels, could be decompression bomb DOS attack.\n",
            "  warnings.warn(\n",
            "/usr/local/lib/python3.10/dist-packages/PIL/Image.py:3406: DecompressionBombWarning: Image size (104688771 pixels) exceeds limit of 89478485 pixels, could be decompression bomb DOS attack.\n",
            "  warnings.warn(\n"
          ]
        },
        {
          "output_type": "stream",
          "name": "stdout",
          "text": [
            "Epoch 21/50\n",
            "  Loss: 0.1852\n",
            "  Training Binary Accuracy: 98.20%\n",
            "  Training Multi-Class Accuracy: 90.25%\n",
            "  Validation Binary Accuracy: 90.05%\n",
            "  Validation Multi-Class Accuracy: 77.61%\n"
          ]
        },
        {
          "output_type": "stream",
          "name": "stderr",
          "text": [
            "/usr/local/lib/python3.10/dist-packages/PIL/Image.py:3406: DecompressionBombWarning: Image size (89747104 pixels) exceeds limit of 89478485 pixels, could be decompression bomb DOS attack.\n",
            "  warnings.warn(\n",
            "/usr/local/lib/python3.10/dist-packages/PIL/Image.py:3406: DecompressionBombWarning: Image size (104688771 pixels) exceeds limit of 89478485 pixels, could be decompression bomb DOS attack.\n",
            "  warnings.warn(\n"
          ]
        },
        {
          "output_type": "stream",
          "name": "stdout",
          "text": [
            "Epoch 22/50\n",
            "  Loss: 0.2102\n",
            "  Training Binary Accuracy: 96.98%\n",
            "  Training Multi-Class Accuracy: 89.72%\n",
            "  Validation Binary Accuracy: 86.82%\n",
            "  Validation Multi-Class Accuracy: 69.15%\n"
          ]
        },
        {
          "output_type": "stream",
          "name": "stderr",
          "text": [
            "/usr/local/lib/python3.10/dist-packages/PIL/Image.py:3406: DecompressionBombWarning: Image size (104688771 pixels) exceeds limit of 89478485 pixels, could be decompression bomb DOS attack.\n",
            "  warnings.warn(\n",
            "/usr/local/lib/python3.10/dist-packages/PIL/Image.py:3406: DecompressionBombWarning: Image size (89747104 pixels) exceeds limit of 89478485 pixels, could be decompression bomb DOS attack.\n",
            "  warnings.warn(\n"
          ]
        },
        {
          "output_type": "stream",
          "name": "stdout",
          "text": [
            "Epoch 23/50\n",
            "  Loss: 0.2270\n",
            "  Training Binary Accuracy: 96.71%\n",
            "  Training Multi-Class Accuracy: 88.55%\n",
            "  Validation Binary Accuracy: 88.81%\n",
            "  Validation Multi-Class Accuracy: 73.13%\n"
          ]
        },
        {
          "output_type": "stream",
          "name": "stderr",
          "text": [
            "/usr/local/lib/python3.10/dist-packages/PIL/Image.py:3406: DecompressionBombWarning: Image size (104688771 pixels) exceeds limit of 89478485 pixels, could be decompression bomb DOS attack.\n",
            "  warnings.warn(\n",
            "/usr/local/lib/python3.10/dist-packages/PIL/Image.py:3406: DecompressionBombWarning: Image size (89747104 pixels) exceeds limit of 89478485 pixels, could be decompression bomb DOS attack.\n",
            "  warnings.warn(\n"
          ]
        },
        {
          "output_type": "stream",
          "name": "stdout",
          "text": [
            "Epoch 24/50\n",
            "  Loss: 0.1535\n",
            "  Training Binary Accuracy: 98.09%\n",
            "  Training Multi-Class Accuracy: 92.37%\n",
            "  Validation Binary Accuracy: 89.05%\n",
            "  Validation Multi-Class Accuracy: 73.38%\n"
          ]
        },
        {
          "output_type": "stream",
          "name": "stderr",
          "text": [
            "/usr/local/lib/python3.10/dist-packages/PIL/Image.py:3406: DecompressionBombWarning: Image size (89747104 pixels) exceeds limit of 89478485 pixels, could be decompression bomb DOS attack.\n",
            "  warnings.warn(\n",
            "/usr/local/lib/python3.10/dist-packages/PIL/Image.py:3406: DecompressionBombWarning: Image size (104688771 pixels) exceeds limit of 89478485 pixels, could be decompression bomb DOS attack.\n",
            "  warnings.warn(\n"
          ]
        },
        {
          "output_type": "stream",
          "name": "stdout",
          "text": [
            "Epoch 25/50\n",
            "  Loss: 0.1364\n",
            "  Training Binary Accuracy: 98.52%\n",
            "  Training Multi-Class Accuracy: 92.90%\n",
            "  Validation Binary Accuracy: 89.80%\n",
            "  Validation Multi-Class Accuracy: 73.88%\n"
          ]
        },
        {
          "output_type": "stream",
          "name": "stderr",
          "text": [
            "/usr/local/lib/python3.10/dist-packages/PIL/Image.py:3406: DecompressionBombWarning: Image size (89747104 pixels) exceeds limit of 89478485 pixels, could be decompression bomb DOS attack.\n",
            "  warnings.warn(\n",
            "/usr/local/lib/python3.10/dist-packages/PIL/Image.py:3406: DecompressionBombWarning: Image size (104688771 pixels) exceeds limit of 89478485 pixels, could be decompression bomb DOS attack.\n",
            "  warnings.warn(\n"
          ]
        },
        {
          "output_type": "stream",
          "name": "stdout",
          "text": [
            "Epoch 26/50\n",
            "  Loss: 0.1622\n",
            "  Training Binary Accuracy: 97.67%\n",
            "  Training Multi-Class Accuracy: 92.26%\n",
            "  Validation Binary Accuracy: 90.55%\n",
            "  Validation Multi-Class Accuracy: 77.11%\n"
          ]
        },
        {
          "output_type": "stream",
          "name": "stderr",
          "text": [
            "/usr/local/lib/python3.10/dist-packages/PIL/Image.py:3406: DecompressionBombWarning: Image size (89747104 pixels) exceeds limit of 89478485 pixels, could be decompression bomb DOS attack.\n",
            "  warnings.warn(\n",
            "/usr/local/lib/python3.10/dist-packages/PIL/Image.py:3406: DecompressionBombWarning: Image size (104688771 pixels) exceeds limit of 89478485 pixels, could be decompression bomb DOS attack.\n",
            "  warnings.warn(\n"
          ]
        },
        {
          "output_type": "stream",
          "name": "stdout",
          "text": [
            "Epoch 27/50\n",
            "  Loss: 0.1485\n",
            "  Training Binary Accuracy: 97.93%\n",
            "  Training Multi-Class Accuracy: 92.79%\n",
            "  Validation Binary Accuracy: 88.56%\n",
            "  Validation Multi-Class Accuracy: 74.63%\n"
          ]
        },
        {
          "output_type": "stream",
          "name": "stderr",
          "text": [
            "/usr/local/lib/python3.10/dist-packages/PIL/Image.py:3406: DecompressionBombWarning: Image size (89747104 pixels) exceeds limit of 89478485 pixels, could be decompression bomb DOS attack.\n",
            "  warnings.warn(\n",
            "/usr/local/lib/python3.10/dist-packages/PIL/Image.py:3406: DecompressionBombWarning: Image size (104688771 pixels) exceeds limit of 89478485 pixels, could be decompression bomb DOS attack.\n",
            "  warnings.warn(\n"
          ]
        },
        {
          "output_type": "stream",
          "name": "stdout",
          "text": [
            "Epoch 28/50\n",
            "  Loss: 0.1398\n",
            "  Training Binary Accuracy: 98.78%\n",
            "  Training Multi-Class Accuracy: 92.79%\n",
            "  Validation Binary Accuracy: 89.55%\n",
            "  Validation Multi-Class Accuracy: 76.12%\n"
          ]
        },
        {
          "output_type": "stream",
          "name": "stderr",
          "text": [
            "/usr/local/lib/python3.10/dist-packages/PIL/Image.py:3406: DecompressionBombWarning: Image size (104688771 pixels) exceeds limit of 89478485 pixels, could be decompression bomb DOS attack.\n",
            "  warnings.warn(\n",
            "/usr/local/lib/python3.10/dist-packages/PIL/Image.py:3406: DecompressionBombWarning: Image size (89747104 pixels) exceeds limit of 89478485 pixels, could be decompression bomb DOS attack.\n",
            "  warnings.warn(\n"
          ]
        },
        {
          "output_type": "stream",
          "name": "stdout",
          "text": [
            "Epoch 29/50\n",
            "  Loss: 0.1346\n",
            "  Training Binary Accuracy: 97.35%\n",
            "  Training Multi-Class Accuracy: 92.90%\n",
            "  Validation Binary Accuracy: 92.79%\n",
            "  Validation Multi-Class Accuracy: 75.62%\n"
          ]
        },
        {
          "output_type": "stream",
          "name": "stderr",
          "text": [
            "/usr/local/lib/python3.10/dist-packages/PIL/Image.py:3406: DecompressionBombWarning: Image size (104688771 pixels) exceeds limit of 89478485 pixels, could be decompression bomb DOS attack.\n",
            "  warnings.warn(\n",
            "/usr/local/lib/python3.10/dist-packages/PIL/Image.py:3406: DecompressionBombWarning: Image size (89747104 pixels) exceeds limit of 89478485 pixels, could be decompression bomb DOS attack.\n",
            "  warnings.warn(\n"
          ]
        },
        {
          "output_type": "stream",
          "name": "stdout",
          "text": [
            "Epoch 30/50\n",
            "  Loss: 0.1486\n",
            "  Training Binary Accuracy: 97.88%\n",
            "  Training Multi-Class Accuracy: 92.74%\n",
            "  Validation Binary Accuracy: 86.57%\n",
            "  Validation Multi-Class Accuracy: 71.39%\n"
          ]
        },
        {
          "output_type": "stream",
          "name": "stderr",
          "text": [
            "/usr/local/lib/python3.10/dist-packages/PIL/Image.py:3406: DecompressionBombWarning: Image size (104688771 pixels) exceeds limit of 89478485 pixels, could be decompression bomb DOS attack.\n",
            "  warnings.warn(\n",
            "/usr/local/lib/python3.10/dist-packages/PIL/Image.py:3406: DecompressionBombWarning: Image size (89747104 pixels) exceeds limit of 89478485 pixels, could be decompression bomb DOS attack.\n",
            "  warnings.warn(\n"
          ]
        },
        {
          "output_type": "stream",
          "name": "stdout",
          "text": [
            "Epoch 31/50\n",
            "  Loss: 0.1096\n",
            "  Training Binary Accuracy: 98.83%\n",
            "  Training Multi-Class Accuracy: 94.28%\n",
            "  Validation Binary Accuracy: 92.04%\n",
            "  Validation Multi-Class Accuracy: 79.10%\n"
          ]
        },
        {
          "output_type": "stream",
          "name": "stderr",
          "text": [
            "/usr/local/lib/python3.10/dist-packages/PIL/Image.py:3406: DecompressionBombWarning: Image size (104688771 pixels) exceeds limit of 89478485 pixels, could be decompression bomb DOS attack.\n",
            "  warnings.warn(\n",
            "/usr/local/lib/python3.10/dist-packages/PIL/Image.py:3406: DecompressionBombWarning: Image size (89747104 pixels) exceeds limit of 89478485 pixels, could be decompression bomb DOS attack.\n",
            "  warnings.warn(\n"
          ]
        },
        {
          "output_type": "stream",
          "name": "stdout",
          "text": [
            "Epoch 32/50\n",
            "  Loss: 0.1215\n",
            "  Training Binary Accuracy: 98.15%\n",
            "  Training Multi-Class Accuracy: 93.96%\n",
            "  Validation Binary Accuracy: 89.80%\n",
            "  Validation Multi-Class Accuracy: 77.61%\n"
          ]
        },
        {
          "output_type": "stream",
          "name": "stderr",
          "text": [
            "/usr/local/lib/python3.10/dist-packages/PIL/Image.py:3406: DecompressionBombWarning: Image size (104688771 pixels) exceeds limit of 89478485 pixels, could be decompression bomb DOS attack.\n",
            "  warnings.warn(\n",
            "/usr/local/lib/python3.10/dist-packages/PIL/Image.py:3406: DecompressionBombWarning: Image size (89747104 pixels) exceeds limit of 89478485 pixels, could be decompression bomb DOS attack.\n",
            "  warnings.warn(\n"
          ]
        },
        {
          "output_type": "stream",
          "name": "stdout",
          "text": [
            "Epoch 33/50\n",
            "  Loss: 0.1124\n",
            "  Training Binary Accuracy: 98.41%\n",
            "  Training Multi-Class Accuracy: 94.65%\n",
            "  Validation Binary Accuracy: 91.54%\n",
            "  Validation Multi-Class Accuracy: 76.62%\n"
          ]
        },
        {
          "output_type": "stream",
          "name": "stderr",
          "text": [
            "/usr/local/lib/python3.10/dist-packages/PIL/Image.py:3406: DecompressionBombWarning: Image size (104688771 pixels) exceeds limit of 89478485 pixels, could be decompression bomb DOS attack.\n",
            "  warnings.warn(\n",
            "/usr/local/lib/python3.10/dist-packages/PIL/Image.py:3406: DecompressionBombWarning: Image size (89747104 pixels) exceeds limit of 89478485 pixels, could be decompression bomb DOS attack.\n",
            "  warnings.warn(\n"
          ]
        },
        {
          "output_type": "stream",
          "name": "stdout",
          "text": [
            "Epoch 34/50\n",
            "  Loss: 0.0883\n",
            "  Training Binary Accuracy: 99.26%\n",
            "  Training Multi-Class Accuracy: 96.50%\n",
            "  Validation Binary Accuracy: 88.81%\n",
            "  Validation Multi-Class Accuracy: 74.63%\n"
          ]
        },
        {
          "output_type": "stream",
          "name": "stderr",
          "text": [
            "/usr/local/lib/python3.10/dist-packages/PIL/Image.py:3406: DecompressionBombWarning: Image size (104688771 pixels) exceeds limit of 89478485 pixels, could be decompression bomb DOS attack.\n",
            "  warnings.warn(\n",
            "/usr/local/lib/python3.10/dist-packages/PIL/Image.py:3406: DecompressionBombWarning: Image size (89747104 pixels) exceeds limit of 89478485 pixels, could be decompression bomb DOS attack.\n",
            "  warnings.warn(\n"
          ]
        },
        {
          "output_type": "stream",
          "name": "stdout",
          "text": [
            "Epoch 35/50\n",
            "  Loss: 0.1075\n",
            "  Training Binary Accuracy: 98.09%\n",
            "  Training Multi-Class Accuracy: 95.39%\n",
            "  Validation Binary Accuracy: 88.06%\n",
            "  Validation Multi-Class Accuracy: 73.88%\n"
          ]
        },
        {
          "output_type": "stream",
          "name": "stderr",
          "text": [
            "/usr/local/lib/python3.10/dist-packages/PIL/Image.py:3406: DecompressionBombWarning: Image size (104688771 pixels) exceeds limit of 89478485 pixels, could be decompression bomb DOS attack.\n",
            "  warnings.warn(\n",
            "/usr/local/lib/python3.10/dist-packages/PIL/Image.py:3406: DecompressionBombWarning: Image size (89747104 pixels) exceeds limit of 89478485 pixels, could be decompression bomb DOS attack.\n",
            "  warnings.warn(\n"
          ]
        },
        {
          "output_type": "stream",
          "name": "stdout",
          "text": [
            "Epoch 36/50\n",
            "  Loss: 0.1247\n",
            "  Training Binary Accuracy: 98.15%\n",
            "  Training Multi-Class Accuracy: 93.91%\n",
            "  Validation Binary Accuracy: 87.81%\n",
            "  Validation Multi-Class Accuracy: 73.13%\n"
          ]
        },
        {
          "output_type": "stream",
          "name": "stderr",
          "text": [
            "/usr/local/lib/python3.10/dist-packages/PIL/Image.py:3406: DecompressionBombWarning: Image size (104688771 pixels) exceeds limit of 89478485 pixels, could be decompression bomb DOS attack.\n",
            "  warnings.warn(\n",
            "/usr/local/lib/python3.10/dist-packages/PIL/Image.py:3406: DecompressionBombWarning: Image size (89747104 pixels) exceeds limit of 89478485 pixels, could be decompression bomb DOS attack.\n",
            "  warnings.warn(\n"
          ]
        },
        {
          "output_type": "stream",
          "name": "stdout",
          "text": [
            "Epoch 37/50\n",
            "  Loss: 0.0970\n",
            "  Training Binary Accuracy: 98.78%\n",
            "  Training Multi-Class Accuracy: 95.55%\n",
            "  Validation Binary Accuracy: 91.29%\n",
            "  Validation Multi-Class Accuracy: 79.10%\n"
          ]
        },
        {
          "output_type": "stream",
          "name": "stderr",
          "text": [
            "/usr/local/lib/python3.10/dist-packages/PIL/Image.py:3406: DecompressionBombWarning: Image size (89747104 pixels) exceeds limit of 89478485 pixels, could be decompression bomb DOS attack.\n",
            "  warnings.warn(\n",
            "/usr/local/lib/python3.10/dist-packages/PIL/Image.py:3406: DecompressionBombWarning: Image size (104688771 pixels) exceeds limit of 89478485 pixels, could be decompression bomb DOS attack.\n",
            "  warnings.warn(\n"
          ]
        },
        {
          "output_type": "stream",
          "name": "stdout",
          "text": [
            "Epoch 38/50\n",
            "  Loss: 0.1024\n",
            "  Training Binary Accuracy: 97.99%\n",
            "  Training Multi-Class Accuracy: 95.65%\n",
            "  Validation Binary Accuracy: 90.30%\n",
            "  Validation Multi-Class Accuracy: 76.37%\n"
          ]
        },
        {
          "output_type": "stream",
          "name": "stderr",
          "text": [
            "/usr/local/lib/python3.10/dist-packages/PIL/Image.py:3406: DecompressionBombWarning: Image size (104688771 pixels) exceeds limit of 89478485 pixels, could be decompression bomb DOS attack.\n",
            "  warnings.warn(\n",
            "/usr/local/lib/python3.10/dist-packages/PIL/Image.py:3406: DecompressionBombWarning: Image size (89747104 pixels) exceeds limit of 89478485 pixels, could be decompression bomb DOS attack.\n",
            "  warnings.warn(\n"
          ]
        },
        {
          "output_type": "stream",
          "name": "stdout",
          "text": [
            "Epoch 39/50\n",
            "  Loss: 0.1063\n",
            "  Training Binary Accuracy: 97.93%\n",
            "  Training Multi-Class Accuracy: 94.81%\n",
            "  Validation Binary Accuracy: 90.30%\n",
            "  Validation Multi-Class Accuracy: 77.36%\n"
          ]
        },
        {
          "output_type": "stream",
          "name": "stderr",
          "text": [
            "/usr/local/lib/python3.10/dist-packages/PIL/Image.py:3406: DecompressionBombWarning: Image size (89747104 pixels) exceeds limit of 89478485 pixels, could be decompression bomb DOS attack.\n",
            "  warnings.warn(\n",
            "/usr/local/lib/python3.10/dist-packages/PIL/Image.py:3406: DecompressionBombWarning: Image size (104688771 pixels) exceeds limit of 89478485 pixels, could be decompression bomb DOS attack.\n",
            "  warnings.warn(\n"
          ]
        },
        {
          "output_type": "stream",
          "name": "stdout",
          "text": [
            "Epoch 40/50\n",
            "  Loss: 0.0923\n",
            "  Training Binary Accuracy: 98.94%\n",
            "  Training Multi-Class Accuracy: 95.39%\n",
            "  Validation Binary Accuracy: 90.80%\n",
            "  Validation Multi-Class Accuracy: 77.11%\n"
          ]
        },
        {
          "output_type": "stream",
          "name": "stderr",
          "text": [
            "/usr/local/lib/python3.10/dist-packages/PIL/Image.py:3406: DecompressionBombWarning: Image size (104688771 pixels) exceeds limit of 89478485 pixels, could be decompression bomb DOS attack.\n",
            "  warnings.warn(\n",
            "/usr/local/lib/python3.10/dist-packages/PIL/Image.py:3406: DecompressionBombWarning: Image size (89747104 pixels) exceeds limit of 89478485 pixels, could be decompression bomb DOS attack.\n",
            "  warnings.warn(\n"
          ]
        },
        {
          "output_type": "stream",
          "name": "stdout",
          "text": [
            "Epoch 41/50\n",
            "  Loss: 0.0761\n",
            "  Training Binary Accuracy: 98.68%\n",
            "  Training Multi-Class Accuracy: 96.34%\n",
            "  Validation Binary Accuracy: 89.80%\n",
            "  Validation Multi-Class Accuracy: 75.37%\n"
          ]
        },
        {
          "output_type": "stream",
          "name": "stderr",
          "text": [
            "/usr/local/lib/python3.10/dist-packages/PIL/Image.py:3406: DecompressionBombWarning: Image size (89747104 pixels) exceeds limit of 89478485 pixels, could be decompression bomb DOS attack.\n",
            "  warnings.warn(\n",
            "/usr/local/lib/python3.10/dist-packages/PIL/Image.py:3406: DecompressionBombWarning: Image size (104688771 pixels) exceeds limit of 89478485 pixels, could be decompression bomb DOS attack.\n",
            "  warnings.warn(\n"
          ]
        },
        {
          "output_type": "stream",
          "name": "stdout",
          "text": [
            "Epoch 42/50\n",
            "  Loss: 0.0922\n",
            "  Training Binary Accuracy: 98.68%\n",
            "  Training Multi-Class Accuracy: 96.40%\n",
            "  Validation Binary Accuracy: 90.05%\n",
            "  Validation Multi-Class Accuracy: 76.37%\n"
          ]
        },
        {
          "output_type": "stream",
          "name": "stderr",
          "text": [
            "/usr/local/lib/python3.10/dist-packages/PIL/Image.py:3406: DecompressionBombWarning: Image size (104688771 pixels) exceeds limit of 89478485 pixels, could be decompression bomb DOS attack.\n",
            "  warnings.warn(\n",
            "/usr/local/lib/python3.10/dist-packages/PIL/Image.py:3406: DecompressionBombWarning: Image size (89747104 pixels) exceeds limit of 89478485 pixels, could be decompression bomb DOS attack.\n",
            "  warnings.warn(\n"
          ]
        },
        {
          "output_type": "stream",
          "name": "stdout",
          "text": [
            "Epoch 43/50\n",
            "  Loss: 0.0662\n",
            "  Training Binary Accuracy: 99.36%\n",
            "  Training Multi-Class Accuracy: 96.87%\n",
            "  Validation Binary Accuracy: 92.54%\n",
            "  Validation Multi-Class Accuracy: 77.11%\n"
          ]
        },
        {
          "output_type": "stream",
          "name": "stderr",
          "text": [
            "/usr/local/lib/python3.10/dist-packages/PIL/Image.py:3406: DecompressionBombWarning: Image size (89747104 pixels) exceeds limit of 89478485 pixels, could be decompression bomb DOS attack.\n",
            "  warnings.warn(\n",
            "/usr/local/lib/python3.10/dist-packages/PIL/Image.py:3406: DecompressionBombWarning: Image size (104688771 pixels) exceeds limit of 89478485 pixels, could be decompression bomb DOS attack.\n",
            "  warnings.warn(\n"
          ]
        },
        {
          "output_type": "stream",
          "name": "stdout",
          "text": [
            "Epoch 44/50\n",
            "  Loss: 0.0773\n",
            "  Training Binary Accuracy: 98.73%\n",
            "  Training Multi-Class Accuracy: 96.40%\n",
            "  Validation Binary Accuracy: 91.29%\n",
            "  Validation Multi-Class Accuracy: 75.37%\n"
          ]
        },
        {
          "output_type": "stream",
          "name": "stderr",
          "text": [
            "/usr/local/lib/python3.10/dist-packages/PIL/Image.py:3406: DecompressionBombWarning: Image size (104688771 pixels) exceeds limit of 89478485 pixels, could be decompression bomb DOS attack.\n",
            "  warnings.warn(\n",
            "/usr/local/lib/python3.10/dist-packages/PIL/Image.py:3406: DecompressionBombWarning: Image size (89747104 pixels) exceeds limit of 89478485 pixels, could be decompression bomb DOS attack.\n",
            "  warnings.warn(\n"
          ]
        },
        {
          "output_type": "stream",
          "name": "stdout",
          "text": [
            "Epoch 45/50\n",
            "  Loss: 0.0711\n",
            "  Training Binary Accuracy: 99.15%\n",
            "  Training Multi-Class Accuracy: 96.61%\n",
            "  Validation Binary Accuracy: 91.54%\n",
            "  Validation Multi-Class Accuracy: 76.12%\n"
          ]
        },
        {
          "output_type": "stream",
          "name": "stderr",
          "text": [
            "/usr/local/lib/python3.10/dist-packages/PIL/Image.py:3406: DecompressionBombWarning: Image size (89747104 pixels) exceeds limit of 89478485 pixels, could be decompression bomb DOS attack.\n",
            "  warnings.warn(\n",
            "/usr/local/lib/python3.10/dist-packages/PIL/Image.py:3406: DecompressionBombWarning: Image size (104688771 pixels) exceeds limit of 89478485 pixels, could be decompression bomb DOS attack.\n",
            "  warnings.warn(\n"
          ]
        },
        {
          "output_type": "stream",
          "name": "stdout",
          "text": [
            "Epoch 46/50\n",
            "  Loss: 0.0791\n",
            "  Training Binary Accuracy: 98.68%\n",
            "  Training Multi-Class Accuracy: 96.34%\n",
            "  Validation Binary Accuracy: 90.30%\n",
            "  Validation Multi-Class Accuracy: 77.11%\n"
          ]
        },
        {
          "output_type": "stream",
          "name": "stderr",
          "text": [
            "/usr/local/lib/python3.10/dist-packages/PIL/Image.py:3406: DecompressionBombWarning: Image size (104688771 pixels) exceeds limit of 89478485 pixels, could be decompression bomb DOS attack.\n",
            "  warnings.warn(\n",
            "/usr/local/lib/python3.10/dist-packages/PIL/Image.py:3406: DecompressionBombWarning: Image size (89747104 pixels) exceeds limit of 89478485 pixels, could be decompression bomb DOS attack.\n",
            "  warnings.warn(\n"
          ]
        },
        {
          "output_type": "stream",
          "name": "stdout",
          "text": [
            "Epoch 47/50\n",
            "  Loss: 0.0673\n",
            "  Training Binary Accuracy: 99.10%\n",
            "  Training Multi-Class Accuracy: 97.14%\n",
            "  Validation Binary Accuracy: 92.04%\n",
            "  Validation Multi-Class Accuracy: 76.62%\n"
          ]
        },
        {
          "output_type": "stream",
          "name": "stderr",
          "text": [
            "/usr/local/lib/python3.10/dist-packages/PIL/Image.py:3406: DecompressionBombWarning: Image size (104688771 pixels) exceeds limit of 89478485 pixels, could be decompression bomb DOS attack.\n",
            "  warnings.warn(\n",
            "/usr/local/lib/python3.10/dist-packages/PIL/Image.py:3406: DecompressionBombWarning: Image size (89747104 pixels) exceeds limit of 89478485 pixels, could be decompression bomb DOS attack.\n",
            "  warnings.warn(\n"
          ]
        },
        {
          "output_type": "stream",
          "name": "stdout",
          "text": [
            "Epoch 48/50\n",
            "  Loss: 0.0871\n",
            "  Training Binary Accuracy: 98.62%\n",
            "  Training Multi-Class Accuracy: 95.97%\n",
            "  Validation Binary Accuracy: 87.81%\n",
            "  Validation Multi-Class Accuracy: 76.37%\n"
          ]
        },
        {
          "output_type": "stream",
          "name": "stderr",
          "text": [
            "/usr/local/lib/python3.10/dist-packages/PIL/Image.py:3406: DecompressionBombWarning: Image size (89747104 pixels) exceeds limit of 89478485 pixels, could be decompression bomb DOS attack.\n",
            "  warnings.warn(\n",
            "/usr/local/lib/python3.10/dist-packages/PIL/Image.py:3406: DecompressionBombWarning: Image size (104688771 pixels) exceeds limit of 89478485 pixels, could be decompression bomb DOS attack.\n",
            "  warnings.warn(\n"
          ]
        },
        {
          "output_type": "stream",
          "name": "stdout",
          "text": [
            "Epoch 49/50\n",
            "  Loss: 0.0947\n",
            "  Training Binary Accuracy: 98.46%\n",
            "  Training Multi-Class Accuracy: 96.18%\n",
            "  Validation Binary Accuracy: 88.81%\n",
            "  Validation Multi-Class Accuracy: 76.62%\n"
          ]
        },
        {
          "output_type": "stream",
          "name": "stderr",
          "text": [
            "/usr/local/lib/python3.10/dist-packages/PIL/Image.py:3406: DecompressionBombWarning: Image size (104688771 pixels) exceeds limit of 89478485 pixels, could be decompression bomb DOS attack.\n",
            "  warnings.warn(\n",
            "/usr/local/lib/python3.10/dist-packages/PIL/Image.py:3406: DecompressionBombWarning: Image size (89747104 pixels) exceeds limit of 89478485 pixels, could be decompression bomb DOS attack.\n",
            "  warnings.warn(\n"
          ]
        },
        {
          "output_type": "stream",
          "name": "stdout",
          "text": [
            "Epoch 50/50\n",
            "  Loss: 0.0758\n",
            "  Training Binary Accuracy: 98.78%\n",
            "  Training Multi-Class Accuracy: 96.45%\n",
            "  Validation Binary Accuracy: 91.54%\n",
            "  Validation Multi-Class Accuracy: 79.35%\n"
          ]
        }
      ],
      "source": [
        "epoch_list = []\n",
        "loss_list = []\n",
        "train_binary_accuracy_list = []\n",
        "train_multi_class_accuracy_list = []\n",
        "val_binary_accuracy_list = []\n",
        "val_multi_class_accuracy_list = []\n",
        "\n",
        "# Training loop\n",
        "epochs = 50  # You can adjust the number of epochs based on your needs\n",
        "for epoch in range(epochs):\n",
        "    model.train()\n",
        "    running_loss = 0.0\n",
        "    correct_train_binary = 0\n",
        "    total_train_binary = 0\n",
        "    correct_train_multi_class = 0\n",
        "    total_train_multi_class = 0\n",
        "\n",
        "    # Training Loop\n",
        "    for images, (binary_labels, multi_class_labels) in train_loader:\n",
        "        images = images.to(device)\n",
        "        binary_labels = binary_labels.to(device).float()\n",
        "        multi_class_labels = multi_class_labels.to(device).long()\n",
        "\n",
        "        optimizer.zero_grad()\n",
        "        features = model(images)\n",
        "        binary_output = binary_head(features)\n",
        "        multi_class_output = multi_class_head(features)\n",
        "\n",
        "        # Compute the combined loss\n",
        "        loss = combined_loss(binary_output.squeeze(), binary_labels, multi_class_output, multi_class_labels)\n",
        "        loss.backward()\n",
        "        optimizer.step()\n",
        "\n",
        "        running_loss += loss.item()\n",
        "\n",
        "        # Calculate training accuracy for binary classification\n",
        "        predicted_binary = (binary_output.squeeze() > 0.5).int()  # Convert probabilities to binary predictions\n",
        "        correct_train_binary += (predicted_binary == binary_labels.int()).sum().item()\n",
        "        total_train_binary += binary_labels.size(0)\n",
        "\n",
        "        # Calculate training accuracy for multi-class classification\n",
        "        _, predicted_multi_class = torch.max(multi_class_output, 1)\n",
        "        correct_train_multi_class += (predicted_multi_class == multi_class_labels).sum().item()\n",
        "        total_train_multi_class += multi_class_labels.size(0)\n",
        "\n",
        "    # Calculate the average loss and training accuracies\n",
        "    avg_loss = running_loss / len(train_loader)\n",
        "    train_binary_accuracy = 100 * correct_train_binary / total_train_binary\n",
        "    train_multi_class_accuracy = 100 * correct_train_multi_class / total_train_multi_class\n",
        "\n",
        "    # Validation Loop\n",
        "    model.eval()\n",
        "    correct_val_binary = 0\n",
        "    total_val_binary = 0\n",
        "    correct_val_multi_class = 0\n",
        "    total_val_multi_class = 0\n",
        "    with torch.no_grad():\n",
        "        for images, (binary_labels, multi_class_labels) in val_loader:\n",
        "            images = images.to(device)\n",
        "            binary_labels = binary_labels.to(device).float()\n",
        "            multi_class_labels = multi_class_labels.to(device).long()\n",
        "\n",
        "            features = model(images)\n",
        "            binary_output = binary_head(features)\n",
        "            multi_class_output = multi_class_head(features)\n",
        "\n",
        "            # Calculate validation accuracy for binary classification\n",
        "            predicted_binary = (binary_output.squeeze() > 0.5).int()\n",
        "            correct_val_binary += (predicted_binary == binary_labels.int()).sum().item()\n",
        "            total_val_binary += binary_labels.size(0)\n",
        "\n",
        "            # Calculate validation accuracy for multi-class classification\n",
        "            _, predicted_multi_class = torch.max(multi_class_output, 1)\n",
        "            correct_val_multi_class += (predicted_multi_class == multi_class_labels).sum().item()\n",
        "            total_val_multi_class += multi_class_labels.size(0)\n",
        "\n",
        "    # Calculate validation accuracies\n",
        "    val_binary_accuracy = 100 * correct_val_binary / total_val_binary\n",
        "    val_multi_class_accuracy = 100 * correct_val_multi_class / total_val_multi_class\n",
        "\n",
        "    # Store the metrics\n",
        "    epoch_list.append(epoch + 1)\n",
        "    loss_list.append(avg_loss)\n",
        "    train_binary_accuracy_list.append(train_binary_accuracy)\n",
        "    train_multi_class_accuracy_list.append(train_multi_class_accuracy)\n",
        "    val_binary_accuracy_list.append(val_binary_accuracy)\n",
        "    val_multi_class_accuracy_list.append(val_multi_class_accuracy)\n",
        "\n",
        "    # Log the metrics\n",
        "    print(f\"Epoch {epoch+1}/{epochs}\")\n",
        "    print(f\"  Loss: {avg_loss:.4f}\")\n",
        "    print(f\"  Training Binary Accuracy: {train_binary_accuracy:.2f}%\")\n",
        "    print(f\"  Training Multi-Class Accuracy: {train_multi_class_accuracy:.2f}%\")\n",
        "    print(f\"  Validation Binary Accuracy: {val_binary_accuracy:.2f}%\")\n",
        "    print(f\"  Validation Multi-Class Accuracy: {val_multi_class_accuracy:.2f}%\")"
      ]
    },
    {
      "cell_type": "code",
      "execution_count": null,
      "metadata": {
        "id": "PlbISfkHWn8b",
        "colab": {
          "base_uri": "https://localhost:8080/"
        },
        "outputId": "bddd7f46-0fef-48f3-bff4-5a8628a02acd"
      },
      "outputs": [
        {
          "output_type": "stream",
          "name": "stdout",
          "text": [
            "Model saved successfully!\n"
          ]
        }
      ],
      "source": [
        "# Save the model's state dictionary\n",
        "torch.save(model.state_dict(), \"aug2_efficientnetv2_multi_classifier.pth\")\n",
        "print(\"Model saved successfully!\")"
      ]
    },
    {
      "cell_type": "code",
      "execution_count": null,
      "metadata": {
        "id": "Dxt2ytzvZdXp",
        "colab": {
          "base_uri": "https://localhost:8080/"
        },
        "outputId": "17c4a674-1486-4d82-a929-1b9a7ce44eea"
      },
      "outputs": [
        {
          "output_type": "stream",
          "name": "stdout",
          "text": [
            "Training results saved successfully!\n"
          ]
        }
      ],
      "source": [
        "# Save the metrics to a CSV file\n",
        "data = {\n",
        "    'Epoch': epoch_list,\n",
        "    'Loss': loss_list,\n",
        "    'Train Binary Accuracy': train_binary_accuracy_list,\n",
        "    'Train Multi-Class Accuracy': train_multi_class_accuracy_list,\n",
        "    'Validation Binary Accuracy': val_binary_accuracy_list,\n",
        "    'Validation Multi-Class Accuracy': val_multi_class_accuracy_list\n",
        "}\n",
        "\n",
        "# Create a DataFrame from the dictionary\n",
        "df = pd.DataFrame(data)\n",
        "\n",
        "# Save the DataFrame to a CSV file\n",
        "df.to_csv('aug2_efficientnetv2_training_results.csv', index=False)\n",
        "print(\"Training results saved successfully!\")"
      ]
    },
    {
      "cell_type": "markdown",
      "metadata": {
        "id": "UcsqOo-xudHK"
      },
      "source": [
        "## Test the Model"
      ]
    },
    {
      "cell_type": "code",
      "execution_count": null,
      "metadata": {
        "id": "TgewvZivs_sb"
      },
      "outputs": [],
      "source": [
        "# Define transformations for the test set\n",
        "test_transforms = transforms.Compose([\n",
        "    transforms.Resize((224, 224)),\n",
        "    transforms.ToTensor(),\n",
        "    transforms.Normalize([0.485, 0.456, 0.406], [0.229, 0.224, 0.225])\n",
        "])\n",
        "\n",
        "# Load your test dataset\n",
        "test_dataset = CustomFireDataset(root_dir=\"/root/.cache/kagglehub/datasets/elmadafri/the-wildfire-dataset/versions/1/the_wildfire_dataset/the_wildfire_dataset/test\", transform=test_transforms)\n",
        "\n",
        "# Create a DataLoader for the test dataset\n",
        "test_loader = torch.utils.data.DataLoader(test_dataset, batch_size=32, shuffle=False, num_workers=10)"
      ]
    },
    {
      "cell_type": "code",
      "execution_count": null,
      "metadata": {
        "id": "Ibrtd8M6WE80",
        "colab": {
          "base_uri": "https://localhost:8080/"
        },
        "outputId": "0d79680c-0729-4dce-d3e8-7de6a06de904"
      },
      "outputs": [
        {
          "output_type": "stream",
          "name": "stderr",
          "text": [
            "/usr/local/lib/python3.10/dist-packages/PIL/Image.py:3406: DecompressionBombWarning: Image size (101859328 pixels) exceeds limit of 89478485 pixels, could be decompression bomb DOS attack.\n",
            "  warnings.warn(\n",
            "/usr/local/lib/python3.10/dist-packages/PIL/Image.py:3406: DecompressionBombWarning: Image size (96631920 pixels) exceeds limit of 89478485 pixels, could be decompression bomb DOS attack.\n",
            "  warnings.warn(\n",
            "/usr/local/lib/python3.10/dist-packages/PIL/Image.py:3406: DecompressionBombWarning: Image size (94487082 pixels) exceeds limit of 89478485 pixels, could be decompression bomb DOS attack.\n",
            "  warnings.warn(\n"
          ]
        }
      ],
      "source": [
        "from sklearn.metrics import roc_curve, auc, confusion_matrix, classification_report\n",
        "import numpy as np\n",
        "import torch\n",
        "\n",
        "# Lists to store true labels and predicted probabilities/scores for binary classification\n",
        "true_binary_labels = []\n",
        "predicted_binary_probs = []  # Probabilities for the positive class (fire)\n",
        "\n",
        "# Lists to store true labels and predicted labels for multi-class classification\n",
        "true_multi_class_labels = []\n",
        "predicted_multi_class_labels = []\n",
        "\n",
        "# Evaluate the model on the test set\n",
        "model.eval()\n",
        "with torch.no_grad():\n",
        "    for images, (binary_labels, multi_class_labels) in test_loader:\n",
        "        images = images.to(device)\n",
        "        binary_labels = binary_labels.to(device).float()\n",
        "        multi_class_labels = multi_class_labels.to(device).long()\n",
        "\n",
        "        # Forward pass\n",
        "        features = model(images)\n",
        "        binary_output = binary_head(features)\n",
        "        multi_class_output = multi_class_head(features)\n",
        "\n",
        "        # Get probabilities for the positive class (fire) in binary classification\n",
        "        binary_probs = binary_output.squeeze().cpu().numpy()  # Probabilities from Sigmoid\n",
        "\n",
        "        # Get predicted class labels for multi-class classification\n",
        "        _, predicted_multi_class = torch.max(multi_class_output, 1)\n",
        "        predicted_multi_class = predicted_multi_class.cpu().numpy()\n",
        "\n",
        "        # Store true labels and predictions for binary classification\n",
        "        true_binary_labels.extend(binary_labels.cpu().numpy())\n",
        "        predicted_binary_probs.extend(binary_probs)\n",
        "\n",
        "        # Store true labels and predictions for multi-class classification\n",
        "        true_multi_class_labels.extend(multi_class_labels.cpu().numpy())\n",
        "        predicted_multi_class_labels.extend(predicted_multi_class)\n",
        "\n",
        "# Combine all data into a single DataFrame\n",
        "data = pd.DataFrame({\n",
        "    \"True Binary Labels\": true_binary_labels,\n",
        "    \"Predicted Binary Probabilities\": predicted_binary_probs,\n",
        "    \"True Multi-Class Labels\": true_multi_class_labels,\n",
        "    \"Predicted Multi-Class Labels\": predicted_multi_class_labels\n",
        "})\n",
        "\n",
        "data.to_csv(\"aug2_efficientnetv2l_test_results.csv\", index=False)"
      ]
    }
  ],
  "metadata": {
    "accelerator": "GPU",
    "colab": {
      "gpuType": "L4",
      "machine_shape": "hm",
      "provenance": []
    },
    "kernelspec": {
      "display_name": "Python 3",
      "name": "python3"
    },
    "language_info": {
      "codemirror_mode": {
        "name": "ipython",
        "version": 3
      },
      "file_extension": ".py",
      "mimetype": "text/x-python",
      "name": "python",
      "nbconvert_exporter": "python",
      "pygments_lexer": "ipython3",
      "version": "3.11.10"
    }
  },
  "nbformat": 4,
  "nbformat_minor": 0
}