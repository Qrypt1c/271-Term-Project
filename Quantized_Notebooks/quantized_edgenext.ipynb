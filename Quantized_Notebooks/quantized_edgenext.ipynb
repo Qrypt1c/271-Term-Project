{
  "cells": [
    {
      "cell_type": "markdown",
      "metadata": {
        "id": "NFDC6TgLorsU"
      },
      "source": [
        "# EdgeNeXt"
      ]
    },
    {
      "cell_type": "code",
      "execution_count": null,
      "metadata": {
        "id": "o6ubYd3fsYsv"
      },
      "outputs": [],
      "source": [
        "!pip install torch torchvision timm"
      ]
    },
    {
      "cell_type": "code",
      "execution_count": null,
      "metadata": {
        "id": "d42Oq6eHKPI1"
      },
      "outputs": [],
      "source": [
        "import kagglehub\n",
        "\n",
        "# Download latest version\n",
        "path = kagglehub.dataset_download(\"elmadafri/the-wildfire-dataset/versions/1\")\n",
        "\n",
        "print(\"Path to dataset files:\", path)"
      ]
    },
    {
      "cell_type": "code",
      "execution_count": null,
      "metadata": {
        "id": "EzQjfZJClO98"
      },
      "outputs": [],
      "source": [
        "!rm /root/.cache/kagglehub/datasets/elmadafri/the-wildfire-dataset/versions/1/the_wildfire_dataset/the_wildfire_dataset/val/fire/Both_smoke_and_fire/desktop.ini"
      ]
    },
    {
      "cell_type": "code",
      "execution_count": null,
      "metadata": {
        "id": "qKNpK6JhorsV"
      },
      "outputs": [],
      "source": [
        "import torch\n",
        "import pandas as pd\n",
        "import torch.nn as nn\n",
        "import torch.optim as optim\n",
        "from torchvision import datasets, models, transforms\n",
        "from timm import create_model"
      ]
    },
    {
      "cell_type": "code",
      "execution_count": null,
      "metadata": {
        "id": "UdDPqeWcveKM"
      },
      "outputs": [],
      "source": [
        "import os\n",
        "from PIL import Image\n",
        "import torch\n",
        "from torch.utils.data import Dataset\n",
        "\n",
        "class CustomFireDataset(Dataset):\n",
        "    def __init__(self, root_dir, transform=None):\n",
        "        self.root_dir = root_dir\n",
        "        self.transform = transform\n",
        "        self.image_paths = []\n",
        "        self.binary_labels = []\n",
        "        self.multi_class_labels = []\n",
        "\n",
        "        # Define mappings for binary and multi-class labels\n",
        "        binary_label_mapping = {'fire': 1, 'nofire': 0}\n",
        "        multi_class_mapping = {\n",
        "            'fire': {'Both_smoke_and_fire': 0, 'Smoke_from_fires': 1},\n",
        "            'nofire': {'Fire_confounding_elements': 2, 'Forested_areas_without_confounding_elements': 3, 'Smoke_confounding_elements': 4}\n",
        "        }\n",
        "\n",
        "        # Traverse the root directory and collect image paths and labels\n",
        "        for binary_label_name in os.listdir(root_dir):\n",
        "            binary_label_path = os.path.join(root_dir, binary_label_name)\n",
        "            if os.path.isdir(binary_label_path):\n",
        "                # Assign binary label\n",
        "                binary_label = binary_label_mapping[binary_label_name]\n",
        "\n",
        "                # Traverse subclasses\n",
        "                for subclass_name in os.listdir(binary_label_path):\n",
        "                    subclass_path = os.path.join(binary_label_path, subclass_name)\n",
        "                    if os.path.isdir(subclass_path):\n",
        "                        # Assign multi-class label\n",
        "                        multi_class_label = multi_class_mapping[binary_label_name][subclass_name]\n",
        "\n",
        "                        # Collect all images in the subclass directory\n",
        "                        for img_name in os.listdir(subclass_path):\n",
        "                            img_path = os.path.join(subclass_path, img_name)\n",
        "                            if os.path.isfile(img_path):\n",
        "                                self.image_paths.append(img_path)\n",
        "                                self.binary_labels.append(binary_label)\n",
        "                                self.multi_class_labels.append(multi_class_label)\n",
        "\n",
        "    def __len__(self):\n",
        "        return len(self.image_paths)\n",
        "\n",
        "    def __getitem__(self, idx):\n",
        "        img_path = self.image_paths[idx]\n",
        "        image = Image.open(img_path).convert(\"RGB\")\n",
        "        binary_label = self.binary_labels[idx]\n",
        "        multi_class_label = self.multi_class_labels[idx]\n",
        "\n",
        "        if self.transform:\n",
        "            image = self.transform(image)\n",
        "\n",
        "        return image, (torch.tensor(binary_label, dtype=torch.float), torch.tensor(multi_class_label, dtype=torch.long))\n"
      ]
    },
    {
      "cell_type": "code",
      "execution_count": null,
      "metadata": {
        "id": "TgewvZivs_sb"
      },
      "outputs": [],
      "source": [
        "# Define transformations for the test set\n",
        "test_transforms = transforms.Compose([\n",
        "    transforms.Resize((224, 224)),\n",
        "    transforms.ToTensor(),\n",
        "    transforms.Normalize([0.485, 0.456, 0.406], [0.229, 0.224, 0.225])\n",
        "])\n",
        "\n",
        "# Load your test dataset\n",
        "test_dataset = CustomFireDataset(root_dir=\"/root/.cache/kagglehub/datasets/elmadafri/the-wildfire-dataset/versions/1/the_wildfire_dataset/the_wildfire_dataset/test\", transform=test_transforms)\n",
        "\n",
        "# Create a DataLoader for the test dataset\n",
        "test_loader = torch.utils.data.DataLoader(test_dataset, batch_size=32, shuffle=False, num_workers=10)"
      ]
    },
    {
      "cell_type": "markdown",
      "metadata": {
        "id": "52VSqbJBorsW"
      },
      "source": [
        "## Load Model"
      ]
    },
    {
      "cell_type": "code",
      "execution_count": null,
      "metadata": {
        "id": "Mrr_-GWxsYsw"
      },
      "outputs": [],
      "source": [
        "import torch\n",
        "from torch import nn\n",
        "from timm import create_model\n",
        "\n",
        "# Load the pretrained EdgeNeXt model\n",
        "model = create_model('edgenext_small', pretrained=True)\n",
        "\n",
        "# Dynamically compute the number of features from forward_features\n",
        "dummy_input = torch.randn(1, 3, 224, 224)\n",
        "with torch.no_grad():\n",
        "    features = model.forward_features(dummy_input)\n",
        "flattened_features_size = features.reshape(features.size(0), -1).size(1)\n",
        "\n",
        "# Add two separate heads for binary and multi-class classification\n",
        "# Binary classification head: Includes Dropout and LeakyReLU\n",
        "model.head_binary = nn.Sequential(\n",
        "    nn.Linear(flattened_features_size, flattened_features_size // 2),\n",
        "    nn.LeakyReLU(),\n",
        "    nn.Dropout(p=0.5),\n",
        "    nn.Linear(flattened_features_size // 2, 1)\n",
        ")\n",
        "\n",
        "# Multi-class classification head: Includes LeakyReLU\n",
        "model.head_multiclass = nn.Sequential(\n",
        "    nn.Linear(flattened_features_size, flattened_features_size // 2),\n",
        "    nn.LeakyReLU(),\n",
        "    nn.Linear(flattened_features_size // 2, 5)\n",
        ")\n",
        "\n",
        "# Define a custom forward method\n",
        "def forward_with_two_heads(self, x):\n",
        "    features = self.forward_features(x)  # Extract features from the backbone\n",
        "    features = features.reshape(features.size(0), -1)  # Flatten features dynamically using reshape\n",
        "    binary_output = self.head_binary(features)  # Binary classification\n",
        "    multiclass_output = self.head_multiclass(features)  # Multi-class classification\n",
        "    return binary_output, multiclass_output\n",
        "\n",
        "# Attach the custom forward method to the model\n",
        "model.forward = forward_with_two_heads.__get__(model, type(model))"
      ]
    },
    {
      "cell_type": "code",
      "source": [
        "print(model)"
      ],
      "metadata": {
        "id": "JI5-DuqTrKi2"
      },
      "execution_count": null,
      "outputs": []
    },
    {
      "cell_type": "code",
      "source": [
        "model.load_state_dict(torch.load(\"edgenext_aug1.pth\"))"
      ],
      "metadata": {
        "id": "x2O2qbGStiKw"
      },
      "execution_count": null,
      "outputs": []
    },
    {
      "cell_type": "code",
      "source": [
        "import torch.nn as nn\n",
        "from torch.quantization import quantize_dynamic\n",
        "\n",
        "model.eval()\n",
        "\n",
        "quantized_model = quantize_dynamic(model, {nn.Linear}, dtype=torch.qint8)\n"
      ],
      "metadata": {
        "id": "gmEMm_MztCQl"
      },
      "execution_count": null,
      "outputs": []
    },
    {
      "cell_type": "markdown",
      "metadata": {
        "id": "UcsqOo-xudHK"
      },
      "source": [
        "## Test the Model"
      ]
    },
    {
      "cell_type": "code",
      "execution_count": null,
      "metadata": {
        "id": "Ibrtd8M6WE80"
      },
      "outputs": [],
      "source": [
        "from sklearn.metrics import roc_curve, auc, confusion_matrix, classification_report\n",
        "import pandas as pd\n",
        "import numpy as np\n",
        "import torch\n",
        "\n",
        "# Ensure the quantized model is on CPU\n",
        "device = torch.device('cpu')\n",
        "quantized_model = quantized_model.to(device)\n",
        "quantized_model.eval()\n",
        "\n",
        "# Initialize lists to store results\n",
        "true_binary_labels = []\n",
        "predicted_binary_probs = []  # Probabilities for the positive class (fire)\n",
        "\n",
        "true_multi_class_labels = []\n",
        "predicted_multi_class_labels = []\n",
        "\n",
        "with torch.no_grad():\n",
        "    for images, (binary_labels, multi_class_labels) in test_loader:\n",
        "        # Move data to CPU (this is often redundant if dataloader is already on CPU, but it's safe)\n",
        "        images = images.to(device)\n",
        "        binary_labels = binary_labels.to(device)\n",
        "        multi_class_labels = multi_class_labels.to(device)\n",
        "\n",
        "        # Forward pass through the quantized model\n",
        "        binary_output, multi_class_output = quantized_model(images)\n",
        "\n",
        "        # Convert binary logits to probabilities\n",
        "        binary_probs = torch.sigmoid(binary_output).squeeze().cpu().numpy()\n",
        "\n",
        "        # Get predicted class labels for multi-class classification\n",
        "        _, predicted_multi_class = torch.max(multi_class_output, 1)\n",
        "        predicted_multi_class = predicted_multi_class.cpu().numpy()\n",
        "\n",
        "        # Store true labels and predictions for binary classification\n",
        "        true_binary_labels.extend(binary_labels.cpu().numpy())\n",
        "        predicted_binary_probs.extend(binary_probs)\n",
        "\n",
        "        # Store true labels and predictions for multi-class classification\n",
        "        true_multi_class_labels.extend(multi_class_labels.cpu().numpy())\n",
        "        predicted_multi_class_labels.extend(predicted_multi_class)\n",
        "\n",
        "# Combine all data into a single DataFrame\n",
        "results = pd.DataFrame({\n",
        "    \"True Binary Labels\": true_binary_labels,\n",
        "    \"Predicted Binary Probabilities\": predicted_binary_probs,\n",
        "    \"True Multi-Class Labels\": true_multi_class_labels,\n",
        "    \"Predicted Multi-Class Labels\": predicted_multi_class_labels\n",
        "})\n",
        "\n",
        "# Save results to CSV\n",
        "results.to_csv(\"edgenext_aug1_test_results.csv\", index=False)\n",
        "print(\"Test results saved to 'edgenext_aug1_test_results.csv'.\")"
      ]
    },
    {
      "cell_type": "code",
      "source": [
        "torch.save(quantized_model.state_dict(), \"edgenext_quantized_model.pth\")"
      ],
      "metadata": {
        "id": "Xhh7nTvHi7Qd"
      },
      "execution_count": null,
      "outputs": []
    },
    {
      "cell_type": "code",
      "source": [
        "import time  # For measuring time\n",
        "import pandas as pd  # For saving to CSV\n",
        "import torch\n",
        "\n",
        "# Ensure quantized_model is on CPU and in eval mode\n",
        "device = torch.device('cpu')\n",
        "model.to(device)\n",
        "model.eval()\n",
        "\n",
        "# List to store prediction times\n",
        "prediction_times = []\n",
        "\n",
        "with torch.no_grad():\n",
        "    for images, _ in test_loader:  # Only using images; ignoring labels\n",
        "        images = images.to(device)\n",
        "\n",
        "        # Start timing the prediction\n",
        "        start_time = time.time()\n",
        "\n",
        "        # Forward pass through the quantized model directly\n",
        "        binary_output, multi_class_output = model(images)\n",
        "\n",
        "        # End timing the prediction\n",
        "        end_time = time.time()\n",
        "\n",
        "        # Calculate and store the time taken for this prediction\n",
        "        prediction_time = end_time - start_time\n",
        "        prediction_times.append(prediction_time)\n",
        "\n",
        "# Save the prediction times to a CSV file\n",
        "data = pd.DataFrame({\"Prediction Times (seconds)\": prediction_times})\n",
        "data.to_csv(\"cpu_edgenext_prediction_times.csv\", index=False)"
      ],
      "metadata": {
        "id": "bVFZPxWy2Yx0"
      },
      "execution_count": null,
      "outputs": []
    },
    {
      "cell_type": "code",
      "source": [
        "import time  # For measuring time\n",
        "import pandas as pd  # For saving to CSV\n",
        "import torch\n",
        "\n",
        "# Ensure quantized_model is on CPU and in eval mode\n",
        "device = torch.device('cpu')\n",
        "quantized_model = quantized_model.to(device)\n",
        "quantized_model.eval()\n",
        "\n",
        "# List to store prediction times\n",
        "prediction_times = []\n",
        "\n",
        "with torch.no_grad():\n",
        "    for images, _ in test_loader:  # Only using images; ignoring labels\n",
        "        images = images.to(device)\n",
        "\n",
        "        # Start timing the prediction\n",
        "        start_time = time.time()\n",
        "\n",
        "        # Forward pass through the quantized model directly\n",
        "        binary_output, multi_class_output = quantized_model(images)\n",
        "\n",
        "        # End timing the prediction\n",
        "        end_time = time.time()\n",
        "\n",
        "        # Calculate and store the time taken for this prediction\n",
        "        prediction_time = end_time - start_time\n",
        "        prediction_times.append(prediction_time)\n",
        "\n",
        "# Save the prediction times to a CSV file\n",
        "data = pd.DataFrame({\"Prediction Times (seconds)\": prediction_times})\n",
        "data.to_csv(\"quantized_edgenext_prediction_times.csv\", index=False)"
      ],
      "metadata": {
        "id": "3otSjsJ40dWh"
      },
      "execution_count": null,
      "outputs": []
    },
    {
      "cell_type": "code",
      "source": [],
      "metadata": {
        "id": "5mKuFgub1dg7"
      },
      "execution_count": null,
      "outputs": []
    }
  ],
  "metadata": {
    "accelerator": "GPU",
    "colab": {
      "gpuType": "L4",
      "machine_shape": "hm",
      "provenance": []
    },
    "kernelspec": {
      "display_name": "Python 3",
      "name": "python3"
    },
    "language_info": {
      "codemirror_mode": {
        "name": "ipython",
        "version": 3
      },
      "file_extension": ".py",
      "mimetype": "text/x-python",
      "name": "python",
      "nbconvert_exporter": "python",
      "pygments_lexer": "ipython3",
      "version": "3.11.10"
    }
  },
  "nbformat": 4,
  "nbformat_minor": 0
}