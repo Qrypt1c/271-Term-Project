{
  "cells": [
    {
      "cell_type": "markdown",
      "metadata": {
        "id": "NFDC6TgLorsU"
      },
      "source": [
        "# EdgeNeXt"
      ]
    },
    {
      "cell_type": "code",
      "execution_count": null,
      "metadata": {
        "colab": {
          "base_uri": "https://localhost:8080/"
        },
        "id": "o6ubYd3fsYsv",
        "outputId": "9999c99e-0c8e-4e89-b497-ddd0cd996f86"
      },
      "outputs": [
        {
          "output_type": "stream",
          "name": "stdout",
          "text": [
            "Requirement already satisfied: torch in /usr/local/lib/python3.10/dist-packages (2.5.1+cu121)\n",
            "Requirement already satisfied: torchvision in /usr/local/lib/python3.10/dist-packages (0.20.1+cu121)\n",
            "Requirement already satisfied: timm in /usr/local/lib/python3.10/dist-packages (1.0.11)\n",
            "Requirement already satisfied: filelock in /usr/local/lib/python3.10/dist-packages (from torch) (3.16.1)\n",
            "Requirement already satisfied: typing-extensions>=4.8.0 in /usr/local/lib/python3.10/dist-packages (from torch) (4.12.2)\n",
            "Requirement already satisfied: networkx in /usr/local/lib/python3.10/dist-packages (from torch) (3.4.2)\n",
            "Requirement already satisfied: jinja2 in /usr/local/lib/python3.10/dist-packages (from torch) (3.1.4)\n",
            "Requirement already satisfied: fsspec in /usr/local/lib/python3.10/dist-packages (from torch) (2024.10.0)\n",
            "Requirement already satisfied: sympy==1.13.1 in /usr/local/lib/python3.10/dist-packages (from torch) (1.13.1)\n",
            "Requirement already satisfied: mpmath<1.4,>=1.1.0 in /usr/local/lib/python3.10/dist-packages (from sympy==1.13.1->torch) (1.3.0)\n",
            "Requirement already satisfied: numpy in /usr/local/lib/python3.10/dist-packages (from torchvision) (1.26.4)\n",
            "Requirement already satisfied: pillow!=8.3.*,>=5.3.0 in /usr/local/lib/python3.10/dist-packages (from torchvision) (11.0.0)\n",
            "Requirement already satisfied: pyyaml in /usr/local/lib/python3.10/dist-packages (from timm) (6.0.2)\n",
            "Requirement already satisfied: huggingface_hub in /usr/local/lib/python3.10/dist-packages (from timm) (0.26.2)\n",
            "Requirement already satisfied: safetensors in /usr/local/lib/python3.10/dist-packages (from timm) (0.4.5)\n",
            "Requirement already satisfied: packaging>=20.9 in /usr/local/lib/python3.10/dist-packages (from huggingface_hub->timm) (24.2)\n",
            "Requirement already satisfied: requests in /usr/local/lib/python3.10/dist-packages (from huggingface_hub->timm) (2.32.3)\n",
            "Requirement already satisfied: tqdm>=4.42.1 in /usr/local/lib/python3.10/dist-packages (from huggingface_hub->timm) (4.66.6)\n",
            "Requirement already satisfied: MarkupSafe>=2.0 in /usr/local/lib/python3.10/dist-packages (from jinja2->torch) (3.0.2)\n",
            "Requirement already satisfied: charset-normalizer<4,>=2 in /usr/local/lib/python3.10/dist-packages (from requests->huggingface_hub->timm) (3.4.0)\n",
            "Requirement already satisfied: idna<4,>=2.5 in /usr/local/lib/python3.10/dist-packages (from requests->huggingface_hub->timm) (3.10)\n",
            "Requirement already satisfied: urllib3<3,>=1.21.1 in /usr/local/lib/python3.10/dist-packages (from requests->huggingface_hub->timm) (2.2.3)\n",
            "Requirement already satisfied: certifi>=2017.4.17 in /usr/local/lib/python3.10/dist-packages (from requests->huggingface_hub->timm) (2024.8.30)\n"
          ]
        }
      ],
      "source": [
        "!pip install torch torchvision timm"
      ]
    },
    {
      "cell_type": "code",
      "execution_count": null,
      "metadata": {
        "colab": {
          "base_uri": "https://localhost:8080/"
        },
        "id": "d42Oq6eHKPI1",
        "outputId": "ce6cd9b7-d1cc-4b39-f00d-067f29bd9cf3"
      },
      "outputs": [
        {
          "output_type": "stream",
          "name": "stdout",
          "text": [
            "Downloading from https://www.kaggle.com/api/v1/datasets/download/elmadafri/the-wildfire-dataset?dataset_version_number=1...\n"
          ]
        },
        {
          "output_type": "stream",
          "name": "stderr",
          "text": [
            "100%|██████████| 9.94G/9.94G [01:11<00:00, 150MB/s]"
          ]
        },
        {
          "output_type": "stream",
          "name": "stdout",
          "text": [
            "Extracting files...\n"
          ]
        },
        {
          "output_type": "stream",
          "name": "stderr",
          "text": [
            "\n"
          ]
        },
        {
          "output_type": "stream",
          "name": "stdout",
          "text": [
            "Path to dataset files: /root/.cache/kagglehub/datasets/elmadafri/the-wildfire-dataset/versions/1\n"
          ]
        }
      ],
      "source": [
        "import kagglehub\n",
        "\n",
        "# Download latest version\n",
        "path = kagglehub.dataset_download(\"elmadafri/the-wildfire-dataset/versions/1\")\n",
        "\n",
        "print(\"Path to dataset files:\", path)"
      ]
    },
    {
      "cell_type": "code",
      "execution_count": null,
      "metadata": {
        "id": "EzQjfZJClO98"
      },
      "outputs": [],
      "source": [
        "!rm /root/.cache/kagglehub/datasets/elmadafri/the-wildfire-dataset/versions/1/the_wildfire_dataset/the_wildfire_dataset/val/fire/Both_smoke_and_fire/desktop.ini"
      ]
    },
    {
      "cell_type": "code",
      "execution_count": null,
      "metadata": {
        "id": "qKNpK6JhorsV"
      },
      "outputs": [],
      "source": [
        "import torch\n",
        "import pandas as pd\n",
        "import torch.nn as nn\n",
        "import torch.optim as optim\n",
        "from torchvision import datasets, models, transforms\n",
        "from timm import create_model"
      ]
    },
    {
      "cell_type": "markdown",
      "metadata": {
        "id": "52VSqbJBorsW"
      },
      "source": [
        "## Load Model"
      ]
    },
    {
      "cell_type": "code",
      "execution_count": null,
      "metadata": {
        "colab": {
          "base_uri": "https://localhost:8080/",
          "height": 153,
          "referenced_widgets": [
            "678c4293176f4c6f8720228dfd7185ca",
            "79da905e2062405c86801a4b538a2340",
            "3440f1ae836949c4b1debbbe26724800",
            "d4bcc1c95d184db08b3b44df16c3a7b1",
            "ad4060c3758442989cc564465169b972",
            "1c54523dc48d46c2a9e6ee9f6c5bd267",
            "451d47740a624cee9b6cd86f2c30dc93",
            "b19cb8db3f10449ea33f8b70546c801e",
            "c5ecfb99b6f0470383c2bf6bae6584c4",
            "5e9ea05829544c58ac193d60f19c5fbd",
            "1f2e9685193f424795d35767ab8d1e52"
          ]
        },
        "id": "Mrr_-GWxsYsw",
        "outputId": "8e45e71a-2c88-4474-e7df-ab718214741c"
      },
      "outputs": [
        {
          "output_type": "stream",
          "name": "stderr",
          "text": [
            "/usr/local/lib/python3.10/dist-packages/huggingface_hub/utils/_auth.py:94: UserWarning: \n",
            "The secret `HF_TOKEN` does not exist in your Colab secrets.\n",
            "To authenticate with the Hugging Face Hub, create a token in your settings tab (https://huggingface.co/settings/tokens), set it as secret in your Google Colab and restart your session.\n",
            "You will be able to reuse this secret in all of your notebooks.\n",
            "Please note that authentication is recommended but still optional to access public models or datasets.\n",
            "  warnings.warn(\n"
          ]
        },
        {
          "output_type": "display_data",
          "data": {
            "text/plain": [
              "model.safetensors:   0%|          | 0.00/22.4M [00:00<?, ?B/s]"
            ],
            "application/vnd.jupyter.widget-view+json": {
              "version_major": 2,
              "version_minor": 0,
              "model_id": "678c4293176f4c6f8720228dfd7185ca"
            }
          },
          "metadata": {}
        }
      ],
      "source": [
        "import torch\n",
        "from torch import nn\n",
        "from timm import create_model\n",
        "\n",
        "# Load the pretrained EdgeNeXt model\n",
        "model = create_model('edgenext_small', pretrained=True)\n",
        "\n",
        "# Dynamically compute the number of features from forward_features\n",
        "dummy_input = torch.randn(1, 3, 224, 224)\n",
        "with torch.no_grad():\n",
        "    features = model.forward_features(dummy_input)\n",
        "flattened_features_size = features.reshape(features.size(0), -1).size(1)\n",
        "\n",
        "# Add two separate heads for binary and multi-class classification\n",
        "# Binary classification head: Includes Dropout and LeakyReLU\n",
        "model.head_binary = nn.Sequential(\n",
        "    nn.Linear(flattened_features_size, flattened_features_size // 2),\n",
        "    nn.LeakyReLU(),\n",
        "    nn.Dropout(p=0.5),\n",
        "    nn.Linear(flattened_features_size // 2, 1)\n",
        ")\n",
        "\n",
        "# Multi-class classification head: Includes LeakyReLU\n",
        "model.head_multiclass = nn.Sequential(\n",
        "    nn.Linear(flattened_features_size, flattened_features_size // 2),\n",
        "    nn.LeakyReLU(),\n",
        "    nn.Linear(flattened_features_size // 2, 5)\n",
        ")\n",
        "\n",
        "# Define a custom forward method\n",
        "def forward_with_two_heads(self, x):\n",
        "    features = self.forward_features(x)  # Extract features from the backbone\n",
        "    features = features.reshape(features.size(0), -1)  # Flatten features dynamically using reshape\n",
        "    binary_output = self.head_binary(features)  # Binary classification\n",
        "    multiclass_output = self.head_multiclass(features)  # Multi-class classification\n",
        "    return binary_output, multiclass_output\n",
        "\n",
        "# Attach the custom forward method to the model\n",
        "model.forward = forward_with_two_heads.__get__(model, type(model))"
      ]
    },
    {
      "cell_type": "code",
      "execution_count": null,
      "metadata": {
        "id": "UdDPqeWcveKM"
      },
      "outputs": [],
      "source": [
        "import os\n",
        "from PIL import Image\n",
        "import torch\n",
        "from torch.utils.data import Dataset\n",
        "\n",
        "class CustomFireDataset(Dataset):\n",
        "    def __init__(self, root_dir, transform=None):\n",
        "        self.root_dir = root_dir\n",
        "        self.transform = transform\n",
        "        self.image_paths = []\n",
        "        self.binary_labels = []\n",
        "        self.multi_class_labels = []\n",
        "\n",
        "        # Define mappings for binary and multi-class labels\n",
        "        binary_label_mapping = {'fire': 1, 'nofire': 0}\n",
        "        multi_class_mapping = {\n",
        "            'fire': {'Both_smoke_and_fire': 0, 'Smoke_from_fires': 1},\n",
        "            'nofire': {'Fire_confounding_elements': 2, 'Forested_areas_without_confounding_elements': 3, 'Smoke_confounding_elements': 4}\n",
        "        }\n",
        "\n",
        "        # Traverse the root directory and collect image paths and labels\n",
        "        for binary_label_name in os.listdir(root_dir):\n",
        "            binary_label_path = os.path.join(root_dir, binary_label_name)\n",
        "            if os.path.isdir(binary_label_path):\n",
        "                # Assign binary label\n",
        "                binary_label = binary_label_mapping[binary_label_name]\n",
        "\n",
        "                # Traverse subclasses\n",
        "                for subclass_name in os.listdir(binary_label_path):\n",
        "                    subclass_path = os.path.join(binary_label_path, subclass_name)\n",
        "                    if os.path.isdir(subclass_path):\n",
        "                        # Assign multi-class label\n",
        "                        multi_class_label = multi_class_mapping[binary_label_name][subclass_name]\n",
        "\n",
        "                        # Collect all images in the subclass directory\n",
        "                        for img_name in os.listdir(subclass_path):\n",
        "                            img_path = os.path.join(subclass_path, img_name)\n",
        "                            if os.path.isfile(img_path):\n",
        "                                self.image_paths.append(img_path)\n",
        "                                self.binary_labels.append(binary_label)\n",
        "                                self.multi_class_labels.append(multi_class_label)\n",
        "\n",
        "    def __len__(self):\n",
        "        return len(self.image_paths)\n",
        "\n",
        "    def __getitem__(self, idx):\n",
        "        img_path = self.image_paths[idx]\n",
        "        image = Image.open(img_path).convert(\"RGB\")\n",
        "        binary_label = self.binary_labels[idx]\n",
        "        multi_class_label = self.multi_class_labels[idx]\n",
        "\n",
        "        if self.transform:\n",
        "            image = self.transform(image)\n",
        "\n",
        "        return image, (torch.tensor(binary_label, dtype=torch.float), torch.tensor(multi_class_label, dtype=torch.long))\n"
      ]
    },
    {
      "cell_type": "code",
      "execution_count": null,
      "metadata": {
        "id": "FTgDfCJGorsW"
      },
      "outputs": [],
      "source": [
        "train_transforms = transforms.Compose([\n",
        "    transforms.Resize((224, 224)),\n",
        "    transforms.RandomHorizontalFlip(),\n",
        "    transforms.ToTensor(),\n",
        "    transforms.Normalize([0.485, 0.456, 0.406], [0.229, 0.224, 0.225])\n",
        "])\n",
        "\n",
        "val_transforms = transforms.Compose([\n",
        "    transforms.Resize((224, 224)),\n",
        "    transforms.ToTensor(),\n",
        "    transforms.Normalize([0.485, 0.456, 0.406], [0.229, 0.224, 0.225])\n",
        "])\n",
        "\n",
        "# Load your datasets (replace \"path_to_train_dataset\" and \"path_to_val_dataset\" with your paths)\n",
        "\n",
        "train_dataset = CustomFireDataset(root_dir=\"/root/.cache/kagglehub/datasets/elmadafri/the-wildfire-dataset/versions/1/the_wildfire_dataset/the_wildfire_dataset/train\", transform=train_transforms)\n",
        "val_dataset = CustomFireDataset(root_dir=\"/root/.cache/kagglehub/datasets/elmadafri/the-wildfire-dataset/versions/1/the_wildfire_dataset/the_wildfire_dataset/val\", transform=val_transforms)\n",
        "\n",
        "#train_dataset = CustomFireDataset(root_dir=\"./the_wildfire_dataset/the_wildfire_dataset/train\", transform=train_transforms)\n",
        "#val_dataset = CustomFireDataset(root_dir=\"./the_wildfire_dataset/the_wildfire_dataset/val\", transform=val_transforms)\n",
        "\n",
        "\n",
        "train_loader = torch.utils.data.DataLoader(train_dataset, batch_size=32, shuffle=True, num_workers=10)\n",
        "val_loader = torch.utils.data.DataLoader(val_dataset, batch_size=32, shuffle=False, num_workers=10)"
      ]
    },
    {
      "cell_type": "code",
      "execution_count": null,
      "metadata": {
        "id": "j8dnuzGuorsX",
        "colab": {
          "base_uri": "https://localhost:8080/"
        },
        "outputId": "7fd18eb3-d08a-4e61-a5c9-5d3a64871175"
      },
      "outputs": [
        {
          "output_type": "stream",
          "name": "stderr",
          "text": [
            "/usr/local/lib/python3.10/dist-packages/torch/_compile.py:32: UserWarning: optimizer contains a parameter group with duplicate parameters; in future, this will cause an error; see github.com/pytorch/pytorch/issues/40967 for more information\n",
            "  return disable_fn(*args, **kwargs)\n"
          ]
        }
      ],
      "source": [
        "# Define loss functions\n",
        "criterion_binary = nn.BCEWithLogitsLoss() #More numerically stable\n",
        "criterion_multiclass = nn.CrossEntropyLoss()\n",
        "\n",
        "# Optimizer\n",
        "optimizer = optim.Adam(list(model.parameters()) + list(model.head_binary.parameters()) + list(model.head_multiclass.parameters()), lr=0.001)"
      ]
    },
    {
      "cell_type": "code",
      "execution_count": null,
      "metadata": {
        "id": "hD99LlS4orsX"
      },
      "outputs": [],
      "source": [
        "# Device configuration\n",
        "device = torch.device(\"cuda:0\" if torch.cuda.is_available() else \"cpu\")\n",
        "model = model.to(device)"
      ]
    },
    {
      "cell_type": "code",
      "execution_count": null,
      "metadata": {
        "id": "8UyImczIveKN"
      },
      "outputs": [],
      "source": [
        "def combined_loss(binary_output, binary_target, multi_class_output, multi_class_target, alpha=0.5, beta=0.5):\n",
        "    # Compute binary classification loss using BCEWithLogitsLoss\n",
        "    loss_binary = criterion_binary(binary_output.squeeze(-1), binary_target.float())\n",
        "\n",
        "    # Compute multi-class classification loss using CrossEntropyLoss\n",
        "    loss_multiclass = criterion_multiclass(multi_class_output, multi_class_target)\n",
        "\n",
        "    # Combine losses with weights\n",
        "    total_loss = alpha * loss_binary + beta * loss_multiclass\n",
        "    return total_loss\n"
      ]
    },
    {
      "cell_type": "code",
      "execution_count": null,
      "metadata": {
        "colab": {
          "base_uri": "https://localhost:8080/"
        },
        "id": "a8CIw6fHorsX",
        "outputId": "ef46e444-8a26-469e-88f0-156977fd4103"
      },
      "outputs": [
        {
          "output_type": "stream",
          "name": "stderr",
          "text": [
            "Epoch 1/30 - Training:  51%|█████     | 30/59 [00:51<00:34,  1.20s/it]/usr/local/lib/python3.10/dist-packages/PIL/Image.py:3406: DecompressionBombWarning: Image size (104688771 pixels) exceeds limit of 89478485 pixels, could be decompression bomb DOS attack.\n",
            "  warnings.warn(\n",
            "Epoch 1/30 - Training:  56%|█████▌    | 33/59 [00:58<00:39,  1.51s/it]/usr/local/lib/python3.10/dist-packages/PIL/Image.py:3406: DecompressionBombWarning: Image size (89747104 pixels) exceeds limit of 89478485 pixels, could be decompression bomb DOS attack.\n",
            "  warnings.warn(\n",
            "Epoch 1/30 - Training: 100%|██████████| 59/59 [01:29<00:00,  1.52s/it]\n",
            "Epoch 1/30 - Validation: 100%|██████████| 13/13 [00:22<00:00,  1.77s/it]\n"
          ]
        },
        {
          "output_type": "stream",
          "name": "stdout",
          "text": [
            "Epoch 1/30\n",
            "  Loss: 3.5667\n",
            "  Training Binary Accuracy: 55.06%\n",
            "  Training Multi-Class Accuracy: 29.84%\n",
            "  Validation Binary Accuracy: 41.79%\n",
            "  Validation Multi-Class Accuracy: 25.37%\n"
          ]
        },
        {
          "output_type": "stream",
          "name": "stderr",
          "text": [
            "Epoch 2/30 - Training:  17%|█▋        | 10/59 [00:19<00:24,  1.99it/s]/usr/local/lib/python3.10/dist-packages/PIL/Image.py:3406: DecompressionBombWarning: Image size (104688771 pixels) exceeds limit of 89478485 pixels, could be decompression bomb DOS attack.\n",
            "  warnings.warn(\n",
            "/usr/local/lib/python3.10/dist-packages/PIL/Image.py:3406: DecompressionBombWarning: Image size (89747104 pixels) exceeds limit of 89478485 pixels, could be decompression bomb DOS attack.\n",
            "  warnings.warn(\n",
            "Epoch 2/30 - Training: 100%|██████████| 59/59 [01:33<00:00,  1.59s/it]\n",
            "Epoch 2/30 - Validation: 100%|██████████| 13/13 [00:26<00:00,  2.00s/it]\n"
          ]
        },
        {
          "output_type": "stream",
          "name": "stdout",
          "text": [
            "Epoch 2/30\n",
            "  Loss: 1.0559\n",
            "  Training Binary Accuracy: 64.18%\n",
            "  Training Multi-Class Accuracy: 41.49%\n",
            "  Validation Binary Accuracy: 71.39%\n",
            "  Validation Multi-Class Accuracy: 50.25%\n"
          ]
        },
        {
          "output_type": "stream",
          "name": "stderr",
          "text": [
            "Epoch 3/30 - Training:  17%|█▋        | 10/59 [00:17<00:23,  2.11it/s]/usr/local/lib/python3.10/dist-packages/PIL/Image.py:3406: DecompressionBombWarning: Image size (89747104 pixels) exceeds limit of 89478485 pixels, could be decompression bomb DOS attack.\n",
            "  warnings.warn(\n",
            "Epoch 3/30 - Training:  85%|████████▍ | 50/59 [01:18<00:04,  2.23it/s]/usr/local/lib/python3.10/dist-packages/PIL/Image.py:3406: DecompressionBombWarning: Image size (104688771 pixels) exceeds limit of 89478485 pixels, could be decompression bomb DOS attack.\n",
            "  warnings.warn(\n",
            "Epoch 3/30 - Training: 100%|██████████| 59/59 [01:30<00:00,  1.53s/it]\n",
            "Epoch 3/30 - Validation: 100%|██████████| 13/13 [00:26<00:00,  2.00s/it]\n"
          ]
        },
        {
          "output_type": "stream",
          "name": "stdout",
          "text": [
            "Epoch 3/30\n",
            "  Loss: 0.8764\n",
            "  Training Binary Accuracy: 73.98%\n",
            "  Training Multi-Class Accuracy: 50.34%\n",
            "  Validation Binary Accuracy: 77.36%\n",
            "  Validation Multi-Class Accuracy: 55.72%\n"
          ]
        },
        {
          "output_type": "stream",
          "name": "stderr",
          "text": [
            "\rEpoch 4/30 - Training:   0%|          | 0/59 [00:00<?, ?it/s]/usr/local/lib/python3.10/dist-packages/PIL/Image.py:3406: DecompressionBombWarning: Image size (104688771 pixels) exceeds limit of 89478485 pixels, could be decompression bomb DOS attack.\n",
            "  warnings.warn(\n",
            "Epoch 4/30 - Training:  17%|█▋        | 10/59 [00:22<00:40,  1.22it/s]/usr/local/lib/python3.10/dist-packages/PIL/Image.py:3406: DecompressionBombWarning: Image size (89747104 pixels) exceeds limit of 89478485 pixels, could be decompression bomb DOS attack.\n",
            "  warnings.warn(\n",
            "Epoch 4/30 - Training: 100%|██████████| 59/59 [01:29<00:00,  1.52s/it]\n",
            "Epoch 4/30 - Validation: 100%|██████████| 13/13 [00:25<00:00,  1.94s/it]\n"
          ]
        },
        {
          "output_type": "stream",
          "name": "stdout",
          "text": [
            "Epoch 4/30\n",
            "  Loss: 0.7850\n",
            "  Training Binary Accuracy: 79.86%\n",
            "  Training Multi-Class Accuracy: 54.90%\n",
            "  Validation Binary Accuracy: 75.87%\n",
            "  Validation Multi-Class Accuracy: 59.45%\n"
          ]
        },
        {
          "output_type": "stream",
          "name": "stderr",
          "text": [
            "Epoch 5/30 - Training:  19%|█▊        | 11/59 [00:27<02:38,  3.31s/it]/usr/local/lib/python3.10/dist-packages/PIL/Image.py:3406: DecompressionBombWarning: Image size (104688771 pixels) exceeds limit of 89478485 pixels, could be decompression bomb DOS attack.\n",
            "  warnings.warn(\n",
            "Epoch 5/30 - Training:  51%|█████     | 30/59 [00:49<00:12,  2.38it/s]/usr/local/lib/python3.10/dist-packages/PIL/Image.py:3406: DecompressionBombWarning: Image size (89747104 pixels) exceeds limit of 89478485 pixels, could be decompression bomb DOS attack.\n",
            "  warnings.warn(\n",
            "Epoch 5/30 - Training: 100%|██████████| 59/59 [01:29<00:00,  1.51s/it]\n",
            "Epoch 5/30 - Validation: 100%|██████████| 13/13 [00:24<00:00,  1.85s/it]\n"
          ]
        },
        {
          "output_type": "stream",
          "name": "stdout",
          "text": [
            "Epoch 5/30\n",
            "  Loss: 0.6479\n",
            "  Training Binary Accuracy: 84.26%\n",
            "  Training Multi-Class Accuracy: 61.58%\n",
            "  Validation Binary Accuracy: 87.31%\n",
            "  Validation Multi-Class Accuracy: 65.67%\n"
          ]
        },
        {
          "output_type": "stream",
          "name": "stderr",
          "text": [
            "Epoch 6/30 - Training:  17%|█▋        | 10/59 [00:18<00:21,  2.28it/s]/usr/local/lib/python3.10/dist-packages/PIL/Image.py:3406: DecompressionBombWarning: Image size (104688771 pixels) exceeds limit of 89478485 pixels, could be decompression bomb DOS attack.\n",
            "  warnings.warn(\n",
            "Epoch 6/30 - Training:  53%|█████▎    | 31/59 [00:54<00:58,  2.11s/it]/usr/local/lib/python3.10/dist-packages/PIL/Image.py:3406: DecompressionBombWarning: Image size (89747104 pixels) exceeds limit of 89478485 pixels, could be decompression bomb DOS attack.\n",
            "  warnings.warn(\n",
            "Epoch 6/30 - Training: 100%|██████████| 59/59 [01:31<00:00,  1.55s/it]\n",
            "Epoch 6/30 - Validation: 100%|██████████| 13/13 [00:24<00:00,  1.91s/it]\n"
          ]
        },
        {
          "output_type": "stream",
          "name": "stdout",
          "text": [
            "Epoch 6/30\n",
            "  Loss: 0.6082\n",
            "  Training Binary Accuracy: 86.01%\n",
            "  Training Multi-Class Accuracy: 65.29%\n",
            "  Validation Binary Accuracy: 78.61%\n",
            "  Validation Multi-Class Accuracy: 66.42%\n"
          ]
        },
        {
          "output_type": "stream",
          "name": "stderr",
          "text": [
            "\rEpoch 7/30 - Training:   0%|          | 0/59 [00:00<?, ?it/s]/usr/local/lib/python3.10/dist-packages/PIL/Image.py:3406: DecompressionBombWarning: Image size (89747104 pixels) exceeds limit of 89478485 pixels, could be decompression bomb DOS attack.\n",
            "  warnings.warn(\n",
            "/usr/local/lib/python3.10/dist-packages/PIL/Image.py:3406: DecompressionBombWarning: Image size (104688771 pixels) exceeds limit of 89478485 pixels, could be decompression bomb DOS attack.\n",
            "  warnings.warn(\n",
            "Epoch 7/30 - Training: 100%|██████████| 59/59 [01:33<00:00,  1.59s/it]\n",
            "Epoch 7/30 - Validation: 100%|██████████| 13/13 [00:24<00:00,  1.85s/it]\n"
          ]
        },
        {
          "output_type": "stream",
          "name": "stdout",
          "text": [
            "Epoch 7/30\n",
            "  Loss: 0.4788\n",
            "  Training Binary Accuracy: 89.83%\n",
            "  Training Multi-Class Accuracy: 71.65%\n",
            "  Validation Binary Accuracy: 88.31%\n",
            "  Validation Multi-Class Accuracy: 72.64%\n"
          ]
        },
        {
          "output_type": "stream",
          "name": "stderr",
          "text": [
            "\rEpoch 8/30 - Training:   0%|          | 0/59 [00:00<?, ?it/s]/usr/local/lib/python3.10/dist-packages/PIL/Image.py:3406: DecompressionBombWarning: Image size (104688771 pixels) exceeds limit of 89478485 pixels, could be decompression bomb DOS attack.\n",
            "  warnings.warn(\n",
            "Epoch 8/30 - Training:  56%|█████▌    | 33/59 [00:58<00:59,  2.31s/it]/usr/local/lib/python3.10/dist-packages/PIL/Image.py:3406: DecompressionBombWarning: Image size (89747104 pixels) exceeds limit of 89478485 pixels, could be decompression bomb DOS attack.\n",
            "  warnings.warn(\n",
            "Epoch 8/30 - Training: 100%|██████████| 59/59 [01:28<00:00,  1.51s/it]\n",
            "Epoch 8/30 - Validation: 100%|██████████| 13/13 [00:22<00:00,  1.72s/it]\n"
          ]
        },
        {
          "output_type": "stream",
          "name": "stdout",
          "text": [
            "Epoch 8/30\n",
            "  Loss: 0.4143\n",
            "  Training Binary Accuracy: 92.32%\n",
            "  Training Multi-Class Accuracy: 74.51%\n",
            "  Validation Binary Accuracy: 89.80%\n",
            "  Validation Multi-Class Accuracy: 64.93%\n"
          ]
        },
        {
          "output_type": "stream",
          "name": "stderr",
          "text": [
            "Epoch 9/30 - Training:  51%|█████     | 30/59 [00:50<00:11,  2.51it/s]/usr/local/lib/python3.10/dist-packages/PIL/Image.py:3406: DecompressionBombWarning: Image size (104688771 pixels) exceeds limit of 89478485 pixels, could be decompression bomb DOS attack.\n",
            "  warnings.warn(\n",
            "Epoch 9/30 - Training:  85%|████████▍ | 50/59 [01:17<00:03,  2.44it/s]/usr/local/lib/python3.10/dist-packages/PIL/Image.py:3406: DecompressionBombWarning: Image size (89747104 pixels) exceeds limit of 89478485 pixels, could be decompression bomb DOS attack.\n",
            "  warnings.warn(\n",
            "Epoch 9/30 - Training: 100%|██████████| 59/59 [01:27<00:00,  1.48s/it]\n",
            "Epoch 9/30 - Validation: 100%|██████████| 13/13 [00:25<00:00,  1.98s/it]\n"
          ]
        },
        {
          "output_type": "stream",
          "name": "stdout",
          "text": [
            "Epoch 9/30\n",
            "  Loss: 0.3214\n",
            "  Training Binary Accuracy: 94.54%\n",
            "  Training Multi-Class Accuracy: 82.30%\n",
            "  Validation Binary Accuracy: 90.05%\n",
            "  Validation Multi-Class Accuracy: 71.39%\n"
          ]
        },
        {
          "output_type": "stream",
          "name": "stderr",
          "text": [
            "Epoch 10/30 - Training:  22%|██▏       | 13/59 [00:29<01:04,  1.41s/it]/usr/local/lib/python3.10/dist-packages/PIL/Image.py:3406: DecompressionBombWarning: Image size (104688771 pixels) exceeds limit of 89478485 pixels, could be decompression bomb DOS attack.\n",
            "  warnings.warn(\n",
            "Epoch 10/30 - Training:  51%|█████     | 30/59 [00:51<00:35,  1.23s/it]/usr/local/lib/python3.10/dist-packages/PIL/Image.py:3406: DecompressionBombWarning: Image size (89747104 pixels) exceeds limit of 89478485 pixels, could be decompression bomb DOS attack.\n",
            "  warnings.warn(\n",
            "Epoch 10/30 - Training: 100%|██████████| 59/59 [01:29<00:00,  1.52s/it]\n",
            "Epoch 10/30 - Validation: 100%|██████████| 13/13 [00:23<00:00,  1.84s/it]\n"
          ]
        },
        {
          "output_type": "stream",
          "name": "stdout",
          "text": [
            "Epoch 10/30\n",
            "  Loss: 0.3800\n",
            "  Training Binary Accuracy: 92.26%\n",
            "  Training Multi-Class Accuracy: 81.19%\n",
            "  Validation Binary Accuracy: 90.80%\n",
            "  Validation Multi-Class Accuracy: 70.15%\n"
          ]
        },
        {
          "output_type": "stream",
          "name": "stderr",
          "text": [
            "Epoch 11/30 - Training:  17%|█▋        | 10/59 [00:19<00:28,  1.72it/s]/usr/local/lib/python3.10/dist-packages/PIL/Image.py:3406: DecompressionBombWarning: Image size (89747104 pixels) exceeds limit of 89478485 pixels, could be decompression bomb DOS attack.\n",
            "  warnings.warn(\n",
            "Epoch 11/30 - Training:  53%|█████▎    | 31/59 [00:53<00:49,  1.78s/it]/usr/local/lib/python3.10/dist-packages/PIL/Image.py:3406: DecompressionBombWarning: Image size (104688771 pixels) exceeds limit of 89478485 pixels, could be decompression bomb DOS attack.\n",
            "  warnings.warn(\n",
            "Epoch 11/30 - Training: 100%|██████████| 59/59 [01:28<00:00,  1.51s/it]\n",
            "Epoch 11/30 - Validation: 100%|██████████| 13/13 [00:25<00:00,  1.99s/it]\n"
          ]
        },
        {
          "output_type": "stream",
          "name": "stdout",
          "text": [
            "Epoch 11/30\n",
            "  Loss: 0.2357\n",
            "  Training Binary Accuracy: 95.81%\n",
            "  Training Multi-Class Accuracy: 88.61%\n",
            "  Validation Binary Accuracy: 91.29%\n",
            "  Validation Multi-Class Accuracy: 75.12%\n"
          ]
        },
        {
          "output_type": "stream",
          "name": "stderr",
          "text": [
            "\rEpoch 12/30 - Training:   0%|          | 0/59 [00:00<?, ?it/s]/usr/local/lib/python3.10/dist-packages/PIL/Image.py:3406: DecompressionBombWarning: Image size (89747104 pixels) exceeds limit of 89478485 pixels, could be decompression bomb DOS attack.\n",
            "  warnings.warn(\n",
            "Epoch 12/30 - Training:  86%|████████▋ | 51/59 [01:25<00:17,  2.24s/it]/usr/local/lib/python3.10/dist-packages/PIL/Image.py:3406: DecompressionBombWarning: Image size (104688771 pixels) exceeds limit of 89478485 pixels, could be decompression bomb DOS attack.\n",
            "  warnings.warn(\n",
            "Epoch 12/30 - Training: 100%|██████████| 59/59 [01:32<00:00,  1.56s/it]\n",
            "Epoch 12/30 - Validation: 100%|██████████| 13/13 [00:22<00:00,  1.74s/it]\n"
          ]
        },
        {
          "output_type": "stream",
          "name": "stdout",
          "text": [
            "Epoch 12/30\n",
            "  Loss: 0.1561\n",
            "  Training Binary Accuracy: 97.62%\n",
            "  Training Multi-Class Accuracy: 91.26%\n",
            "  Validation Binary Accuracy: 88.81%\n",
            "  Validation Multi-Class Accuracy: 75.12%\n"
          ]
        },
        {
          "output_type": "stream",
          "name": "stderr",
          "text": [
            "Epoch 13/30 - Training:  17%|█▋        | 10/59 [00:19<00:25,  1.95it/s]/usr/local/lib/python3.10/dist-packages/PIL/Image.py:3406: DecompressionBombWarning: Image size (104688771 pixels) exceeds limit of 89478485 pixels, could be decompression bomb DOS attack.\n",
            "  warnings.warn(\n",
            "Epoch 13/30 - Training:  56%|█████▌    | 33/59 [00:56<00:30,  1.15s/it]/usr/local/lib/python3.10/dist-packages/PIL/Image.py:3406: DecompressionBombWarning: Image size (89747104 pixels) exceeds limit of 89478485 pixels, could be decompression bomb DOS attack.\n",
            "  warnings.warn(\n",
            "Epoch 13/30 - Training: 100%|██████████| 59/59 [01:30<00:00,  1.54s/it]\n",
            "Epoch 13/30 - Validation: 100%|██████████| 13/13 [00:25<00:00,  1.95s/it]\n"
          ]
        },
        {
          "output_type": "stream",
          "name": "stdout",
          "text": [
            "Epoch 13/30\n",
            "  Loss: 0.2578\n",
            "  Training Binary Accuracy: 95.02%\n",
            "  Training Multi-Class Accuracy: 89.24%\n",
            "  Validation Binary Accuracy: 90.30%\n",
            "  Validation Multi-Class Accuracy: 72.89%\n"
          ]
        },
        {
          "output_type": "stream",
          "name": "stderr",
          "text": [
            "\rEpoch 14/30 - Training:   0%|          | 0/59 [00:00<?, ?it/s]/usr/local/lib/python3.10/dist-packages/PIL/Image.py:3406: DecompressionBombWarning: Image size (104688771 pixels) exceeds limit of 89478485 pixels, could be decompression bomb DOS attack.\n",
            "  warnings.warn(\n",
            "Epoch 14/30 - Training:  71%|███████   | 42/59 [01:10<00:11,  1.48it/s]/usr/local/lib/python3.10/dist-packages/PIL/Image.py:3406: DecompressionBombWarning: Image size (89747104 pixels) exceeds limit of 89478485 pixels, could be decompression bomb DOS attack.\n",
            "  warnings.warn(\n",
            "Epoch 14/30 - Training: 100%|██████████| 59/59 [01:36<00:00,  1.64s/it]\n",
            "Epoch 14/30 - Validation: 100%|██████████| 13/13 [00:24<00:00,  1.91s/it]\n"
          ]
        },
        {
          "output_type": "stream",
          "name": "stdout",
          "text": [
            "Epoch 14/30\n",
            "  Loss: 0.1479\n",
            "  Training Binary Accuracy: 97.46%\n",
            "  Training Multi-Class Accuracy: 92.53%\n",
            "  Validation Binary Accuracy: 84.08%\n",
            "  Validation Multi-Class Accuracy: 70.65%\n"
          ]
        },
        {
          "output_type": "stream",
          "name": "stderr",
          "text": [
            "Epoch 15/30 - Training:  17%|█▋        | 10/59 [00:20<00:28,  1.74it/s]/usr/local/lib/python3.10/dist-packages/PIL/Image.py:3406: DecompressionBombWarning: Image size (89747104 pixels) exceeds limit of 89478485 pixels, could be decompression bomb DOS attack.\n",
            "  warnings.warn(\n",
            "Epoch 15/30 - Training:  25%|██▌       | 15/59 [00:35<01:27,  2.00s/it]/usr/local/lib/python3.10/dist-packages/PIL/Image.py:3406: DecompressionBombWarning: Image size (104688771 pixels) exceeds limit of 89478485 pixels, could be decompression bomb DOS attack.\n",
            "  warnings.warn(\n",
            "Epoch 15/30 - Training: 100%|██████████| 59/59 [01:31<00:00,  1.55s/it]\n",
            "Epoch 15/30 - Validation: 100%|██████████| 13/13 [00:24<00:00,  1.91s/it]\n"
          ]
        },
        {
          "output_type": "stream",
          "name": "stdout",
          "text": [
            "Epoch 15/30\n",
            "  Loss: 0.1975\n",
            "  Training Binary Accuracy: 96.29%\n",
            "  Training Multi-Class Accuracy: 92.58%\n",
            "  Validation Binary Accuracy: 90.55%\n",
            "  Validation Multi-Class Accuracy: 72.64%\n"
          ]
        },
        {
          "output_type": "stream",
          "name": "stderr",
          "text": [
            "Epoch 16/30 - Training:  17%|█▋        | 10/59 [00:18<00:32,  1.52it/s]/usr/local/lib/python3.10/dist-packages/PIL/Image.py:3406: DecompressionBombWarning: Image size (89747104 pixels) exceeds limit of 89478485 pixels, could be decompression bomb DOS attack.\n",
            "  warnings.warn(\n",
            "Epoch 16/30 - Training:  69%|██████▉   | 41/59 [01:13<00:52,  2.94s/it]/usr/local/lib/python3.10/dist-packages/PIL/Image.py:3406: DecompressionBombWarning: Image size (104688771 pixels) exceeds limit of 89478485 pixels, could be decompression bomb DOS attack.\n",
            "  warnings.warn(\n",
            "Epoch 16/30 - Training: 100%|██████████| 59/59 [01:31<00:00,  1.55s/it]\n",
            "Epoch 16/30 - Validation: 100%|██████████| 13/13 [00:22<00:00,  1.74s/it]\n"
          ]
        },
        {
          "output_type": "stream",
          "name": "stdout",
          "text": [
            "Epoch 16/30\n",
            "  Loss: 0.1427\n",
            "  Training Binary Accuracy: 97.67%\n",
            "  Training Multi-Class Accuracy: 93.91%\n",
            "  Validation Binary Accuracy: 89.05%\n",
            "  Validation Multi-Class Accuracy: 71.89%\n"
          ]
        },
        {
          "output_type": "stream",
          "name": "stderr",
          "text": [
            "Epoch 17/30 - Training:  44%|████▍     | 26/59 [00:47<00:36,  1.09s/it]/usr/local/lib/python3.10/dist-packages/PIL/Image.py:3406: DecompressionBombWarning: Image size (89747104 pixels) exceeds limit of 89478485 pixels, could be decompression bomb DOS attack.\n",
            "  warnings.warn(\n",
            "Epoch 17/30 - Training:  73%|███████▎  | 43/59 [01:14<00:34,  2.16s/it]/usr/local/lib/python3.10/dist-packages/PIL/Image.py:3406: DecompressionBombWarning: Image size (104688771 pixels) exceeds limit of 89478485 pixels, could be decompression bomb DOS attack.\n",
            "  warnings.warn(\n",
            "Epoch 17/30 - Training: 100%|██████████| 59/59 [01:28<00:00,  1.50s/it]\n",
            "Epoch 17/30 - Validation: 100%|██████████| 13/13 [00:26<00:00,  2.00s/it]\n"
          ]
        },
        {
          "output_type": "stream",
          "name": "stdout",
          "text": [
            "Epoch 17/30\n",
            "  Loss: 0.1047\n",
            "  Training Binary Accuracy: 97.83%\n",
            "  Training Multi-Class Accuracy: 95.18%\n",
            "  Validation Binary Accuracy: 89.55%\n",
            "  Validation Multi-Class Accuracy: 74.13%\n"
          ]
        },
        {
          "output_type": "stream",
          "name": "stderr",
          "text": [
            "Epoch 18/30 - Training:  17%|█▋        | 10/59 [00:20<00:30,  1.60it/s]/usr/local/lib/python3.10/dist-packages/PIL/Image.py:3406: DecompressionBombWarning: Image size (89747104 pixels) exceeds limit of 89478485 pixels, could be decompression bomb DOS attack.\n",
            "  warnings.warn(\n",
            "Epoch 18/30 - Training:  51%|█████     | 30/59 [00:51<00:16,  1.79it/s]/usr/local/lib/python3.10/dist-packages/PIL/Image.py:3406: DecompressionBombWarning: Image size (104688771 pixels) exceeds limit of 89478485 pixels, could be decompression bomb DOS attack.\n",
            "  warnings.warn(\n",
            "Epoch 18/30 - Training: 100%|██████████| 59/59 [01:32<00:00,  1.57s/it]\n",
            "Epoch 18/30 - Validation: 100%|██████████| 13/13 [00:25<00:00,  1.98s/it]\n"
          ]
        },
        {
          "output_type": "stream",
          "name": "stdout",
          "text": [
            "Epoch 18/30\n",
            "  Loss: 0.0798\n",
            "  Training Binary Accuracy: 98.41%\n",
            "  Training Multi-Class Accuracy: 97.35%\n",
            "  Validation Binary Accuracy: 89.30%\n",
            "  Validation Multi-Class Accuracy: 75.37%\n"
          ]
        },
        {
          "output_type": "stream",
          "name": "stderr",
          "text": [
            "Epoch 19/30 - Training:  34%|███▍      | 20/59 [00:32<00:15,  2.53it/s]/usr/local/lib/python3.10/dist-packages/PIL/Image.py:3406: DecompressionBombWarning: Image size (104688771 pixels) exceeds limit of 89478485 pixels, could be decompression bomb DOS attack.\n",
            "  warnings.warn(\n",
            "Epoch 19/30 - Training:  51%|█████     | 30/59 [00:49<00:12,  2.41it/s]/usr/local/lib/python3.10/dist-packages/PIL/Image.py:3406: DecompressionBombWarning: Image size (89747104 pixels) exceeds limit of 89478485 pixels, could be decompression bomb DOS attack.\n",
            "  warnings.warn(\n",
            "Epoch 19/30 - Training: 100%|██████████| 59/59 [01:30<00:00,  1.53s/it]\n",
            "Epoch 19/30 - Validation: 100%|██████████| 13/13 [00:24<00:00,  1.92s/it]\n"
          ]
        },
        {
          "output_type": "stream",
          "name": "stdout",
          "text": [
            "Epoch 19/30\n",
            "  Loss: 0.1454\n",
            "  Training Binary Accuracy: 97.62%\n",
            "  Training Multi-Class Accuracy: 95.44%\n",
            "  Validation Binary Accuracy: 90.30%\n",
            "  Validation Multi-Class Accuracy: 73.63%\n"
          ]
        },
        {
          "output_type": "stream",
          "name": "stderr",
          "text": [
            "Epoch 20/30 - Training:  53%|█████▎    | 31/59 [00:57<00:28,  1.03s/it]/usr/local/lib/python3.10/dist-packages/PIL/Image.py:3406: DecompressionBombWarning: Image size (89747104 pixels) exceeds limit of 89478485 pixels, could be decompression bomb DOS attack.\n",
            "  warnings.warn(\n",
            "Epoch 20/30 - Training:  69%|██████▉   | 41/59 [01:12<00:28,  1.58s/it]/usr/local/lib/python3.10/dist-packages/PIL/Image.py:3406: DecompressionBombWarning: Image size (104688771 pixels) exceeds limit of 89478485 pixels, could be decompression bomb DOS attack.\n",
            "  warnings.warn(\n",
            "Epoch 20/30 - Training: 100%|██████████| 59/59 [01:27<00:00,  1.49s/it]\n",
            "Epoch 20/30 - Validation: 100%|██████████| 13/13 [00:26<00:00,  2.00s/it]\n"
          ]
        },
        {
          "output_type": "stream",
          "name": "stdout",
          "text": [
            "Epoch 20/30\n",
            "  Loss: 0.1371\n",
            "  Training Binary Accuracy: 97.77%\n",
            "  Training Multi-Class Accuracy: 95.23%\n",
            "  Validation Binary Accuracy: 87.06%\n",
            "  Validation Multi-Class Accuracy: 71.39%\n"
          ]
        },
        {
          "output_type": "stream",
          "name": "stderr",
          "text": [
            "Epoch 21/30 - Training:  34%|███▍      | 20/59 [00:33<00:16,  2.41it/s]/usr/local/lib/python3.10/dist-packages/PIL/Image.py:3406: DecompressionBombWarning: Image size (104688771 pixels) exceeds limit of 89478485 pixels, could be decompression bomb DOS attack.\n",
            "  warnings.warn(\n",
            "Epoch 21/30 - Training:  51%|█████     | 30/59 [00:49<00:12,  2.39it/s]/usr/local/lib/python3.10/dist-packages/PIL/Image.py:3406: DecompressionBombWarning: Image size (89747104 pixels) exceeds limit of 89478485 pixels, could be decompression bomb DOS attack.\n",
            "  warnings.warn(\n",
            "Epoch 21/30 - Training: 100%|██████████| 59/59 [01:32<00:00,  1.57s/it]\n",
            "Epoch 21/30 - Validation: 100%|██████████| 13/13 [00:25<00:00,  1.98s/it]\n"
          ]
        },
        {
          "output_type": "stream",
          "name": "stdout",
          "text": [
            "Epoch 21/30\n",
            "  Loss: 0.1776\n",
            "  Training Binary Accuracy: 96.93%\n",
            "  Training Multi-Class Accuracy: 93.96%\n",
            "  Validation Binary Accuracy: 80.35%\n",
            "  Validation Multi-Class Accuracy: 67.16%\n"
          ]
        },
        {
          "output_type": "stream",
          "name": "stderr",
          "text": [
            "Epoch 22/30 - Training:  17%|█▋        | 10/59 [00:22<00:32,  1.50it/s]/usr/local/lib/python3.10/dist-packages/PIL/Image.py:3406: DecompressionBombWarning: Image size (89747104 pixels) exceeds limit of 89478485 pixels, could be decompression bomb DOS attack.\n",
            "  warnings.warn(\n",
            "Epoch 22/30 - Training:  88%|████████▊ | 52/59 [01:22<00:02,  2.49it/s]/usr/local/lib/python3.10/dist-packages/PIL/Image.py:3406: DecompressionBombWarning: Image size (104688771 pixels) exceeds limit of 89478485 pixels, could be decompression bomb DOS attack.\n",
            "  warnings.warn(\n",
            "Epoch 22/30 - Training: 100%|██████████| 59/59 [01:32<00:00,  1.56s/it]\n",
            "Epoch 22/30 - Validation: 100%|██████████| 13/13 [00:24<00:00,  1.86s/it]\n"
          ]
        },
        {
          "output_type": "stream",
          "name": "stdout",
          "text": [
            "Epoch 22/30\n",
            "  Loss: 0.2008\n",
            "  Training Binary Accuracy: 96.82%\n",
            "  Training Multi-Class Accuracy: 93.96%\n",
            "  Validation Binary Accuracy: 88.06%\n",
            "  Validation Multi-Class Accuracy: 71.14%\n"
          ]
        },
        {
          "output_type": "stream",
          "name": "stderr",
          "text": [
            "\rEpoch 23/30 - Training:   0%|          | 0/59 [00:00<?, ?it/s]/usr/local/lib/python3.10/dist-packages/PIL/Image.py:3406: DecompressionBombWarning: Image size (104688771 pixels) exceeds limit of 89478485 pixels, could be decompression bomb DOS attack.\n",
            "  warnings.warn(\n",
            "Epoch 23/30 - Training:  51%|█████     | 30/59 [00:51<00:12,  2.31it/s]/usr/local/lib/python3.10/dist-packages/PIL/Image.py:3406: DecompressionBombWarning: Image size (89747104 pixels) exceeds limit of 89478485 pixels, could be decompression bomb DOS attack.\n",
            "  warnings.warn(\n",
            "Epoch 23/30 - Training: 100%|██████████| 59/59 [01:36<00:00,  1.63s/it]\n",
            "Epoch 23/30 - Validation: 100%|██████████| 13/13 [00:23<00:00,  1.84s/it]\n"
          ]
        },
        {
          "output_type": "stream",
          "name": "stdout",
          "text": [
            "Epoch 23/30\n",
            "  Loss: 0.2581\n",
            "  Training Binary Accuracy: 95.97%\n",
            "  Training Multi-Class Accuracy: 90.94%\n",
            "  Validation Binary Accuracy: 83.08%\n",
            "  Validation Multi-Class Accuracy: 72.14%\n"
          ]
        },
        {
          "output_type": "stream",
          "name": "stderr",
          "text": [
            "Epoch 24/30 - Training:  51%|█████     | 30/59 [00:53<00:20,  1.44it/s]/usr/local/lib/python3.10/dist-packages/PIL/Image.py:3406: DecompressionBombWarning: Image size (104688771 pixels) exceeds limit of 89478485 pixels, could be decompression bomb DOS attack.\n",
            "  warnings.warn(\n",
            "Epoch 24/30 - Training:  68%|██████▊   | 40/59 [01:08<00:16,  1.17it/s]/usr/local/lib/python3.10/dist-packages/PIL/Image.py:3406: DecompressionBombWarning: Image size (89747104 pixels) exceeds limit of 89478485 pixels, could be decompression bomb DOS attack.\n",
            "  warnings.warn(\n",
            "Epoch 24/30 - Training: 100%|██████████| 59/59 [01:36<00:00,  1.63s/it]\n",
            "Epoch 24/30 - Validation: 100%|██████████| 13/13 [00:24<00:00,  1.88s/it]\n"
          ]
        },
        {
          "output_type": "stream",
          "name": "stdout",
          "text": [
            "Epoch 24/30\n",
            "  Loss: 0.4163\n",
            "  Training Binary Accuracy: 93.85%\n",
            "  Training Multi-Class Accuracy: 88.08%\n",
            "  Validation Binary Accuracy: 88.06%\n",
            "  Validation Multi-Class Accuracy: 73.88%\n"
          ]
        },
        {
          "output_type": "stream",
          "name": "stderr",
          "text": [
            "Epoch 25/30 - Training:   2%|▏         | 1/59 [00:11<10:40, 11.04s/it]/usr/local/lib/python3.10/dist-packages/PIL/Image.py:3406: DecompressionBombWarning: Image size (89747104 pixels) exceeds limit of 89478485 pixels, could be decompression bomb DOS attack.\n",
            "  warnings.warn(\n",
            "Epoch 25/30 - Training:  24%|██▎       | 14/59 [00:32<01:17,  1.73s/it]/usr/local/lib/python3.10/dist-packages/PIL/Image.py:3406: DecompressionBombWarning: Image size (104688771 pixels) exceeds limit of 89478485 pixels, could be decompression bomb DOS attack.\n",
            "  warnings.warn(\n",
            "Epoch 25/30 - Training: 100%|██████████| 59/59 [01:30<00:00,  1.54s/it]\n",
            "Epoch 25/30 - Validation: 100%|██████████| 13/13 [00:26<00:00,  2.04s/it]\n"
          ]
        },
        {
          "output_type": "stream",
          "name": "stdout",
          "text": [
            "Epoch 25/30\n",
            "  Loss: 0.3309\n",
            "  Training Binary Accuracy: 94.59%\n",
            "  Training Multi-Class Accuracy: 91.10%\n",
            "  Validation Binary Accuracy: 88.81%\n",
            "  Validation Multi-Class Accuracy: 66.17%\n"
          ]
        },
        {
          "output_type": "stream",
          "name": "stderr",
          "text": [
            "\rEpoch 26/30 - Training:   0%|          | 0/59 [00:00<?, ?it/s]/usr/local/lib/python3.10/dist-packages/PIL/Image.py:3406: DecompressionBombWarning: Image size (104688771 pixels) exceeds limit of 89478485 pixels, could be decompression bomb DOS attack.\n",
            "  warnings.warn(\n",
            "/usr/local/lib/python3.10/dist-packages/PIL/Image.py:3406: DecompressionBombWarning: Image size (89747104 pixels) exceeds limit of 89478485 pixels, could be decompression bomb DOS attack.\n",
            "  warnings.warn(\n",
            "Epoch 26/30 - Training: 100%|██████████| 59/59 [01:29<00:00,  1.51s/it]\n",
            "Epoch 26/30 - Validation: 100%|██████████| 13/13 [00:26<00:00,  2.05s/it]\n"
          ]
        },
        {
          "output_type": "stream",
          "name": "stdout",
          "text": [
            "Epoch 26/30\n",
            "  Loss: 0.2647\n",
            "  Training Binary Accuracy: 96.66%\n",
            "  Training Multi-Class Accuracy: 93.06%\n",
            "  Validation Binary Accuracy: 87.56%\n",
            "  Validation Multi-Class Accuracy: 74.38%\n"
          ]
        },
        {
          "output_type": "stream",
          "name": "stderr",
          "text": [
            "Epoch 27/30 - Training:  19%|█▊        | 11/59 [00:24<01:43,  2.15s/it]/usr/local/lib/python3.10/dist-packages/PIL/Image.py:3406: DecompressionBombWarning: Image size (89747104 pixels) exceeds limit of 89478485 pixels, could be decompression bomb DOS attack.\n",
            "  warnings.warn(\n",
            "Epoch 27/30 - Training:  20%|██        | 12/59 [00:26<01:35,  2.04s/it]/usr/local/lib/python3.10/dist-packages/PIL/Image.py:3406: DecompressionBombWarning: Image size (104688771 pixels) exceeds limit of 89478485 pixels, could be decompression bomb DOS attack.\n",
            "  warnings.warn(\n",
            "Epoch 27/30 - Training: 100%|██████████| 59/59 [01:33<00:00,  1.59s/it]\n",
            "Epoch 27/30 - Validation: 100%|██████████| 13/13 [00:24<00:00,  1.91s/it]\n"
          ]
        },
        {
          "output_type": "stream",
          "name": "stdout",
          "text": [
            "Epoch 27/30\n",
            "  Loss: 0.2395\n",
            "  Training Binary Accuracy: 96.98%\n",
            "  Training Multi-Class Accuracy: 93.16%\n",
            "  Validation Binary Accuracy: 88.06%\n",
            "  Validation Multi-Class Accuracy: 72.64%\n"
          ]
        },
        {
          "output_type": "stream",
          "name": "stderr",
          "text": [
            "Epoch 28/30 - Training:   2%|▏         | 1/59 [00:14<13:49, 14.31s/it]/usr/local/lib/python3.10/dist-packages/PIL/Image.py:3406: DecompressionBombWarning: Image size (89747104 pixels) exceeds limit of 89478485 pixels, could be decompression bomb DOS attack.\n",
            "  warnings.warn(\n",
            "Epoch 28/30 - Training:  53%|█████▎    | 31/59 [00:48<00:19,  1.47it/s]/usr/local/lib/python3.10/dist-packages/PIL/Image.py:3406: DecompressionBombWarning: Image size (104688771 pixels) exceeds limit of 89478485 pixels, could be decompression bomb DOS attack.\n",
            "  warnings.warn(\n",
            "Epoch 28/30 - Training: 100%|██████████| 59/59 [01:29<00:00,  1.51s/it]\n",
            "Epoch 28/30 - Validation: 100%|██████████| 13/13 [00:24<00:00,  1.92s/it]\n"
          ]
        },
        {
          "output_type": "stream",
          "name": "stdout",
          "text": [
            "Epoch 28/30\n",
            "  Loss: 0.1361\n",
            "  Training Binary Accuracy: 97.62%\n",
            "  Training Multi-Class Accuracy: 94.81%\n",
            "  Validation Binary Accuracy: 87.06%\n",
            "  Validation Multi-Class Accuracy: 70.65%\n"
          ]
        },
        {
          "output_type": "stream",
          "name": "stderr",
          "text": [
            "\rEpoch 29/30 - Training:   0%|          | 0/59 [00:00<?, ?it/s]/usr/local/lib/python3.10/dist-packages/PIL/Image.py:3406: DecompressionBombWarning: Image size (104688771 pixels) exceeds limit of 89478485 pixels, could be decompression bomb DOS attack.\n",
            "  warnings.warn(\n",
            "Epoch 29/30 - Training:  69%|██████▉   | 41/59 [01:12<00:30,  1.70s/it]/usr/local/lib/python3.10/dist-packages/PIL/Image.py:3406: DecompressionBombWarning: Image size (89747104 pixels) exceeds limit of 89478485 pixels, could be decompression bomb DOS attack.\n",
            "  warnings.warn(\n",
            "Epoch 29/30 - Training: 100%|██████████| 59/59 [01:30<00:00,  1.54s/it]\n",
            "Epoch 29/30 - Validation: 100%|██████████| 13/13 [00:24<00:00,  1.86s/it]\n"
          ]
        },
        {
          "output_type": "stream",
          "name": "stdout",
          "text": [
            "Epoch 29/30\n",
            "  Loss: 0.1914\n",
            "  Training Binary Accuracy: 97.62%\n",
            "  Training Multi-Class Accuracy: 94.97%\n",
            "  Validation Binary Accuracy: 89.55%\n",
            "  Validation Multi-Class Accuracy: 76.37%\n"
          ]
        },
        {
          "output_type": "stream",
          "name": "stderr",
          "text": [
            "\rEpoch 30/30 - Training:   0%|          | 0/59 [00:00<?, ?it/s]/usr/local/lib/python3.10/dist-packages/PIL/Image.py:3406: DecompressionBombWarning: Image size (104688771 pixels) exceeds limit of 89478485 pixels, could be decompression bomb DOS attack.\n",
            "  warnings.warn(\n",
            "Epoch 30/30 - Training:  36%|███▌      | 21/59 [00:42<01:47,  2.82s/it]/usr/local/lib/python3.10/dist-packages/PIL/Image.py:3406: DecompressionBombWarning: Image size (89747104 pixels) exceeds limit of 89478485 pixels, could be decompression bomb DOS attack.\n",
            "  warnings.warn(\n",
            "Epoch 30/30 - Training: 100%|██████████| 59/59 [01:30<00:00,  1.53s/it]\n",
            "Epoch 30/30 - Validation: 100%|██████████| 13/13 [00:25<00:00,  1.93s/it]"
          ]
        },
        {
          "output_type": "stream",
          "name": "stdout",
          "text": [
            "Epoch 30/30\n",
            "  Loss: 0.0921\n",
            "  Training Binary Accuracy: 98.62%\n",
            "  Training Multi-Class Accuracy: 96.56%\n",
            "  Validation Binary Accuracy: 90.80%\n",
            "  Validation Multi-Class Accuracy: 74.63%\n"
          ]
        },
        {
          "output_type": "stream",
          "name": "stderr",
          "text": [
            "\n"
          ]
        }
      ],
      "source": [
        "from tqdm import tqdm\n",
        "\n",
        "epoch_list = []\n",
        "loss_list = []\n",
        "train_binary_accuracy_list = []\n",
        "train_multi_class_accuracy_list = []\n",
        "val_binary_accuracy_list = []\n",
        "val_multi_class_accuracy_list = []\n",
        "\n",
        "# Training loop\n",
        "epochs = 30\n",
        "for epoch in range(epochs):\n",
        "    model.train()\n",
        "    running_loss = 0.0\n",
        "    correct_train_binary = 0\n",
        "    total_train_binary = 0\n",
        "    correct_train_multi_class = 0\n",
        "    total_train_multi_class = 0\n",
        "\n",
        "    # Training loop\n",
        "    for images, (binary_labels, multi_class_labels) in tqdm(train_loader, desc=f\"Epoch {epoch + 1}/{epochs} - Training\"):\n",
        "        images = images.to(device)\n",
        "        binary_labels = binary_labels.to(device)\n",
        "        multi_class_labels = multi_class_labels.to(device)\n",
        "\n",
        "        optimizer.zero_grad()\n",
        "\n",
        "        # Forward pass\n",
        "        binary_output, multi_class_output = model(images)\n",
        "\n",
        "        # Compute combined loss\n",
        "        loss = combined_loss(binary_output, binary_labels, multi_class_output, multi_class_labels)\n",
        "        loss.backward()\n",
        "        optimizer.step()\n",
        "\n",
        "        running_loss += loss.item()\n",
        "\n",
        "        # Calculate training accuracy for binary classification\n",
        "        predicted_binary = (torch.sigmoid(binary_output.squeeze()) > 0.5).int()  # Apply sigmoid for probability\n",
        "        correct_train_binary += (predicted_binary == binary_labels.int()).sum().item()\n",
        "        total_train_binary += binary_labels.size(0)\n",
        "\n",
        "        # Calculate training accuracy for multi-class classification\n",
        "        _, predicted_multi_class = torch.max(multi_class_output, 1)\n",
        "        correct_train_multi_class += (predicted_multi_class == multi_class_labels).sum().item()\n",
        "        total_train_multi_class += multi_class_labels.size(0)\n",
        "\n",
        "    # Calculate the average loss and training accuracies\n",
        "    avg_loss = running_loss / len(train_loader)\n",
        "    train_binary_accuracy = 100 * correct_train_binary / total_train_binary\n",
        "    train_multi_class_accuracy = 100 * correct_train_multi_class / total_train_multi_class\n",
        "\n",
        "    # Validation loop\n",
        "    model.eval()\n",
        "    correct_val_binary = 0\n",
        "    total_val_binary = 0\n",
        "    correct_val_multi_class = 0\n",
        "    total_val_multi_class = 0\n",
        "    with torch.no_grad():\n",
        "        for images, (binary_labels, multi_class_labels) in tqdm(val_loader, desc=f\"Epoch {epoch + 1}/{epochs} - Validation\"):\n",
        "            images = images.to(device)\n",
        "            binary_labels = binary_labels.to(device)\n",
        "            multi_class_labels = multi_class_labels.to(device)\n",
        "\n",
        "            binary_output, multi_class_output = model(images)\n",
        "\n",
        "            # Calculate validation accuracy for binary classification\n",
        "            predicted_binary = (torch.sigmoid(binary_output.squeeze()) > 0.5).int()  # Apply sigmoid for probability\n",
        "            correct_val_binary += (predicted_binary == binary_labels.int()).sum().item()\n",
        "            total_val_binary += binary_labels.size(0)\n",
        "\n",
        "            # Calculate validation accuracy for multi-class classification\n",
        "            _, predicted_multi_class = torch.max(multi_class_output, 1)\n",
        "            correct_val_multi_class += (predicted_multi_class == multi_class_labels).sum().item()\n",
        "            total_val_multi_class += multi_class_labels.size(0)\n",
        "\n",
        "    # Calculate validation accuracies\n",
        "    val_binary_accuracy = 100 * correct_val_binary / total_val_binary\n",
        "    val_multi_class_accuracy = 100 * correct_val_multi_class / total_val_multi_class\n",
        "\n",
        "    # Store the metrics\n",
        "    epoch_list.append(epoch + 1)\n",
        "    loss_list.append(avg_loss)\n",
        "    train_binary_accuracy_list.append(train_binary_accuracy)\n",
        "    train_multi_class_accuracy_list.append(train_multi_class_accuracy)\n",
        "    val_binary_accuracy_list.append(val_binary_accuracy)\n",
        "    val_multi_class_accuracy_list.append(val_multi_class_accuracy)\n",
        "\n",
        "    # Log the metrics\n",
        "    print(f\"Epoch {epoch + 1}/{epochs}\")\n",
        "    print(f\"  Loss: {avg_loss:.4f}\")\n",
        "    print(f\"  Training Binary Accuracy: {train_binary_accuracy:.2f}%\")\n",
        "    print(f\"  Training Multi-Class Accuracy: {train_multi_class_accuracy:.2f}%\")\n",
        "    print(f\"  Validation Binary Accuracy: {val_binary_accuracy:.2f}%\")\n",
        "    print(f\"  Validation Multi-Class Accuracy: {val_multi_class_accuracy:.2f}%\")\n"
      ]
    },
    {
      "cell_type": "code",
      "execution_count": null,
      "metadata": {
        "colab": {
          "base_uri": "https://localhost:8080/"
        },
        "id": "PlbISfkHWn8b",
        "outputId": "930c58d6-d7d4-4618-bf5a-37298e8e2c08"
      },
      "outputs": [
        {
          "output_type": "stream",
          "name": "stdout",
          "text": [
            "Model saved successfully!\n"
          ]
        }
      ],
      "source": [
        "# Save the model's state dictionary\n",
        "torch.save(model.state_dict(), \"edgenext_aug1.pth\")\n",
        "print(\"Model saved successfully!\")"
      ]
    },
    {
      "cell_type": "code",
      "execution_count": null,
      "metadata": {
        "colab": {
          "base_uri": "https://localhost:8080/"
        },
        "id": "Dxt2ytzvZdXp",
        "outputId": "456e60fa-39b4-4cfc-bcbd-51e0fbc971aa"
      },
      "outputs": [
        {
          "output_type": "stream",
          "name": "stdout",
          "text": [
            "Training results saved successfully!\n"
          ]
        }
      ],
      "source": [
        "# Save the metrics to a CSV file\n",
        "data = {\n",
        "    'Epoch': epoch_list,\n",
        "    'Loss': loss_list,\n",
        "    'Train Binary Accuracy': train_binary_accuracy_list,\n",
        "    'Train Multi-Class Accuracy': train_multi_class_accuracy_list,\n",
        "    'Validation Binary Accuracy': val_binary_accuracy_list,\n",
        "    'Validation Multi-Class Accuracy': val_multi_class_accuracy_list\n",
        "}\n",
        "\n",
        "# Create a DataFrame from the dictionary\n",
        "df = pd.DataFrame(data)\n",
        "\n",
        "# Save the DataFrame to a CSV file\n",
        "df.to_csv('edgenext_aug1_training_results.csv', index=False)\n",
        "print(\"Training results saved successfully!\")"
      ]
    },
    {
      "cell_type": "markdown",
      "metadata": {
        "id": "UcsqOo-xudHK"
      },
      "source": [
        "## Test the Model"
      ]
    },
    {
      "cell_type": "code",
      "execution_count": null,
      "metadata": {
        "id": "vghdvUe2Tsdh"
      },
      "outputs": [],
      "source": [
        "#model.load_state_dict(torch.load(\"efficientnetv2_multi_classifier.pth\"))"
      ]
    },
    {
      "cell_type": "code",
      "execution_count": null,
      "metadata": {
        "id": "TgewvZivs_sb"
      },
      "outputs": [],
      "source": [
        "# Define transformations for the test set\n",
        "test_transforms = transforms.Compose([\n",
        "    transforms.Resize((224, 224)),\n",
        "    transforms.ToTensor(),\n",
        "    transforms.Normalize([0.485, 0.456, 0.406], [0.229, 0.224, 0.225])\n",
        "])\n",
        "\n",
        "# Load your test dataset\n",
        "test_dataset = CustomFireDataset(root_dir=\"/root/.cache/kagglehub/datasets/elmadafri/the-wildfire-dataset/versions/1/the_wildfire_dataset/the_wildfire_dataset/test\", transform=test_transforms)\n",
        "\n",
        "# Create a DataLoader for the test dataset\n",
        "test_loader = torch.utils.data.DataLoader(test_dataset, batch_size=32, shuffle=False, num_workers=10)"
      ]
    },
    {
      "cell_type": "code",
      "execution_count": null,
      "metadata": {
        "colab": {
          "base_uri": "https://localhost:8080/"
        },
        "id": "Ibrtd8M6WE80",
        "outputId": "a655d16f-3f26-46f2-bbb4-8e0f3a529556"
      },
      "outputs": [
        {
          "output_type": "stream",
          "name": "stderr",
          "text": [
            "/usr/local/lib/python3.10/dist-packages/PIL/Image.py:3406: DecompressionBombWarning: Image size (101859328 pixels) exceeds limit of 89478485 pixels, could be decompression bomb DOS attack.\n",
            "  warnings.warn(\n",
            "/usr/local/lib/python3.10/dist-packages/PIL/Image.py:3406: DecompressionBombWarning: Image size (96631920 pixels) exceeds limit of 89478485 pixels, could be decompression bomb DOS attack.\n",
            "  warnings.warn(\n",
            "/usr/local/lib/python3.10/dist-packages/PIL/Image.py:3406: DecompressionBombWarning: Image size (94487082 pixels) exceeds limit of 89478485 pixels, could be decompression bomb DOS attack.\n",
            "  warnings.warn(\n"
          ]
        },
        {
          "output_type": "stream",
          "name": "stdout",
          "text": [
            "Test results saved to 'edgenext_test_results.csv'.\n"
          ]
        }
      ],
      "source": [
        "from sklearn.metrics import roc_curve, auc, confusion_matrix, classification_report\n",
        "import pandas as pd\n",
        "import numpy as np\n",
        "import torch\n",
        "\n",
        "# Initialize lists to store results\n",
        "true_binary_labels = []\n",
        "predicted_binary_probs = []  # Probabilities for the positive class (fire)\n",
        "\n",
        "true_multi_class_labels = []\n",
        "predicted_multi_class_labels = []\n",
        "\n",
        "# Evaluate the model on the test set\n",
        "model.eval()\n",
        "with torch.no_grad():\n",
        "    for images, (binary_labels, multi_class_labels) in test_loader:\n",
        "        # Move data to device\n",
        "        images = images.to(device)\n",
        "        binary_labels = binary_labels.to(device)\n",
        "        multi_class_labels = multi_class_labels.to(device)\n",
        "\n",
        "        # Forward pass through the model\n",
        "        binary_output, multi_class_output = model(images)\n",
        "\n",
        "        # Apply sigmoid to binary outputs for probabilities\n",
        "        binary_probs = torch.sigmoid(binary_output).squeeze().cpu().numpy()  # Convert logits to probabilities\n",
        "\n",
        "        # Get predicted class labels for multi-class classification\n",
        "        _, predicted_multi_class = torch.max(multi_class_output, 1)\n",
        "        predicted_multi_class = predicted_multi_class.cpu().numpy()\n",
        "\n",
        "        # Store true labels and predictions for binary classification\n",
        "        true_binary_labels.extend(binary_labels.cpu().numpy())\n",
        "        predicted_binary_probs.extend(binary_probs)\n",
        "\n",
        "        # Store true labels and predictions for multi-class classification\n",
        "        true_multi_class_labels.extend(multi_class_labels.cpu().numpy())\n",
        "        predicted_multi_class_labels.extend(predicted_multi_class)\n",
        "\n",
        "# Combine all data into a single DataFrame\n",
        "results = pd.DataFrame({\n",
        "    \"True Binary Labels\": true_binary_labels,\n",
        "    \"Predicted Binary Probabilities\": predicted_binary_probs,\n",
        "    \"True Multi-Class Labels\": true_multi_class_labels,\n",
        "    \"Predicted Multi-Class Labels\": predicted_multi_class_labels\n",
        "})\n",
        "\n",
        "# Save results to CSV\n",
        "results.to_csv(\"edgenext_aug1_test_results.csv\", index=False)\n",
        "print(\"Test results saved to 'edgenext_test_results.csv'.\")"
      ]
    },
    {
      "cell_type": "code",
      "source": [],
      "metadata": {
        "id": "Xhh7nTvHi7Qd"
      },
      "execution_count": null,
      "outputs": []
    }
  ],
  "metadata": {
    "accelerator": "GPU",
    "colab": {
      "gpuType": "L4",
      "machine_shape": "hm",
      "provenance": []
    },
    "kernelspec": {
      "display_name": "Python 3",
      "name": "python3"
    },
    "language_info": {
      "codemirror_mode": {
        "name": "ipython",
        "version": 3
      },
      "file_extension": ".py",
      "mimetype": "text/x-python",
      "name": "python",
      "nbconvert_exporter": "python",
      "pygments_lexer": "ipython3",
      "version": "3.11.10"
    },
    "widgets": {
      "application/vnd.jupyter.widget-state+json": {
        "678c4293176f4c6f8720228dfd7185ca": {
          "model_module": "@jupyter-widgets/controls",
          "model_name": "HBoxModel",
          "model_module_version": "1.5.0",
          "state": {
            "_dom_classes": [],
            "_model_module": "@jupyter-widgets/controls",
            "_model_module_version": "1.5.0",
            "_model_name": "HBoxModel",
            "_view_count": null,
            "_view_module": "@jupyter-widgets/controls",
            "_view_module_version": "1.5.0",
            "_view_name": "HBoxView",
            "box_style": "",
            "children": [
              "IPY_MODEL_79da905e2062405c86801a4b538a2340",
              "IPY_MODEL_3440f1ae836949c4b1debbbe26724800",
              "IPY_MODEL_d4bcc1c95d184db08b3b44df16c3a7b1"
            ],
            "layout": "IPY_MODEL_ad4060c3758442989cc564465169b972"
          }
        },
        "79da905e2062405c86801a4b538a2340": {
          "model_module": "@jupyter-widgets/controls",
          "model_name": "HTMLModel",
          "model_module_version": "1.5.0",
          "state": {
            "_dom_classes": [],
            "_model_module": "@jupyter-widgets/controls",
            "_model_module_version": "1.5.0",
            "_model_name": "HTMLModel",
            "_view_count": null,
            "_view_module": "@jupyter-widgets/controls",
            "_view_module_version": "1.5.0",
            "_view_name": "HTMLView",
            "description": "",
            "description_tooltip": null,
            "layout": "IPY_MODEL_1c54523dc48d46c2a9e6ee9f6c5bd267",
            "placeholder": "​",
            "style": "IPY_MODEL_451d47740a624cee9b6cd86f2c30dc93",
            "value": "model.safetensors: 100%"
          }
        },
        "3440f1ae836949c4b1debbbe26724800": {
          "model_module": "@jupyter-widgets/controls",
          "model_name": "FloatProgressModel",
          "model_module_version": "1.5.0",
          "state": {
            "_dom_classes": [],
            "_model_module": "@jupyter-widgets/controls",
            "_model_module_version": "1.5.0",
            "_model_name": "FloatProgressModel",
            "_view_count": null,
            "_view_module": "@jupyter-widgets/controls",
            "_view_module_version": "1.5.0",
            "_view_name": "ProgressView",
            "bar_style": "success",
            "description": "",
            "description_tooltip": null,
            "layout": "IPY_MODEL_b19cb8db3f10449ea33f8b70546c801e",
            "max": 22368078,
            "min": 0,
            "orientation": "horizontal",
            "style": "IPY_MODEL_c5ecfb99b6f0470383c2bf6bae6584c4",
            "value": 22368078
          }
        },
        "d4bcc1c95d184db08b3b44df16c3a7b1": {
          "model_module": "@jupyter-widgets/controls",
          "model_name": "HTMLModel",
          "model_module_version": "1.5.0",
          "state": {
            "_dom_classes": [],
            "_model_module": "@jupyter-widgets/controls",
            "_model_module_version": "1.5.0",
            "_model_name": "HTMLModel",
            "_view_count": null,
            "_view_module": "@jupyter-widgets/controls",
            "_view_module_version": "1.5.0",
            "_view_name": "HTMLView",
            "description": "",
            "description_tooltip": null,
            "layout": "IPY_MODEL_5e9ea05829544c58ac193d60f19c5fbd",
            "placeholder": "​",
            "style": "IPY_MODEL_1f2e9685193f424795d35767ab8d1e52",
            "value": " 22.4M/22.4M [00:00&lt;00:00, 40.3MB/s]"
          }
        },
        "ad4060c3758442989cc564465169b972": {
          "model_module": "@jupyter-widgets/base",
          "model_name": "LayoutModel",
          "model_module_version": "1.2.0",
          "state": {
            "_model_module": "@jupyter-widgets/base",
            "_model_module_version": "1.2.0",
            "_model_name": "LayoutModel",
            "_view_count": null,
            "_view_module": "@jupyter-widgets/base",
            "_view_module_version": "1.2.0",
            "_view_name": "LayoutView",
            "align_content": null,
            "align_items": null,
            "align_self": null,
            "border": null,
            "bottom": null,
            "display": null,
            "flex": null,
            "flex_flow": null,
            "grid_area": null,
            "grid_auto_columns": null,
            "grid_auto_flow": null,
            "grid_auto_rows": null,
            "grid_column": null,
            "grid_gap": null,
            "grid_row": null,
            "grid_template_areas": null,
            "grid_template_columns": null,
            "grid_template_rows": null,
            "height": null,
            "justify_content": null,
            "justify_items": null,
            "left": null,
            "margin": null,
            "max_height": null,
            "max_width": null,
            "min_height": null,
            "min_width": null,
            "object_fit": null,
            "object_position": null,
            "order": null,
            "overflow": null,
            "overflow_x": null,
            "overflow_y": null,
            "padding": null,
            "right": null,
            "top": null,
            "visibility": null,
            "width": null
          }
        },
        "1c54523dc48d46c2a9e6ee9f6c5bd267": {
          "model_module": "@jupyter-widgets/base",
          "model_name": "LayoutModel",
          "model_module_version": "1.2.0",
          "state": {
            "_model_module": "@jupyter-widgets/base",
            "_model_module_version": "1.2.0",
            "_model_name": "LayoutModel",
            "_view_count": null,
            "_view_module": "@jupyter-widgets/base",
            "_view_module_version": "1.2.0",
            "_view_name": "LayoutView",
            "align_content": null,
            "align_items": null,
            "align_self": null,
            "border": null,
            "bottom": null,
            "display": null,
            "flex": null,
            "flex_flow": null,
            "grid_area": null,
            "grid_auto_columns": null,
            "grid_auto_flow": null,
            "grid_auto_rows": null,
            "grid_column": null,
            "grid_gap": null,
            "grid_row": null,
            "grid_template_areas": null,
            "grid_template_columns": null,
            "grid_template_rows": null,
            "height": null,
            "justify_content": null,
            "justify_items": null,
            "left": null,
            "margin": null,
            "max_height": null,
            "max_width": null,
            "min_height": null,
            "min_width": null,
            "object_fit": null,
            "object_position": null,
            "order": null,
            "overflow": null,
            "overflow_x": null,
            "overflow_y": null,
            "padding": null,
            "right": null,
            "top": null,
            "visibility": null,
            "width": null
          }
        },
        "451d47740a624cee9b6cd86f2c30dc93": {
          "model_module": "@jupyter-widgets/controls",
          "model_name": "DescriptionStyleModel",
          "model_module_version": "1.5.0",
          "state": {
            "_model_module": "@jupyter-widgets/controls",
            "_model_module_version": "1.5.0",
            "_model_name": "DescriptionStyleModel",
            "_view_count": null,
            "_view_module": "@jupyter-widgets/base",
            "_view_module_version": "1.2.0",
            "_view_name": "StyleView",
            "description_width": ""
          }
        },
        "b19cb8db3f10449ea33f8b70546c801e": {
          "model_module": "@jupyter-widgets/base",
          "model_name": "LayoutModel",
          "model_module_version": "1.2.0",
          "state": {
            "_model_module": "@jupyter-widgets/base",
            "_model_module_version": "1.2.0",
            "_model_name": "LayoutModel",
            "_view_count": null,
            "_view_module": "@jupyter-widgets/base",
            "_view_module_version": "1.2.0",
            "_view_name": "LayoutView",
            "align_content": null,
            "align_items": null,
            "align_self": null,
            "border": null,
            "bottom": null,
            "display": null,
            "flex": null,
            "flex_flow": null,
            "grid_area": null,
            "grid_auto_columns": null,
            "grid_auto_flow": null,
            "grid_auto_rows": null,
            "grid_column": null,
            "grid_gap": null,
            "grid_row": null,
            "grid_template_areas": null,
            "grid_template_columns": null,
            "grid_template_rows": null,
            "height": null,
            "justify_content": null,
            "justify_items": null,
            "left": null,
            "margin": null,
            "max_height": null,
            "max_width": null,
            "min_height": null,
            "min_width": null,
            "object_fit": null,
            "object_position": null,
            "order": null,
            "overflow": null,
            "overflow_x": null,
            "overflow_y": null,
            "padding": null,
            "right": null,
            "top": null,
            "visibility": null,
            "width": null
          }
        },
        "c5ecfb99b6f0470383c2bf6bae6584c4": {
          "model_module": "@jupyter-widgets/controls",
          "model_name": "ProgressStyleModel",
          "model_module_version": "1.5.0",
          "state": {
            "_model_module": "@jupyter-widgets/controls",
            "_model_module_version": "1.5.0",
            "_model_name": "ProgressStyleModel",
            "_view_count": null,
            "_view_module": "@jupyter-widgets/base",
            "_view_module_version": "1.2.0",
            "_view_name": "StyleView",
            "bar_color": null,
            "description_width": ""
          }
        },
        "5e9ea05829544c58ac193d60f19c5fbd": {
          "model_module": "@jupyter-widgets/base",
          "model_name": "LayoutModel",
          "model_module_version": "1.2.0",
          "state": {
            "_model_module": "@jupyter-widgets/base",
            "_model_module_version": "1.2.0",
            "_model_name": "LayoutModel",
            "_view_count": null,
            "_view_module": "@jupyter-widgets/base",
            "_view_module_version": "1.2.0",
            "_view_name": "LayoutView",
            "align_content": null,
            "align_items": null,
            "align_self": null,
            "border": null,
            "bottom": null,
            "display": null,
            "flex": null,
            "flex_flow": null,
            "grid_area": null,
            "grid_auto_columns": null,
            "grid_auto_flow": null,
            "grid_auto_rows": null,
            "grid_column": null,
            "grid_gap": null,
            "grid_row": null,
            "grid_template_areas": null,
            "grid_template_columns": null,
            "grid_template_rows": null,
            "height": null,
            "justify_content": null,
            "justify_items": null,
            "left": null,
            "margin": null,
            "max_height": null,
            "max_width": null,
            "min_height": null,
            "min_width": null,
            "object_fit": null,
            "object_position": null,
            "order": null,
            "overflow": null,
            "overflow_x": null,
            "overflow_y": null,
            "padding": null,
            "right": null,
            "top": null,
            "visibility": null,
            "width": null
          }
        },
        "1f2e9685193f424795d35767ab8d1e52": {
          "model_module": "@jupyter-widgets/controls",
          "model_name": "DescriptionStyleModel",
          "model_module_version": "1.5.0",
          "state": {
            "_model_module": "@jupyter-widgets/controls",
            "_model_module_version": "1.5.0",
            "_model_name": "DescriptionStyleModel",
            "_view_count": null,
            "_view_module": "@jupyter-widgets/base",
            "_view_module_version": "1.2.0",
            "_view_name": "StyleView",
            "description_width": ""
          }
        }
      }
    }
  },
  "nbformat": 4,
  "nbformat_minor": 0
}