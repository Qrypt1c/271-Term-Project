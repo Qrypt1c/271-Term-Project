{
  "cells": [
    {
      "cell_type": "markdown",
      "metadata": {
        "id": "NFDC6TgLorsU"
      },
      "source": [
        "# EdgeNeXt"
      ]
    },
    {
      "cell_type": "code",
      "execution_count": null,
      "metadata": {
        "colab": {
          "base_uri": "https://localhost:8080/"
        },
        "id": "o6ubYd3fsYsv",
        "outputId": "9999c99e-0c8e-4e89-b497-ddd0cd996f86"
      },
      "outputs": [
        {
          "output_type": "stream",
          "name": "stdout",
          "text": [
            "Requirement already satisfied: torch in /usr/local/lib/python3.10/dist-packages (2.5.1+cu121)\n",
            "Requirement already satisfied: torchvision in /usr/local/lib/python3.10/dist-packages (0.20.1+cu121)\n",
            "Requirement already satisfied: timm in /usr/local/lib/python3.10/dist-packages (1.0.11)\n",
            "Requirement already satisfied: filelock in /usr/local/lib/python3.10/dist-packages (from torch) (3.16.1)\n",
            "Requirement already satisfied: typing-extensions>=4.8.0 in /usr/local/lib/python3.10/dist-packages (from torch) (4.12.2)\n",
            "Requirement already satisfied: networkx in /usr/local/lib/python3.10/dist-packages (from torch) (3.4.2)\n",
            "Requirement already satisfied: jinja2 in /usr/local/lib/python3.10/dist-packages (from torch) (3.1.4)\n",
            "Requirement already satisfied: fsspec in /usr/local/lib/python3.10/dist-packages (from torch) (2024.10.0)\n",
            "Requirement already satisfied: sympy==1.13.1 in /usr/local/lib/python3.10/dist-packages (from torch) (1.13.1)\n",
            "Requirement already satisfied: mpmath<1.4,>=1.1.0 in /usr/local/lib/python3.10/dist-packages (from sympy==1.13.1->torch) (1.3.0)\n",
            "Requirement already satisfied: numpy in /usr/local/lib/python3.10/dist-packages (from torchvision) (1.26.4)\n",
            "Requirement already satisfied: pillow!=8.3.*,>=5.3.0 in /usr/local/lib/python3.10/dist-packages (from torchvision) (11.0.0)\n",
            "Requirement already satisfied: pyyaml in /usr/local/lib/python3.10/dist-packages (from timm) (6.0.2)\n",
            "Requirement already satisfied: huggingface_hub in /usr/local/lib/python3.10/dist-packages (from timm) (0.26.2)\n",
            "Requirement already satisfied: safetensors in /usr/local/lib/python3.10/dist-packages (from timm) (0.4.5)\n",
            "Requirement already satisfied: packaging>=20.9 in /usr/local/lib/python3.10/dist-packages (from huggingface_hub->timm) (24.2)\n",
            "Requirement already satisfied: requests in /usr/local/lib/python3.10/dist-packages (from huggingface_hub->timm) (2.32.3)\n",
            "Requirement already satisfied: tqdm>=4.42.1 in /usr/local/lib/python3.10/dist-packages (from huggingface_hub->timm) (4.66.6)\n",
            "Requirement already satisfied: MarkupSafe>=2.0 in /usr/local/lib/python3.10/dist-packages (from jinja2->torch) (3.0.2)\n",
            "Requirement already satisfied: charset-normalizer<4,>=2 in /usr/local/lib/python3.10/dist-packages (from requests->huggingface_hub->timm) (3.4.0)\n",
            "Requirement already satisfied: idna<4,>=2.5 in /usr/local/lib/python3.10/dist-packages (from requests->huggingface_hub->timm) (3.10)\n",
            "Requirement already satisfied: urllib3<3,>=1.21.1 in /usr/local/lib/python3.10/dist-packages (from requests->huggingface_hub->timm) (2.2.3)\n",
            "Requirement already satisfied: certifi>=2017.4.17 in /usr/local/lib/python3.10/dist-packages (from requests->huggingface_hub->timm) (2024.8.30)\n"
          ]
        }
      ],
      "source": [
        "!pip install torch torchvision timm"
      ]
    },
    {
      "cell_type": "code",
      "execution_count": null,
      "metadata": {
        "colab": {
          "base_uri": "https://localhost:8080/"
        },
        "id": "d42Oq6eHKPI1",
        "outputId": "8b24bc70-bb5c-4cc2-d3a6-ba72724ad5d0"
      },
      "outputs": [
        {
          "output_type": "stream",
          "name": "stdout",
          "text": [
            "Downloading from https://www.kaggle.com/api/v1/datasets/download/elmadafri/the-wildfire-dataset?dataset_version_number=1...\n"
          ]
        },
        {
          "output_type": "stream",
          "name": "stderr",
          "text": [
            "100%|██████████| 9.94G/9.94G [01:28<00:00, 120MB/s]"
          ]
        },
        {
          "output_type": "stream",
          "name": "stdout",
          "text": [
            "Extracting files...\n"
          ]
        },
        {
          "output_type": "stream",
          "name": "stderr",
          "text": [
            "\n"
          ]
        },
        {
          "output_type": "stream",
          "name": "stdout",
          "text": [
            "Path to dataset files: /root/.cache/kagglehub/datasets/elmadafri/the-wildfire-dataset/versions/1\n"
          ]
        }
      ],
      "source": [
        "import kagglehub\n",
        "\n",
        "# Download latest version\n",
        "path = kagglehub.dataset_download(\"elmadafri/the-wildfire-dataset/versions/1\")\n",
        "\n",
        "print(\"Path to dataset files:\", path)"
      ]
    },
    {
      "cell_type": "code",
      "execution_count": null,
      "metadata": {
        "id": "EzQjfZJClO98"
      },
      "outputs": [],
      "source": [
        "!rm /root/.cache/kagglehub/datasets/elmadafri/the-wildfire-dataset/versions/1/the_wildfire_dataset/the_wildfire_dataset/val/fire/Both_smoke_and_fire/desktop.ini"
      ]
    },
    {
      "cell_type": "code",
      "execution_count": null,
      "metadata": {
        "id": "qKNpK6JhorsV"
      },
      "outputs": [],
      "source": [
        "import torch\n",
        "import pandas as pd\n",
        "import torch.nn as nn\n",
        "import torch.optim as optim\n",
        "from torchvision import datasets, models, transforms\n",
        "from timm import create_model"
      ]
    },
    {
      "cell_type": "markdown",
      "metadata": {
        "id": "52VSqbJBorsW"
      },
      "source": [
        "## Load Model"
      ]
    },
    {
      "cell_type": "code",
      "execution_count": null,
      "metadata": {
        "id": "Mrr_-GWxsYsw",
        "colab": {
          "base_uri": "https://localhost:8080/",
          "height": 153,
          "referenced_widgets": [
            "96136a0db2ec4a18a8cad12dde83a8a9",
            "8b1edc22f6e0404eb37371f74ead3afb",
            "d1ecf68ecffa4a67bc8bb0254cc3782f",
            "4201af817f4b4c619ba846e7d0ac8404",
            "8c54f91c6a424d1e8294290efaf2753c",
            "1f0d8466dc194f05a7bc8e0b5dafa3f3",
            "56e8e58d14cb4c5e8badd52760054c7c",
            "dfa468d72d99494a85ea315985e0beee",
            "d8f18adee15f45f7a170be0dca65e173",
            "10c2bd1f436846e685d7fa9f22623644",
            "ed2560e96fda4cc9824040fe6c5ab900"
          ]
        },
        "outputId": "aabe0204-a5f3-4fac-e9ab-c44b78332845"
      },
      "outputs": [
        {
          "output_type": "stream",
          "name": "stderr",
          "text": [
            "/usr/local/lib/python3.10/dist-packages/huggingface_hub/utils/_auth.py:94: UserWarning: \n",
            "The secret `HF_TOKEN` does not exist in your Colab secrets.\n",
            "To authenticate with the Hugging Face Hub, create a token in your settings tab (https://huggingface.co/settings/tokens), set it as secret in your Google Colab and restart your session.\n",
            "You will be able to reuse this secret in all of your notebooks.\n",
            "Please note that authentication is recommended but still optional to access public models or datasets.\n",
            "  warnings.warn(\n"
          ]
        },
        {
          "output_type": "display_data",
          "data": {
            "text/plain": [
              "model.safetensors:   0%|          | 0.00/22.4M [00:00<?, ?B/s]"
            ],
            "application/vnd.jupyter.widget-view+json": {
              "version_major": 2,
              "version_minor": 0,
              "model_id": "96136a0db2ec4a18a8cad12dde83a8a9"
            }
          },
          "metadata": {}
        }
      ],
      "source": [
        "import torch\n",
        "from torch import nn\n",
        "from timm import create_model\n",
        "\n",
        "# Load the pretrained EdgeNeXt model\n",
        "model = create_model('edgenext_small', pretrained=True)\n",
        "\n",
        "# Dynamically compute the number of features from forward_features\n",
        "dummy_input = torch.randn(1, 3, 224, 224)\n",
        "with torch.no_grad():\n",
        "    features = model.forward_features(dummy_input)\n",
        "flattened_features_size = features.reshape(features.size(0), -1).size(1)\n",
        "\n",
        "# Add two separate heads for binary and multi-class classification\n",
        "# Binary classification head: Includes Dropout and LeakyReLU\n",
        "model.head_binary = nn.Sequential(\n",
        "    nn.Linear(flattened_features_size, flattened_features_size // 2),\n",
        "    nn.LeakyReLU(),\n",
        "    nn.Dropout(p=0.5),\n",
        "    nn.Linear(flattened_features_size // 2, 1)\n",
        ")\n",
        "\n",
        "# Multi-class classification head: Includes LeakyReLU\n",
        "model.head_multiclass = nn.Sequential(\n",
        "    nn.Linear(flattened_features_size, flattened_features_size // 2),\n",
        "    nn.LeakyReLU(),\n",
        "    nn.Dropout(p=0.4),\n",
        "    nn.Linear(flattened_features_size // 2, 5)\n",
        ")\n",
        "\n",
        "# Define a custom forward method\n",
        "def forward_with_two_heads(self, x):\n",
        "    features = self.forward_features(x)  # Extract features from the backbone\n",
        "    features = features.reshape(features.size(0), -1)  # Flatten features dynamically using reshape\n",
        "    binary_output = self.head_binary(features)  # Binary classification\n",
        "    multiclass_output = self.head_multiclass(features)  # Multi-class classification\n",
        "    return binary_output, multiclass_output\n",
        "\n",
        "# Attach the custom forward method to the model\n",
        "model.forward = forward_with_two_heads.__get__(model, type(model))"
      ]
    },
    {
      "cell_type": "code",
      "execution_count": null,
      "metadata": {
        "id": "UdDPqeWcveKM"
      },
      "outputs": [],
      "source": [
        "import os\n",
        "from PIL import Image\n",
        "import torch\n",
        "from torch.utils.data import Dataset\n",
        "\n",
        "class CustomFireDataset(Dataset):\n",
        "    def __init__(self, root_dir, transform=None):\n",
        "        self.root_dir = root_dir\n",
        "        self.transform = transform\n",
        "        self.image_paths = []\n",
        "        self.binary_labels = []\n",
        "        self.multi_class_labels = []\n",
        "\n",
        "        # Define mappings for binary and multi-class labels\n",
        "        binary_label_mapping = {'fire': 1, 'nofire': 0}\n",
        "        multi_class_mapping = {\n",
        "            'fire': {'Both_smoke_and_fire': 0, 'Smoke_from_fires': 1},\n",
        "            'nofire': {'Fire_confounding_elements': 2, 'Forested_areas_without_confounding_elements': 3, 'Smoke_confounding_elements': 4}\n",
        "        }\n",
        "\n",
        "        # Traverse the root directory and collect image paths and labels\n",
        "        for binary_label_name in os.listdir(root_dir):\n",
        "            binary_label_path = os.path.join(root_dir, binary_label_name)\n",
        "            if os.path.isdir(binary_label_path):\n",
        "                # Assign binary label\n",
        "                binary_label = binary_label_mapping[binary_label_name]\n",
        "\n",
        "                # Traverse subclasses\n",
        "                for subclass_name in os.listdir(binary_label_path):\n",
        "                    subclass_path = os.path.join(binary_label_path, subclass_name)\n",
        "                    if os.path.isdir(subclass_path):\n",
        "                        # Assign multi-class label\n",
        "                        multi_class_label = multi_class_mapping[binary_label_name][subclass_name]\n",
        "\n",
        "                        # Collect all images in the subclass directory\n",
        "                        for img_name in os.listdir(subclass_path):\n",
        "                            img_path = os.path.join(subclass_path, img_name)\n",
        "                            if os.path.isfile(img_path):\n",
        "                                self.image_paths.append(img_path)\n",
        "                                self.binary_labels.append(binary_label)\n",
        "                                self.multi_class_labels.append(multi_class_label)\n",
        "\n",
        "    def __len__(self):\n",
        "        return len(self.image_paths)\n",
        "\n",
        "    def __getitem__(self, idx):\n",
        "        img_path = self.image_paths[idx]\n",
        "        image = Image.open(img_path).convert(\"RGB\")\n",
        "        binary_label = self.binary_labels[idx]\n",
        "        multi_class_label = self.multi_class_labels[idx]\n",
        "\n",
        "        if self.transform:\n",
        "            image = self.transform(image)\n",
        "\n",
        "        return image, (torch.tensor(binary_label, dtype=torch.float), torch.tensor(multi_class_label, dtype=torch.long))\n"
      ]
    },
    {
      "cell_type": "code",
      "execution_count": null,
      "metadata": {
        "id": "FTgDfCJGorsW"
      },
      "outputs": [],
      "source": [
        "train_transforms = transforms.Compose([\n",
        "    transforms.Resize((224, 224)),\n",
        "    transforms.RandomHorizontalFlip(),\n",
        "    transforms.ToTensor(),\n",
        "    transforms.Normalize([0.485, 0.456, 0.406], [0.229, 0.224, 0.225])\n",
        "])\n",
        "\n",
        "val_transforms = transforms.Compose([\n",
        "    transforms.Resize((224, 224)),\n",
        "    transforms.ToTensor(),\n",
        "    transforms.Normalize([0.485, 0.456, 0.406], [0.229, 0.224, 0.225])\n",
        "])\n",
        "\n",
        "# Load your datasets (replace \"path_to_train_dataset\" and \"path_to_val_dataset\" with your paths)\n",
        "\n",
        "train_dataset = CustomFireDataset(root_dir=\"/root/.cache/kagglehub/datasets/elmadafri/the-wildfire-dataset/versions/1/the_wildfire_dataset/the_wildfire_dataset/train\", transform=train_transforms)\n",
        "val_dataset = CustomFireDataset(root_dir=\"/root/.cache/kagglehub/datasets/elmadafri/the-wildfire-dataset/versions/1/the_wildfire_dataset/the_wildfire_dataset/val\", transform=val_transforms)\n",
        "\n",
        "#train_dataset = CustomFireDataset(root_dir=\"./the_wildfire_dataset/the_wildfire_dataset/train\", transform=train_transforms)\n",
        "#val_dataset = CustomFireDataset(root_dir=\"./the_wildfire_dataset/the_wildfire_dataset/val\", transform=val_transforms)\n",
        "\n",
        "\n",
        "train_loader = torch.utils.data.DataLoader(train_dataset, batch_size=64, shuffle=True, num_workers=10)\n",
        "val_loader = torch.utils.data.DataLoader(val_dataset, batch_size=64, shuffle=False, num_workers=10)"
      ]
    },
    {
      "cell_type": "code",
      "execution_count": null,
      "metadata": {
        "id": "j8dnuzGuorsX",
        "colab": {
          "base_uri": "https://localhost:8080/"
        },
        "outputId": "364957f3-5d07-4dfb-debf-f383e7585a6a"
      },
      "outputs": [
        {
          "output_type": "stream",
          "name": "stderr",
          "text": [
            "/usr/local/lib/python3.10/dist-packages/torch/_compile.py:32: UserWarning: optimizer contains a parameter group with duplicate parameters; in future, this will cause an error; see github.com/pytorch/pytorch/issues/40967 for more information\n",
            "  return disable_fn(*args, **kwargs)\n"
          ]
        }
      ],
      "source": [
        "# Define loss functions\n",
        "criterion_binary = nn.BCEWithLogitsLoss() #More numerically stable\n",
        "criterion_multiclass = nn.CrossEntropyLoss()\n",
        "\n",
        "# Optimizer\n",
        "optimizer = optim.Adam(list(model.parameters()) + list(model.head_binary.parameters()) + list(model.head_multiclass.parameters()), lr=0.001)"
      ]
    },
    {
      "cell_type": "code",
      "execution_count": null,
      "metadata": {
        "id": "hD99LlS4orsX"
      },
      "outputs": [],
      "source": [
        "# Device configuration\n",
        "device = torch.device(\"cuda:0\" if torch.cuda.is_available() else \"cpu\")\n",
        "model = model.to(device)"
      ]
    },
    {
      "cell_type": "code",
      "execution_count": null,
      "metadata": {
        "id": "8UyImczIveKN"
      },
      "outputs": [],
      "source": [
        "def combined_loss(binary_output, binary_target, multi_class_output, multi_class_target, alpha=0.35, beta=0.65):\n",
        "    # Compute binary classification loss using BCEWithLogitsLoss\n",
        "    loss_binary = criterion_binary(binary_output.squeeze(-1), binary_target.float())\n",
        "\n",
        "    # Compute multi-class classification loss using CrossEntropyLoss\n",
        "    loss_multiclass = criterion_multiclass(multi_class_output, multi_class_target)\n",
        "\n",
        "    # Combine losses with weights\n",
        "    total_loss = alpha * loss_binary + beta * loss_multiclass\n",
        "    return total_loss\n"
      ]
    },
    {
      "cell_type": "code",
      "execution_count": null,
      "metadata": {
        "colab": {
          "base_uri": "https://localhost:8080/",
          "height": 1000
        },
        "id": "a8CIw6fHorsX",
        "outputId": "05da7b2c-b561-4b73-da66-d77de785f544"
      },
      "outputs": [
        {
          "output_type": "stream",
          "name": "stderr",
          "text": [
            "\rEpoch 1/50 - Training:   0%|          | 0/30 [00:00<?, ?it/s]/usr/local/lib/python3.10/dist-packages/PIL/Image.py:3406: DecompressionBombWarning: Image size (89747104 pixels) exceeds limit of 89478485 pixels, could be decompression bomb DOS attack.\n",
            "  warnings.warn(\n",
            "Epoch 1/50 - Training:  33%|███▎      | 10/30 [00:42<00:16,  1.21it/s]/usr/local/lib/python3.10/dist-packages/PIL/Image.py:3406: DecompressionBombWarning: Image size (104688771 pixels) exceeds limit of 89478485 pixels, could be decompression bomb DOS attack.\n",
            "  warnings.warn(\n",
            "Epoch 1/50 - Training: 100%|██████████| 30/30 [01:31<00:00,  3.05s/it]\n",
            "Epoch 1/50 - Validation: 100%|██████████| 7/7 [00:26<00:00,  3.81s/it]\n"
          ]
        },
        {
          "output_type": "stream",
          "name": "stdout",
          "text": [
            "Epoch 1/50\n",
            "  Loss: 5.7504\n",
            "  Training Binary Accuracy: 52.31%\n",
            "  Training Multi-Class Accuracy: 28.46%\n",
            "  Validation Binary Accuracy: 61.19%\n",
            "  Validation Multi-Class Accuracy: 31.59%\n"
          ]
        },
        {
          "output_type": "stream",
          "name": "stderr",
          "text": [
            "Epoch 2/50 - Training:  67%|██████▋   | 20/30 [01:04<00:07,  1.30it/s]/usr/local/lib/python3.10/dist-packages/PIL/Image.py:3406: DecompressionBombWarning: Image size (89747104 pixels) exceeds limit of 89478485 pixels, could be decompression bomb DOS attack.\n",
            "  warnings.warn(\n",
            "/usr/local/lib/python3.10/dist-packages/PIL/Image.py:3406: DecompressionBombWarning: Image size (104688771 pixels) exceeds limit of 89478485 pixels, could be decompression bomb DOS attack.\n",
            "  warnings.warn(\n",
            "Epoch 2/50 - Training: 100%|██████████| 30/30 [01:35<00:00,  3.17s/it]\n",
            "Epoch 2/50 - Validation: 100%|██████████| 7/7 [00:26<00:00,  3.77s/it]\n"
          ]
        },
        {
          "output_type": "stream",
          "name": "stdout",
          "text": [
            "Epoch 2/50\n",
            "  Loss: 1.2693\n",
            "  Training Binary Accuracy: 59.78%\n",
            "  Training Multi-Class Accuracy: 32.70%\n",
            "  Validation Binary Accuracy: 61.19%\n",
            "  Validation Multi-Class Accuracy: 27.61%\n"
          ]
        },
        {
          "output_type": "stream",
          "name": "stderr",
          "text": [
            "\rEpoch 3/50 - Training:   0%|          | 0/30 [00:00<?, ?it/s]/usr/local/lib/python3.10/dist-packages/PIL/Image.py:3406: DecompressionBombWarning: Image size (89747104 pixels) exceeds limit of 89478485 pixels, could be decompression bomb DOS attack.\n",
            "  warnings.warn(\n",
            "Epoch 3/50 - Training:  37%|███▋      | 11/30 [00:50<01:25,  4.50s/it]/usr/local/lib/python3.10/dist-packages/PIL/Image.py:3406: DecompressionBombWarning: Image size (104688771 pixels) exceeds limit of 89478485 pixels, could be decompression bomb DOS attack.\n",
            "  warnings.warn(\n",
            "Epoch 3/50 - Training: 100%|██████████| 30/30 [01:27<00:00,  2.93s/it]\n",
            "Epoch 3/50 - Validation: 100%|██████████| 7/7 [00:26<00:00,  3.82s/it]\n"
          ]
        },
        {
          "output_type": "stream",
          "name": "stdout",
          "text": [
            "Epoch 3/50\n",
            "  Loss: 1.1646\n",
            "  Training Binary Accuracy: 65.82%\n",
            "  Training Multi-Class Accuracy: 39.48%\n",
            "  Validation Binary Accuracy: 64.43%\n",
            "  Validation Multi-Class Accuracy: 48.76%\n"
          ]
        },
        {
          "output_type": "stream",
          "name": "stderr",
          "text": [
            "\rEpoch 4/50 - Training:   0%|          | 0/30 [00:00<?, ?it/s]/usr/local/lib/python3.10/dist-packages/PIL/Image.py:3406: DecompressionBombWarning: Image size (89747104 pixels) exceeds limit of 89478485 pixels, could be decompression bomb DOS attack.\n",
            "  warnings.warn(\n",
            "Epoch 4/50 - Training:  33%|███▎      | 10/30 [00:35<00:15,  1.33it/s]/usr/local/lib/python3.10/dist-packages/PIL/Image.py:3406: DecompressionBombWarning: Image size (104688771 pixels) exceeds limit of 89478485 pixels, could be decompression bomb DOS attack.\n",
            "  warnings.warn(\n",
            "Epoch 4/50 - Training: 100%|██████████| 30/30 [01:29<00:00,  2.98s/it]\n",
            "Epoch 4/50 - Validation: 100%|██████████| 7/7 [00:26<00:00,  3.80s/it]\n"
          ]
        },
        {
          "output_type": "stream",
          "name": "stdout",
          "text": [
            "Epoch 4/50\n",
            "  Loss: 1.0335\n",
            "  Training Binary Accuracy: 73.34%\n",
            "  Training Multi-Class Accuracy: 45.89%\n",
            "  Validation Binary Accuracy: 71.89%\n",
            "  Validation Multi-Class Accuracy: 45.77%\n"
          ]
        },
        {
          "output_type": "stream",
          "name": "stderr",
          "text": [
            "\rEpoch 5/50 - Training:   0%|          | 0/30 [00:00<?, ?it/s]/usr/local/lib/python3.10/dist-packages/PIL/Image.py:3406: DecompressionBombWarning: Image size (89747104 pixels) exceeds limit of 89478485 pixels, could be decompression bomb DOS attack.\n",
            "  warnings.warn(\n",
            "/usr/local/lib/python3.10/dist-packages/PIL/Image.py:3406: DecompressionBombWarning: Image size (104688771 pixels) exceeds limit of 89478485 pixels, could be decompression bomb DOS attack.\n",
            "  warnings.warn(\n",
            "Epoch 5/50 - Training: 100%|██████████| 30/30 [01:30<00:00,  3.03s/it]\n",
            "Epoch 5/50 - Validation: 100%|██████████| 7/7 [00:26<00:00,  3.81s/it]\n"
          ]
        },
        {
          "output_type": "stream",
          "name": "stdout",
          "text": [
            "Epoch 5/50\n",
            "  Loss: 0.9113\n",
            "  Training Binary Accuracy: 80.60%\n",
            "  Training Multi-Class Accuracy: 53.05%\n",
            "  Validation Binary Accuracy: 80.60%\n",
            "  Validation Multi-Class Accuracy: 61.69%\n"
          ]
        },
        {
          "output_type": "stream",
          "name": "stderr",
          "text": [
            "\rEpoch 6/50 - Training:   0%|          | 0/30 [00:00<?, ?it/s]/usr/local/lib/python3.10/dist-packages/PIL/Image.py:3406: DecompressionBombWarning: Image size (89747104 pixels) exceeds limit of 89478485 pixels, could be decompression bomb DOS attack.\n",
            "  warnings.warn(\n",
            "/usr/local/lib/python3.10/dist-packages/PIL/Image.py:3406: DecompressionBombWarning: Image size (104688771 pixels) exceeds limit of 89478485 pixels, could be decompression bomb DOS attack.\n",
            "  warnings.warn(\n",
            "Epoch 6/50 - Training: 100%|██████████| 30/30 [01:32<00:00,  3.08s/it]\n",
            "Epoch 6/50 - Validation: 100%|██████████| 7/7 [00:25<00:00,  3.67s/it]\n"
          ]
        },
        {
          "output_type": "stream",
          "name": "stdout",
          "text": [
            "Epoch 6/50\n",
            "  Loss: 0.7942\n",
            "  Training Binary Accuracy: 84.21%\n",
            "  Training Multi-Class Accuracy: 59.57%\n",
            "  Validation Binary Accuracy: 84.33%\n",
            "  Validation Multi-Class Accuracy: 56.22%\n"
          ]
        },
        {
          "output_type": "stream",
          "name": "stderr",
          "text": [
            "\rEpoch 7/50 - Training:   0%|          | 0/30 [00:00<?, ?it/s]/usr/local/lib/python3.10/dist-packages/PIL/Image.py:3406: DecompressionBombWarning: Image size (89747104 pixels) exceeds limit of 89478485 pixels, could be decompression bomb DOS attack.\n",
            "  warnings.warn(\n",
            "Epoch 7/50 - Training:  20%|██        | 6/30 [00:31<00:50,  2.11s/it]/usr/local/lib/python3.10/dist-packages/PIL/Image.py:3406: DecompressionBombWarning: Image size (104688771 pixels) exceeds limit of 89478485 pixels, could be decompression bomb DOS attack.\n",
            "  warnings.warn(\n",
            "Epoch 7/50 - Training: 100%|██████████| 30/30 [01:36<00:00,  3.22s/it]\n",
            "Epoch 7/50 - Validation: 100%|██████████| 7/7 [00:29<00:00,  4.17s/it]\n"
          ]
        },
        {
          "output_type": "stream",
          "name": "stdout",
          "text": [
            "Epoch 7/50\n",
            "  Loss: 0.6874\n",
            "  Training Binary Accuracy: 88.61%\n",
            "  Training Multi-Class Accuracy: 63.65%\n",
            "  Validation Binary Accuracy: 83.58%\n",
            "  Validation Multi-Class Accuracy: 65.67%\n"
          ]
        },
        {
          "output_type": "stream",
          "name": "stderr",
          "text": [
            "Epoch 8/50 - Training:  33%|███▎      | 10/30 [00:40<00:23,  1.17s/it]/usr/local/lib/python3.10/dist-packages/PIL/Image.py:3406: DecompressionBombWarning: Image size (89747104 pixels) exceeds limit of 89478485 pixels, could be decompression bomb DOS attack.\n",
            "  warnings.warn(\n",
            "Epoch 8/50 - Training:  37%|███▋      | 11/30 [00:51<01:16,  4.03s/it]/usr/local/lib/python3.10/dist-packages/PIL/Image.py:3406: DecompressionBombWarning: Image size (104688771 pixels) exceeds limit of 89478485 pixels, could be decompression bomb DOS attack.\n",
            "  warnings.warn(\n",
            "Epoch 8/50 - Training: 100%|██████████| 30/30 [01:30<00:00,  3.01s/it]\n",
            "Epoch 8/50 - Validation: 100%|██████████| 7/7 [00:27<00:00,  3.88s/it]\n"
          ]
        },
        {
          "output_type": "stream",
          "name": "stdout",
          "text": [
            "Epoch 8/50\n",
            "  Loss: 0.6038\n",
            "  Training Binary Accuracy: 90.30%\n",
            "  Training Multi-Class Accuracy: 69.10%\n",
            "  Validation Binary Accuracy: 90.30%\n",
            "  Validation Multi-Class Accuracy: 70.90%\n"
          ]
        },
        {
          "output_type": "stream",
          "name": "stderr",
          "text": [
            "Epoch 9/50 - Training:   3%|▎         | 1/30 [00:21<10:31, 21.78s/it]/usr/local/lib/python3.10/dist-packages/PIL/Image.py:3406: DecompressionBombWarning: Image size (89747104 pixels) exceeds limit of 89478485 pixels, could be decompression bomb DOS attack.\n",
            "  warnings.warn(\n",
            "/usr/local/lib/python3.10/dist-packages/PIL/Image.py:3406: DecompressionBombWarning: Image size (104688771 pixels) exceeds limit of 89478485 pixels, could be decompression bomb DOS attack.\n",
            "  warnings.warn(\n",
            "Epoch 9/50 - Training: 100%|██████████| 30/30 [01:31<00:00,  3.04s/it]\n",
            "Epoch 9/50 - Validation: 100%|██████████| 7/7 [00:29<00:00,  4.16s/it]\n"
          ]
        },
        {
          "output_type": "stream",
          "name": "stdout",
          "text": [
            "Epoch 9/50\n",
            "  Loss: 0.5142\n",
            "  Training Binary Accuracy: 91.89%\n",
            "  Training Multi-Class Accuracy: 73.24%\n",
            "  Validation Binary Accuracy: 86.82%\n",
            "  Validation Multi-Class Accuracy: 69.15%\n"
          ]
        },
        {
          "output_type": "stream",
          "name": "stderr",
          "text": [
            "\rEpoch 10/50 - Training:   0%|          | 0/30 [00:00<?, ?it/s]/usr/local/lib/python3.10/dist-packages/PIL/Image.py:3406: DecompressionBombWarning: Image size (104688771 pixels) exceeds limit of 89478485 pixels, could be decompression bomb DOS attack.\n",
            "  warnings.warn(\n",
            "Epoch 10/50 - Training:  33%|███▎      | 10/30 [00:36<00:18,  1.07it/s]/usr/local/lib/python3.10/dist-packages/PIL/Image.py:3406: DecompressionBombWarning: Image size (89747104 pixels) exceeds limit of 89478485 pixels, could be decompression bomb DOS attack.\n",
            "  warnings.warn(\n",
            "Epoch 10/50 - Training: 100%|██████████| 30/30 [01:33<00:00,  3.11s/it]\n",
            "Epoch 10/50 - Validation: 100%|██████████| 7/7 [00:26<00:00,  3.73s/it]\n"
          ]
        },
        {
          "output_type": "stream",
          "name": "stdout",
          "text": [
            "Epoch 10/50\n",
            "  Loss: 0.4868\n",
            "  Training Binary Accuracy: 94.01%\n",
            "  Training Multi-Class Accuracy: 75.89%\n",
            "  Validation Binary Accuracy: 88.31%\n",
            "  Validation Multi-Class Accuracy: 72.89%\n"
          ]
        },
        {
          "output_type": "stream",
          "name": "stderr",
          "text": [
            "Epoch 11/50 - Training:  33%|███▎      | 10/30 [00:37<00:15,  1.29it/s]/usr/local/lib/python3.10/dist-packages/PIL/Image.py:3406: DecompressionBombWarning: Image size (89747104 pixels) exceeds limit of 89478485 pixels, could be decompression bomb DOS attack.\n",
            "  warnings.warn(\n",
            "Epoch 11/50 - Training:  67%|██████▋   | 20/30 [01:06<00:07,  1.42it/s]/usr/local/lib/python3.10/dist-packages/PIL/Image.py:3406: DecompressionBombWarning: Image size (104688771 pixels) exceeds limit of 89478485 pixels, could be decompression bomb DOS attack.\n",
            "  warnings.warn(\n",
            "Epoch 11/50 - Training: 100%|██████████| 30/30 [01:30<00:00,  3.01s/it]\n",
            "Epoch 11/50 - Validation: 100%|██████████| 7/7 [00:28<00:00,  4.01s/it]\n"
          ]
        },
        {
          "output_type": "stream",
          "name": "stdout",
          "text": [
            "Epoch 11/50\n",
            "  Loss: 0.4014\n",
            "  Training Binary Accuracy: 94.49%\n",
            "  Training Multi-Class Accuracy: 79.70%\n",
            "  Validation Binary Accuracy: 91.04%\n",
            "  Validation Multi-Class Accuracy: 73.13%\n"
          ]
        },
        {
          "output_type": "stream",
          "name": "stderr",
          "text": [
            "\rEpoch 12/50 - Training:   0%|          | 0/30 [00:00<?, ?it/s]/usr/local/lib/python3.10/dist-packages/PIL/Image.py:3406: DecompressionBombWarning: Image size (89747104 pixels) exceeds limit of 89478485 pixels, could be decompression bomb DOS attack.\n",
            "  warnings.warn(\n",
            "Epoch 12/50 - Training:  33%|███▎      | 10/30 [00:35<00:15,  1.30it/s]/usr/local/lib/python3.10/dist-packages/PIL/Image.py:3406: DecompressionBombWarning: Image size (104688771 pixels) exceeds limit of 89478485 pixels, could be decompression bomb DOS attack.\n",
            "  warnings.warn(\n",
            "Epoch 12/50 - Training: 100%|██████████| 30/30 [01:29<00:00,  2.99s/it]\n",
            "Epoch 12/50 - Validation: 100%|██████████| 7/7 [00:26<00:00,  3.85s/it]\n"
          ]
        },
        {
          "output_type": "stream",
          "name": "stdout",
          "text": [
            "Epoch 12/50\n",
            "  Loss: 0.4083\n",
            "  Training Binary Accuracy: 94.17%\n",
            "  Training Multi-Class Accuracy: 79.44%\n",
            "  Validation Binary Accuracy: 85.82%\n",
            "  Validation Multi-Class Accuracy: 70.15%\n"
          ]
        },
        {
          "output_type": "stream",
          "name": "stderr",
          "text": [
            "\rEpoch 13/50 - Training:   0%|          | 0/30 [00:00<?, ?it/s]/usr/local/lib/python3.10/dist-packages/PIL/Image.py:3406: DecompressionBombWarning: Image size (89747104 pixels) exceeds limit of 89478485 pixels, could be decompression bomb DOS attack.\n",
            "  warnings.warn(\n",
            "/usr/local/lib/python3.10/dist-packages/PIL/Image.py:3406: DecompressionBombWarning: Image size (104688771 pixels) exceeds limit of 89478485 pixels, could be decompression bomb DOS attack.\n",
            "  warnings.warn(\n",
            "Epoch 13/50 - Training: 100%|██████████| 30/30 [01:32<00:00,  3.08s/it]\n",
            "Epoch 13/50 - Validation: 100%|██████████| 7/7 [00:28<00:00,  4.03s/it]\n"
          ]
        },
        {
          "output_type": "stream",
          "name": "stdout",
          "text": [
            "Epoch 13/50\n",
            "  Loss: 0.3188\n",
            "  Training Binary Accuracy: 96.18%\n",
            "  Training Multi-Class Accuracy: 84.37%\n",
            "  Validation Binary Accuracy: 89.80%\n",
            "  Validation Multi-Class Accuracy: 73.88%\n"
          ]
        },
        {
          "output_type": "stream",
          "name": "stderr",
          "text": [
            "\rEpoch 14/50 - Training:   0%|          | 0/30 [00:00<?, ?it/s]/usr/local/lib/python3.10/dist-packages/PIL/Image.py:3406: DecompressionBombWarning: Image size (89747104 pixels) exceeds limit of 89478485 pixels, could be decompression bomb DOS attack.\n",
            "  warnings.warn(\n",
            "Epoch 14/50 - Training:  37%|███▋      | 11/30 [00:48<01:24,  4.47s/it]/usr/local/lib/python3.10/dist-packages/PIL/Image.py:3406: DecompressionBombWarning: Image size (104688771 pixels) exceeds limit of 89478485 pixels, could be decompression bomb DOS attack.\n",
            "  warnings.warn(\n",
            "Epoch 14/50 - Training: 100%|██████████| 30/30 [01:31<00:00,  3.04s/it]\n",
            "Epoch 14/50 - Validation: 100%|██████████| 7/7 [00:26<00:00,  3.81s/it]\n"
          ]
        },
        {
          "output_type": "stream",
          "name": "stdout",
          "text": [
            "Epoch 14/50\n",
            "  Loss: 0.2184\n",
            "  Training Binary Accuracy: 98.25%\n",
            "  Training Multi-Class Accuracy: 89.30%\n",
            "  Validation Binary Accuracy: 91.04%\n",
            "  Validation Multi-Class Accuracy: 71.14%\n"
          ]
        },
        {
          "output_type": "stream",
          "name": "stderr",
          "text": [
            "\rEpoch 15/50 - Training:   0%|          | 0/30 [00:00<?, ?it/s]/usr/local/lib/python3.10/dist-packages/PIL/Image.py:3406: DecompressionBombWarning: Image size (104688771 pixels) exceeds limit of 89478485 pixels, could be decompression bomb DOS attack.\n",
            "  warnings.warn(\n",
            "Epoch 15/50 - Training:  33%|███▎      | 10/30 [00:38<00:17,  1.15it/s]/usr/local/lib/python3.10/dist-packages/PIL/Image.py:3406: DecompressionBombWarning: Image size (89747104 pixels) exceeds limit of 89478485 pixels, could be decompression bomb DOS attack.\n",
            "  warnings.warn(\n",
            "Epoch 15/50 - Training: 100%|██████████| 30/30 [01:33<00:00,  3.10s/it]\n",
            "Epoch 15/50 - Validation: 100%|██████████| 7/7 [00:26<00:00,  3.82s/it]\n"
          ]
        },
        {
          "output_type": "stream",
          "name": "stdout",
          "text": [
            "Epoch 15/50\n",
            "  Loss: 0.1984\n",
            "  Training Binary Accuracy: 98.36%\n",
            "  Training Multi-Class Accuracy: 89.72%\n",
            "  Validation Binary Accuracy: 89.55%\n",
            "  Validation Multi-Class Accuracy: 72.89%\n"
          ]
        },
        {
          "output_type": "stream",
          "name": "stderr",
          "text": [
            "Epoch 16/50 - Training:  33%|███▎      | 10/30 [00:33<00:14,  1.36it/s]/usr/local/lib/python3.10/dist-packages/PIL/Image.py:3406: DecompressionBombWarning: Image size (104688771 pixels) exceeds limit of 89478485 pixels, could be decompression bomb DOS attack.\n",
            "  warnings.warn(\n",
            "/usr/local/lib/python3.10/dist-packages/PIL/Image.py:3406: DecompressionBombWarning: Image size (89747104 pixels) exceeds limit of 89478485 pixels, could be decompression bomb DOS attack.\n",
            "  warnings.warn(\n",
            "Epoch 16/50 - Training: 100%|██████████| 30/30 [01:33<00:00,  3.13s/it]\n",
            "Epoch 16/50 - Validation: 100%|██████████| 7/7 [00:27<00:00,  3.88s/it]\n"
          ]
        },
        {
          "output_type": "stream",
          "name": "stdout",
          "text": [
            "Epoch 16/50\n",
            "  Loss: 0.1370\n",
            "  Training Binary Accuracy: 98.83%\n",
            "  Training Multi-Class Accuracy: 92.90%\n",
            "  Validation Binary Accuracy: 88.56%\n",
            "  Validation Multi-Class Accuracy: 73.88%\n"
          ]
        },
        {
          "output_type": "stream",
          "name": "stderr",
          "text": [
            "Epoch 17/50 - Training:  33%|███▎      | 10/30 [00:33<00:17,  1.13it/s]/usr/local/lib/python3.10/dist-packages/PIL/Image.py:3406: DecompressionBombWarning: Image size (104688771 pixels) exceeds limit of 89478485 pixels, could be decompression bomb DOS attack.\n",
            "  warnings.warn(\n",
            "Epoch 17/50 - Training:  50%|█████     | 15/30 [00:58<00:31,  2.08s/it]/usr/local/lib/python3.10/dist-packages/PIL/Image.py:3406: DecompressionBombWarning: Image size (89747104 pixels) exceeds limit of 89478485 pixels, could be decompression bomb DOS attack.\n",
            "  warnings.warn(\n",
            "Epoch 17/50 - Training: 100%|██████████| 30/30 [01:31<00:00,  3.04s/it]\n",
            "Epoch 17/50 - Validation: 100%|██████████| 7/7 [00:29<00:00,  4.18s/it]\n"
          ]
        },
        {
          "output_type": "stream",
          "name": "stdout",
          "text": [
            "Epoch 17/50\n",
            "  Loss: 0.1955\n",
            "  Training Binary Accuracy: 97.77%\n",
            "  Training Multi-Class Accuracy: 91.26%\n",
            "  Validation Binary Accuracy: 90.55%\n",
            "  Validation Multi-Class Accuracy: 72.39%\n"
          ]
        },
        {
          "output_type": "stream",
          "name": "stderr",
          "text": [
            "\rEpoch 18/50 - Training:   0%|          | 0/30 [00:00<?, ?it/s]/usr/local/lib/python3.10/dist-packages/PIL/Image.py:3406: DecompressionBombWarning: Image size (104688771 pixels) exceeds limit of 89478485 pixels, could be decompression bomb DOS attack.\n",
            "  warnings.warn(\n",
            "Epoch 18/50 - Training:  67%|██████▋   | 20/30 [01:09<00:08,  1.16it/s]/usr/local/lib/python3.10/dist-packages/PIL/Image.py:3406: DecompressionBombWarning: Image size (89747104 pixels) exceeds limit of 89478485 pixels, could be decompression bomb DOS attack.\n",
            "  warnings.warn(\n",
            "Epoch 18/50 - Training: 100%|██████████| 30/30 [01:32<00:00,  3.08s/it]\n",
            "Epoch 18/50 - Validation: 100%|██████████| 7/7 [00:28<00:00,  4.08s/it]\n"
          ]
        },
        {
          "output_type": "stream",
          "name": "stdout",
          "text": [
            "Epoch 18/50\n",
            "  Loss: 0.1182\n",
            "  Training Binary Accuracy: 98.73%\n",
            "  Training Multi-Class Accuracy: 94.17%\n",
            "  Validation Binary Accuracy: 89.30%\n",
            "  Validation Multi-Class Accuracy: 76.87%\n"
          ]
        },
        {
          "output_type": "stream",
          "name": "stderr",
          "text": [
            "Epoch 19/50 - Training:  33%|███▎      | 10/30 [00:37<00:16,  1.21it/s]/usr/local/lib/python3.10/dist-packages/PIL/Image.py:3406: DecompressionBombWarning: Image size (89747104 pixels) exceeds limit of 89478485 pixels, could be decompression bomb DOS attack.\n",
            "  warnings.warn(\n",
            "Epoch 19/50 - Training:  37%|███▋      | 11/30 [00:51<01:31,  4.84s/it]/usr/local/lib/python3.10/dist-packages/PIL/Image.py:3406: DecompressionBombWarning: Image size (104688771 pixels) exceeds limit of 89478485 pixels, could be decompression bomb DOS attack.\n",
            "  warnings.warn(\n",
            "Epoch 19/50 - Training: 100%|██████████| 30/30 [01:30<00:00,  3.00s/it]\n",
            "Epoch 19/50 - Validation: 100%|██████████| 7/7 [00:27<00:00,  4.00s/it]\n"
          ]
        },
        {
          "output_type": "stream",
          "name": "stdout",
          "text": [
            "Epoch 19/50\n",
            "  Loss: 0.0953\n",
            "  Training Binary Accuracy: 99.42%\n",
            "  Training Multi-Class Accuracy: 95.18%\n",
            "  Validation Binary Accuracy: 89.05%\n",
            "  Validation Multi-Class Accuracy: 74.38%\n"
          ]
        },
        {
          "output_type": "stream",
          "name": "stderr",
          "text": [
            "\rEpoch 20/50 - Training:   0%|          | 0/30 [00:00<?, ?it/s]/usr/local/lib/python3.10/dist-packages/PIL/Image.py:3406: DecompressionBombWarning: Image size (89747104 pixels) exceeds limit of 89478485 pixels, could be decompression bomb DOS attack.\n",
            "  warnings.warn(\n",
            "Epoch 20/50 - Training:  47%|████▋     | 14/30 [00:57<00:48,  3.04s/it]/usr/local/lib/python3.10/dist-packages/PIL/Image.py:3406: DecompressionBombWarning: Image size (104688771 pixels) exceeds limit of 89478485 pixels, could be decompression bomb DOS attack.\n",
            "  warnings.warn(\n",
            "Epoch 20/50 - Training: 100%|██████████| 30/30 [01:28<00:00,  2.94s/it]\n",
            "Epoch 20/50 - Validation: 100%|██████████| 7/7 [00:26<00:00,  3.80s/it]\n"
          ]
        },
        {
          "output_type": "stream",
          "name": "stdout",
          "text": [
            "Epoch 20/50\n",
            "  Loss: 0.1511\n",
            "  Training Binary Accuracy: 97.51%\n",
            "  Training Multi-Class Accuracy: 93.64%\n",
            "  Validation Binary Accuracy: 89.30%\n",
            "  Validation Multi-Class Accuracy: 76.37%\n"
          ]
        },
        {
          "output_type": "stream",
          "name": "stderr",
          "text": [
            "\rEpoch 21/50 - Training:   0%|          | 0/30 [00:00<?, ?it/s]/usr/local/lib/python3.10/dist-packages/PIL/Image.py:3406: DecompressionBombWarning: Image size (89747104 pixels) exceeds limit of 89478485 pixels, could be decompression bomb DOS attack.\n",
            "  warnings.warn(\n",
            "/usr/local/lib/python3.10/dist-packages/PIL/Image.py:3406: DecompressionBombWarning: Image size (104688771 pixels) exceeds limit of 89478485 pixels, could be decompression bomb DOS attack.\n",
            "  warnings.warn(\n",
            "Epoch 21/50 - Training: 100%|██████████| 30/30 [01:30<00:00,  3.01s/it]\n",
            "Epoch 21/50 - Validation: 100%|██████████| 7/7 [00:26<00:00,  3.81s/it]\n"
          ]
        },
        {
          "output_type": "stream",
          "name": "stdout",
          "text": [
            "Epoch 21/50\n",
            "  Loss: 0.1821\n",
            "  Training Binary Accuracy: 98.57%\n",
            "  Training Multi-Class Accuracy: 92.21%\n",
            "  Validation Binary Accuracy: 91.54%\n",
            "  Validation Multi-Class Accuracy: 76.12%\n"
          ]
        },
        {
          "output_type": "stream",
          "name": "stderr",
          "text": [
            "Epoch 22/50 - Training:  33%|███▎      | 10/30 [00:33<00:16,  1.18it/s]/usr/local/lib/python3.10/dist-packages/PIL/Image.py:3406: DecompressionBombWarning: Image size (89747104 pixels) exceeds limit of 89478485 pixels, could be decompression bomb DOS attack.\n",
            "  warnings.warn(\n",
            "Epoch 22/50 - Training:  67%|██████▋   | 20/30 [01:06<00:08,  1.16it/s]/usr/local/lib/python3.10/dist-packages/PIL/Image.py:3406: DecompressionBombWarning: Image size (104688771 pixels) exceeds limit of 89478485 pixels, could be decompression bomb DOS attack.\n",
            "  warnings.warn(\n",
            "Epoch 22/50 - Training: 100%|██████████| 30/30 [01:30<00:00,  3.02s/it]\n",
            "Epoch 22/50 - Validation: 100%|██████████| 7/7 [00:27<00:00,  3.93s/it]\n"
          ]
        },
        {
          "output_type": "stream",
          "name": "stdout",
          "text": [
            "Epoch 22/50\n",
            "  Loss: 0.1048\n",
            "  Training Binary Accuracy: 98.41%\n",
            "  Training Multi-Class Accuracy: 95.44%\n",
            "  Validation Binary Accuracy: 92.04%\n",
            "  Validation Multi-Class Accuracy: 78.86%\n"
          ]
        },
        {
          "output_type": "stream",
          "name": "stderr",
          "text": [
            "\rEpoch 23/50 - Training:   0%|          | 0/30 [00:00<?, ?it/s]/usr/local/lib/python3.10/dist-packages/PIL/Image.py:3406: DecompressionBombWarning: Image size (89747104 pixels) exceeds limit of 89478485 pixels, could be decompression bomb DOS attack.\n",
            "  warnings.warn(\n",
            "Epoch 23/50 - Training:  33%|███▎      | 10/30 [00:34<00:18,  1.09it/s]/usr/local/lib/python3.10/dist-packages/PIL/Image.py:3406: DecompressionBombWarning: Image size (104688771 pixels) exceeds limit of 89478485 pixels, could be decompression bomb DOS attack.\n",
            "  warnings.warn(\n",
            "Epoch 23/50 - Training: 100%|██████████| 30/30 [01:31<00:00,  3.05s/it]\n",
            "Epoch 23/50 - Validation: 100%|██████████| 7/7 [00:27<00:00,  3.87s/it]\n"
          ]
        },
        {
          "output_type": "stream",
          "name": "stdout",
          "text": [
            "Epoch 23/50\n",
            "  Loss: 0.0838\n",
            "  Training Binary Accuracy: 99.52%\n",
            "  Training Multi-Class Accuracy: 96.66%\n",
            "  Validation Binary Accuracy: 90.05%\n",
            "  Validation Multi-Class Accuracy: 77.11%\n"
          ]
        },
        {
          "output_type": "stream",
          "name": "stderr",
          "text": [
            "\rEpoch 24/50 - Training:   0%|          | 0/30 [00:00<?, ?it/s]/usr/local/lib/python3.10/dist-packages/PIL/Image.py:3406: DecompressionBombWarning: Image size (104688771 pixels) exceeds limit of 89478485 pixels, could be decompression bomb DOS attack.\n",
            "  warnings.warn(\n",
            "Epoch 24/50 - Training:  33%|███▎      | 10/30 [00:37<00:15,  1.30it/s]/usr/local/lib/python3.10/dist-packages/PIL/Image.py:3406: DecompressionBombWarning: Image size (89747104 pixels) exceeds limit of 89478485 pixels, could be decompression bomb DOS attack.\n",
            "  warnings.warn(\n",
            "Epoch 24/50 - Training: 100%|██████████| 30/30 [01:30<00:00,  3.01s/it]\n",
            "Epoch 24/50 - Validation: 100%|██████████| 7/7 [00:27<00:00,  3.92s/it]\n"
          ]
        },
        {
          "output_type": "stream",
          "name": "stdout",
          "text": [
            "Epoch 24/50\n",
            "  Loss: 0.0574\n",
            "  Training Binary Accuracy: 99.31%\n",
            "  Training Multi-Class Accuracy: 97.40%\n",
            "  Validation Binary Accuracy: 91.54%\n",
            "  Validation Multi-Class Accuracy: 78.61%\n"
          ]
        },
        {
          "output_type": "stream",
          "name": "stderr",
          "text": [
            "\rEpoch 25/50 - Training:   0%|          | 0/30 [00:00<?, ?it/s]/usr/local/lib/python3.10/dist-packages/PIL/Image.py:3406: DecompressionBombWarning: Image size (89747104 pixels) exceeds limit of 89478485 pixels, could be decompression bomb DOS attack.\n",
            "  warnings.warn(\n",
            "Epoch 25/50 - Training:  57%|█████▋    | 17/30 [01:08<00:29,  2.28s/it]/usr/local/lib/python3.10/dist-packages/PIL/Image.py:3406: DecompressionBombWarning: Image size (104688771 pixels) exceeds limit of 89478485 pixels, could be decompression bomb DOS attack.\n",
            "  warnings.warn(\n",
            "Epoch 25/50 - Training: 100%|██████████| 30/30 [01:35<00:00,  3.20s/it]\n",
            "Epoch 25/50 - Validation: 100%|██████████| 7/7 [00:26<00:00,  3.84s/it]\n"
          ]
        },
        {
          "output_type": "stream",
          "name": "stdout",
          "text": [
            "Epoch 25/50\n",
            "  Loss: 0.1576\n",
            "  Training Binary Accuracy: 98.41%\n",
            "  Training Multi-Class Accuracy: 94.70%\n",
            "  Validation Binary Accuracy: 89.30%\n",
            "  Validation Multi-Class Accuracy: 75.37%\n"
          ]
        },
        {
          "output_type": "stream",
          "name": "stderr",
          "text": [
            "\rEpoch 26/50 - Training:   0%|          | 0/30 [00:00<?, ?it/s]/usr/local/lib/python3.10/dist-packages/PIL/Image.py:3406: DecompressionBombWarning: Image size (89747104 pixels) exceeds limit of 89478485 pixels, could be decompression bomb DOS attack.\n",
            "  warnings.warn(\n",
            "Epoch 26/50 - Training:  60%|██████    | 18/30 [01:04<00:12,  1.08s/it]/usr/local/lib/python3.10/dist-packages/PIL/Image.py:3406: DecompressionBombWarning: Image size (104688771 pixels) exceeds limit of 89478485 pixels, could be decompression bomb DOS attack.\n",
            "  warnings.warn(\n",
            "Epoch 26/50 - Training: 100%|██████████| 30/30 [01:29<00:00,  2.98s/it]\n",
            "Epoch 26/50 - Validation: 100%|██████████| 7/7 [00:26<00:00,  3.82s/it]\n"
          ]
        },
        {
          "output_type": "stream",
          "name": "stdout",
          "text": [
            "Epoch 26/50\n",
            "  Loss: 0.1110\n",
            "  Training Binary Accuracy: 99.10%\n",
            "  Training Multi-Class Accuracy: 95.34%\n",
            "  Validation Binary Accuracy: 91.29%\n",
            "  Validation Multi-Class Accuracy: 77.36%\n"
          ]
        },
        {
          "output_type": "stream",
          "name": "stderr",
          "text": [
            "Epoch 27/50 - Training:  33%|███▎      | 10/30 [00:33<00:17,  1.15it/s]/usr/local/lib/python3.10/dist-packages/PIL/Image.py:3406: DecompressionBombWarning: Image size (89747104 pixels) exceeds limit of 89478485 pixels, could be decompression bomb DOS attack.\n",
            "  warnings.warn(\n",
            "Epoch 27/50 - Training:  37%|███▋      | 11/30 [00:45<01:19,  4.18s/it]/usr/local/lib/python3.10/dist-packages/PIL/Image.py:3406: DecompressionBombWarning: Image size (104688771 pixels) exceeds limit of 89478485 pixels, could be decompression bomb DOS attack.\n",
            "  warnings.warn(\n",
            "Epoch 27/50 - Training: 100%|██████████| 30/30 [01:29<00:00,  2.97s/it]\n",
            "Epoch 27/50 - Validation: 100%|██████████| 7/7 [00:26<00:00,  3.83s/it]\n"
          ]
        },
        {
          "output_type": "stream",
          "name": "stdout",
          "text": [
            "Epoch 27/50\n",
            "  Loss: 0.1092\n",
            "  Training Binary Accuracy: 99.31%\n",
            "  Training Multi-Class Accuracy: 95.92%\n",
            "  Validation Binary Accuracy: 90.05%\n",
            "  Validation Multi-Class Accuracy: 76.87%\n"
          ]
        },
        {
          "output_type": "stream",
          "name": "stderr",
          "text": [
            "Epoch 28/50 - Training:  33%|███▎      | 10/30 [00:38<00:18,  1.06it/s]/usr/local/lib/python3.10/dist-packages/PIL/Image.py:3406: DecompressionBombWarning: Image size (104688771 pixels) exceeds limit of 89478485 pixels, could be decompression bomb DOS attack.\n",
            "  warnings.warn(\n",
            "Epoch 28/50 - Training:  70%|███████   | 21/30 [01:14<00:13,  1.48s/it]/usr/local/lib/python3.10/dist-packages/PIL/Image.py:3406: DecompressionBombWarning: Image size (89747104 pixels) exceeds limit of 89478485 pixels, could be decompression bomb DOS attack.\n",
            "  warnings.warn(\n",
            "Epoch 28/50 - Training: 100%|██████████| 30/30 [01:35<00:00,  3.18s/it]\n",
            "Epoch 28/50 - Validation: 100%|██████████| 7/7 [00:26<00:00,  3.84s/it]\n"
          ]
        },
        {
          "output_type": "stream",
          "name": "stdout",
          "text": [
            "Epoch 28/50\n",
            "  Loss: 0.0636\n",
            "  Training Binary Accuracy: 99.05%\n",
            "  Training Multi-Class Accuracy: 97.09%\n",
            "  Validation Binary Accuracy: 88.06%\n",
            "  Validation Multi-Class Accuracy: 73.63%\n"
          ]
        },
        {
          "output_type": "stream",
          "name": "stderr",
          "text": [
            "\rEpoch 29/50 - Training:   0%|          | 0/30 [00:00<?, ?it/s]/usr/local/lib/python3.10/dist-packages/PIL/Image.py:3406: DecompressionBombWarning: Image size (104688771 pixels) exceeds limit of 89478485 pixels, could be decompression bomb DOS attack.\n",
            "  warnings.warn(\n",
            "Epoch 29/50 - Training:  43%|████▎     | 13/30 [01:00<01:11,  4.23s/it]/usr/local/lib/python3.10/dist-packages/PIL/Image.py:3406: DecompressionBombWarning: Image size (89747104 pixels) exceeds limit of 89478485 pixels, could be decompression bomb DOS attack.\n",
            "  warnings.warn(\n",
            "Epoch 29/50 - Training: 100%|██████████| 30/30 [01:27<00:00,  2.92s/it]\n",
            "Epoch 29/50 - Validation: 100%|██████████| 7/7 [00:26<00:00,  3.82s/it]\n"
          ]
        },
        {
          "output_type": "stream",
          "name": "stdout",
          "text": [
            "Epoch 29/50\n",
            "  Loss: 0.0643\n",
            "  Training Binary Accuracy: 99.10%\n",
            "  Training Multi-Class Accuracy: 97.14%\n",
            "  Validation Binary Accuracy: 88.31%\n",
            "  Validation Multi-Class Accuracy: 76.12%\n"
          ]
        },
        {
          "output_type": "stream",
          "name": "stderr",
          "text": [
            "Epoch 30/50 - Training:  33%|███▎      | 10/30 [00:35<00:16,  1.20it/s]/usr/local/lib/python3.10/dist-packages/PIL/Image.py:3406: DecompressionBombWarning: Image size (89747104 pixels) exceeds limit of 89478485 pixels, could be decompression bomb DOS attack.\n",
            "  warnings.warn(\n",
            "Epoch 30/50 - Training:  67%|██████▋   | 20/30 [01:04<00:13,  1.35s/it]/usr/local/lib/python3.10/dist-packages/PIL/Image.py:3406: DecompressionBombWarning: Image size (104688771 pixels) exceeds limit of 89478485 pixels, could be decompression bomb DOS attack.\n",
            "  warnings.warn(\n",
            "Epoch 30/50 - Training: 100%|██████████| 30/30 [01:29<00:00,  2.99s/it]\n",
            "Epoch 30/50 - Validation: 100%|██████████| 7/7 [00:28<00:00,  4.07s/it]\n"
          ]
        },
        {
          "output_type": "stream",
          "name": "stdout",
          "text": [
            "Epoch 30/50\n",
            "  Loss: 0.0686\n",
            "  Training Binary Accuracy: 99.42%\n",
            "  Training Multi-Class Accuracy: 97.62%\n",
            "  Validation Binary Accuracy: 90.30%\n",
            "  Validation Multi-Class Accuracy: 79.35%\n"
          ]
        },
        {
          "output_type": "stream",
          "name": "stderr",
          "text": [
            "Epoch 31/50 - Training:   0%|          | 0/30 [00:03<?, ?it/s]\n"
          ]
        },
        {
          "output_type": "error",
          "ename": "KeyboardInterrupt",
          "evalue": "",
          "traceback": [
            "\u001b[0;31m---------------------------------------------------------------------------\u001b[0m",
            "\u001b[0;31mKeyboardInterrupt\u001b[0m                         Traceback (most recent call last)",
            "\u001b[0;32m<ipython-input-10-5b5bea6d53dc>\u001b[0m in \u001b[0;36m<cell line: 12>\u001b[0;34m()\u001b[0m\n\u001b[1;32m     19\u001b[0m \u001b[0;34m\u001b[0m\u001b[0m\n\u001b[1;32m     20\u001b[0m     \u001b[0;31m# Training loop\u001b[0m\u001b[0;34m\u001b[0m\u001b[0;34m\u001b[0m\u001b[0m\n\u001b[0;32m---> 21\u001b[0;31m     \u001b[0;32mfor\u001b[0m \u001b[0mimages\u001b[0m\u001b[0;34m,\u001b[0m \u001b[0;34m(\u001b[0m\u001b[0mbinary_labels\u001b[0m\u001b[0;34m,\u001b[0m \u001b[0mmulti_class_labels\u001b[0m\u001b[0;34m)\u001b[0m \u001b[0;32min\u001b[0m \u001b[0mtqdm\u001b[0m\u001b[0;34m(\u001b[0m\u001b[0mtrain_loader\u001b[0m\u001b[0;34m,\u001b[0m \u001b[0mdesc\u001b[0m\u001b[0;34m=\u001b[0m\u001b[0;34mf\"Epoch {epoch + 1}/{epochs} - Training\"\u001b[0m\u001b[0;34m)\u001b[0m\u001b[0;34m:\u001b[0m\u001b[0;34m\u001b[0m\u001b[0;34m\u001b[0m\u001b[0m\n\u001b[0m\u001b[1;32m     22\u001b[0m         \u001b[0mimages\u001b[0m \u001b[0;34m=\u001b[0m \u001b[0mimages\u001b[0m\u001b[0;34m.\u001b[0m\u001b[0mto\u001b[0m\u001b[0;34m(\u001b[0m\u001b[0mdevice\u001b[0m\u001b[0;34m)\u001b[0m\u001b[0;34m\u001b[0m\u001b[0;34m\u001b[0m\u001b[0m\n\u001b[1;32m     23\u001b[0m         \u001b[0mbinary_labels\u001b[0m \u001b[0;34m=\u001b[0m \u001b[0mbinary_labels\u001b[0m\u001b[0;34m.\u001b[0m\u001b[0mto\u001b[0m\u001b[0;34m(\u001b[0m\u001b[0mdevice\u001b[0m\u001b[0;34m)\u001b[0m\u001b[0;34m\u001b[0m\u001b[0;34m\u001b[0m\u001b[0m\n",
            "\u001b[0;32m/usr/local/lib/python3.10/dist-packages/tqdm/std.py\u001b[0m in \u001b[0;36m__iter__\u001b[0;34m(self)\u001b[0m\n\u001b[1;32m   1179\u001b[0m \u001b[0;34m\u001b[0m\u001b[0m\n\u001b[1;32m   1180\u001b[0m         \u001b[0;32mtry\u001b[0m\u001b[0;34m:\u001b[0m\u001b[0;34m\u001b[0m\u001b[0;34m\u001b[0m\u001b[0m\n\u001b[0;32m-> 1181\u001b[0;31m             \u001b[0;32mfor\u001b[0m \u001b[0mobj\u001b[0m \u001b[0;32min\u001b[0m \u001b[0miterable\u001b[0m\u001b[0;34m:\u001b[0m\u001b[0;34m\u001b[0m\u001b[0;34m\u001b[0m\u001b[0m\n\u001b[0m\u001b[1;32m   1182\u001b[0m                 \u001b[0;32myield\u001b[0m \u001b[0mobj\u001b[0m\u001b[0;34m\u001b[0m\u001b[0;34m\u001b[0m\u001b[0m\n\u001b[1;32m   1183\u001b[0m                 \u001b[0;31m# Update and possibly print the progressbar.\u001b[0m\u001b[0;34m\u001b[0m\u001b[0;34m\u001b[0m\u001b[0m\n",
            "\u001b[0;32m/usr/local/lib/python3.10/dist-packages/torch/utils/data/dataloader.py\u001b[0m in \u001b[0;36m__next__\u001b[0;34m(self)\u001b[0m\n\u001b[1;32m    699\u001b[0m                 \u001b[0;31m# TODO(https://github.com/pytorch/pytorch/issues/76750)\u001b[0m\u001b[0;34m\u001b[0m\u001b[0;34m\u001b[0m\u001b[0m\n\u001b[1;32m    700\u001b[0m                 \u001b[0mself\u001b[0m\u001b[0;34m.\u001b[0m\u001b[0m_reset\u001b[0m\u001b[0;34m(\u001b[0m\u001b[0;34m)\u001b[0m  \u001b[0;31m# type: ignore[call-arg]\u001b[0m\u001b[0;34m\u001b[0m\u001b[0;34m\u001b[0m\u001b[0m\n\u001b[0;32m--> 701\u001b[0;31m             \u001b[0mdata\u001b[0m \u001b[0;34m=\u001b[0m \u001b[0mself\u001b[0m\u001b[0;34m.\u001b[0m\u001b[0m_next_data\u001b[0m\u001b[0;34m(\u001b[0m\u001b[0;34m)\u001b[0m\u001b[0;34m\u001b[0m\u001b[0;34m\u001b[0m\u001b[0m\n\u001b[0m\u001b[1;32m    702\u001b[0m             \u001b[0mself\u001b[0m\u001b[0;34m.\u001b[0m\u001b[0m_num_yielded\u001b[0m \u001b[0;34m+=\u001b[0m \u001b[0;36m1\u001b[0m\u001b[0;34m\u001b[0m\u001b[0;34m\u001b[0m\u001b[0m\n\u001b[1;32m    703\u001b[0m             if (\n",
            "\u001b[0;32m/usr/local/lib/python3.10/dist-packages/torch/utils/data/dataloader.py\u001b[0m in \u001b[0;36m_next_data\u001b[0;34m(self)\u001b[0m\n\u001b[1;32m   1446\u001b[0m \u001b[0;34m\u001b[0m\u001b[0m\n\u001b[1;32m   1447\u001b[0m             \u001b[0;32massert\u001b[0m \u001b[0;32mnot\u001b[0m \u001b[0mself\u001b[0m\u001b[0;34m.\u001b[0m\u001b[0m_shutdown\u001b[0m \u001b[0;32mand\u001b[0m \u001b[0mself\u001b[0m\u001b[0;34m.\u001b[0m\u001b[0m_tasks_outstanding\u001b[0m \u001b[0;34m>\u001b[0m \u001b[0;36m0\u001b[0m\u001b[0;34m\u001b[0m\u001b[0;34m\u001b[0m\u001b[0m\n\u001b[0;32m-> 1448\u001b[0;31m             \u001b[0midx\u001b[0m\u001b[0;34m,\u001b[0m \u001b[0mdata\u001b[0m \u001b[0;34m=\u001b[0m \u001b[0mself\u001b[0m\u001b[0;34m.\u001b[0m\u001b[0m_get_data\u001b[0m\u001b[0;34m(\u001b[0m\u001b[0;34m)\u001b[0m\u001b[0;34m\u001b[0m\u001b[0;34m\u001b[0m\u001b[0m\n\u001b[0m\u001b[1;32m   1449\u001b[0m             \u001b[0mself\u001b[0m\u001b[0;34m.\u001b[0m\u001b[0m_tasks_outstanding\u001b[0m \u001b[0;34m-=\u001b[0m \u001b[0;36m1\u001b[0m\u001b[0;34m\u001b[0m\u001b[0;34m\u001b[0m\u001b[0m\n\u001b[1;32m   1450\u001b[0m             \u001b[0;32mif\u001b[0m \u001b[0mself\u001b[0m\u001b[0;34m.\u001b[0m\u001b[0m_dataset_kind\u001b[0m \u001b[0;34m==\u001b[0m \u001b[0m_DatasetKind\u001b[0m\u001b[0;34m.\u001b[0m\u001b[0mIterable\u001b[0m\u001b[0;34m:\u001b[0m\u001b[0;34m\u001b[0m\u001b[0;34m\u001b[0m\u001b[0m\n",
            "\u001b[0;32m/usr/local/lib/python3.10/dist-packages/torch/utils/data/dataloader.py\u001b[0m in \u001b[0;36m_get_data\u001b[0;34m(self)\u001b[0m\n\u001b[1;32m   1410\u001b[0m         \u001b[0;32melse\u001b[0m\u001b[0;34m:\u001b[0m\u001b[0;34m\u001b[0m\u001b[0;34m\u001b[0m\u001b[0m\n\u001b[1;32m   1411\u001b[0m             \u001b[0;32mwhile\u001b[0m \u001b[0;32mTrue\u001b[0m\u001b[0;34m:\u001b[0m\u001b[0;34m\u001b[0m\u001b[0;34m\u001b[0m\u001b[0m\n\u001b[0;32m-> 1412\u001b[0;31m                 \u001b[0msuccess\u001b[0m\u001b[0;34m,\u001b[0m \u001b[0mdata\u001b[0m \u001b[0;34m=\u001b[0m \u001b[0mself\u001b[0m\u001b[0;34m.\u001b[0m\u001b[0m_try_get_data\u001b[0m\u001b[0;34m(\u001b[0m\u001b[0;34m)\u001b[0m\u001b[0;34m\u001b[0m\u001b[0;34m\u001b[0m\u001b[0m\n\u001b[0m\u001b[1;32m   1413\u001b[0m                 \u001b[0;32mif\u001b[0m \u001b[0msuccess\u001b[0m\u001b[0;34m:\u001b[0m\u001b[0;34m\u001b[0m\u001b[0;34m\u001b[0m\u001b[0m\n\u001b[1;32m   1414\u001b[0m                     \u001b[0;32mreturn\u001b[0m \u001b[0mdata\u001b[0m\u001b[0;34m\u001b[0m\u001b[0;34m\u001b[0m\u001b[0m\n",
            "\u001b[0;32m/usr/local/lib/python3.10/dist-packages/torch/utils/data/dataloader.py\u001b[0m in \u001b[0;36m_try_get_data\u001b[0;34m(self, timeout)\u001b[0m\n\u001b[1;32m   1241\u001b[0m         \u001b[0;31m#   (bool: whether successfully get data, any: data if successful else None)\u001b[0m\u001b[0;34m\u001b[0m\u001b[0;34m\u001b[0m\u001b[0m\n\u001b[1;32m   1242\u001b[0m         \u001b[0;32mtry\u001b[0m\u001b[0;34m:\u001b[0m\u001b[0;34m\u001b[0m\u001b[0;34m\u001b[0m\u001b[0m\n\u001b[0;32m-> 1243\u001b[0;31m             \u001b[0mdata\u001b[0m \u001b[0;34m=\u001b[0m \u001b[0mself\u001b[0m\u001b[0;34m.\u001b[0m\u001b[0m_data_queue\u001b[0m\u001b[0;34m.\u001b[0m\u001b[0mget\u001b[0m\u001b[0;34m(\u001b[0m\u001b[0mtimeout\u001b[0m\u001b[0;34m=\u001b[0m\u001b[0mtimeout\u001b[0m\u001b[0;34m)\u001b[0m\u001b[0;34m\u001b[0m\u001b[0;34m\u001b[0m\u001b[0m\n\u001b[0m\u001b[1;32m   1244\u001b[0m             \u001b[0;32mreturn\u001b[0m \u001b[0;34m(\u001b[0m\u001b[0;32mTrue\u001b[0m\u001b[0;34m,\u001b[0m \u001b[0mdata\u001b[0m\u001b[0;34m)\u001b[0m\u001b[0;34m\u001b[0m\u001b[0;34m\u001b[0m\u001b[0m\n\u001b[1;32m   1245\u001b[0m         \u001b[0;32mexcept\u001b[0m \u001b[0mException\u001b[0m \u001b[0;32mas\u001b[0m \u001b[0me\u001b[0m\u001b[0;34m:\u001b[0m\u001b[0;34m\u001b[0m\u001b[0;34m\u001b[0m\u001b[0m\n",
            "\u001b[0;32m/usr/lib/python3.10/multiprocessing/queues.py\u001b[0m in \u001b[0;36mget\u001b[0;34m(self, block, timeout)\u001b[0m\n\u001b[1;32m    111\u001b[0m                 \u001b[0;32mif\u001b[0m \u001b[0mblock\u001b[0m\u001b[0;34m:\u001b[0m\u001b[0;34m\u001b[0m\u001b[0;34m\u001b[0m\u001b[0m\n\u001b[1;32m    112\u001b[0m                     \u001b[0mtimeout\u001b[0m \u001b[0;34m=\u001b[0m \u001b[0mdeadline\u001b[0m \u001b[0;34m-\u001b[0m \u001b[0mtime\u001b[0m\u001b[0;34m.\u001b[0m\u001b[0mmonotonic\u001b[0m\u001b[0;34m(\u001b[0m\u001b[0;34m)\u001b[0m\u001b[0;34m\u001b[0m\u001b[0;34m\u001b[0m\u001b[0m\n\u001b[0;32m--> 113\u001b[0;31m                     \u001b[0;32mif\u001b[0m \u001b[0;32mnot\u001b[0m \u001b[0mself\u001b[0m\u001b[0;34m.\u001b[0m\u001b[0m_poll\u001b[0m\u001b[0;34m(\u001b[0m\u001b[0mtimeout\u001b[0m\u001b[0;34m)\u001b[0m\u001b[0;34m:\u001b[0m\u001b[0;34m\u001b[0m\u001b[0;34m\u001b[0m\u001b[0m\n\u001b[0m\u001b[1;32m    114\u001b[0m                         \u001b[0;32mraise\u001b[0m \u001b[0mEmpty\u001b[0m\u001b[0;34m\u001b[0m\u001b[0;34m\u001b[0m\u001b[0m\n\u001b[1;32m    115\u001b[0m                 \u001b[0;32melif\u001b[0m \u001b[0;32mnot\u001b[0m \u001b[0mself\u001b[0m\u001b[0;34m.\u001b[0m\u001b[0m_poll\u001b[0m\u001b[0;34m(\u001b[0m\u001b[0;34m)\u001b[0m\u001b[0;34m:\u001b[0m\u001b[0;34m\u001b[0m\u001b[0;34m\u001b[0m\u001b[0m\n",
            "\u001b[0;32m/usr/lib/python3.10/multiprocessing/connection.py\u001b[0m in \u001b[0;36mpoll\u001b[0;34m(self, timeout)\u001b[0m\n\u001b[1;32m    255\u001b[0m         \u001b[0mself\u001b[0m\u001b[0;34m.\u001b[0m\u001b[0m_check_closed\u001b[0m\u001b[0;34m(\u001b[0m\u001b[0;34m)\u001b[0m\u001b[0;34m\u001b[0m\u001b[0;34m\u001b[0m\u001b[0m\n\u001b[1;32m    256\u001b[0m         \u001b[0mself\u001b[0m\u001b[0;34m.\u001b[0m\u001b[0m_check_readable\u001b[0m\u001b[0;34m(\u001b[0m\u001b[0;34m)\u001b[0m\u001b[0;34m\u001b[0m\u001b[0;34m\u001b[0m\u001b[0m\n\u001b[0;32m--> 257\u001b[0;31m         \u001b[0;32mreturn\u001b[0m \u001b[0mself\u001b[0m\u001b[0;34m.\u001b[0m\u001b[0m_poll\u001b[0m\u001b[0;34m(\u001b[0m\u001b[0mtimeout\u001b[0m\u001b[0;34m)\u001b[0m\u001b[0;34m\u001b[0m\u001b[0;34m\u001b[0m\u001b[0m\n\u001b[0m\u001b[1;32m    258\u001b[0m \u001b[0;34m\u001b[0m\u001b[0m\n\u001b[1;32m    259\u001b[0m     \u001b[0;32mdef\u001b[0m \u001b[0m__enter__\u001b[0m\u001b[0;34m(\u001b[0m\u001b[0mself\u001b[0m\u001b[0;34m)\u001b[0m\u001b[0;34m:\u001b[0m\u001b[0;34m\u001b[0m\u001b[0;34m\u001b[0m\u001b[0m\n",
            "\u001b[0;32m/usr/lib/python3.10/multiprocessing/connection.py\u001b[0m in \u001b[0;36m_poll\u001b[0;34m(self, timeout)\u001b[0m\n\u001b[1;32m    422\u001b[0m \u001b[0;34m\u001b[0m\u001b[0m\n\u001b[1;32m    423\u001b[0m     \u001b[0;32mdef\u001b[0m \u001b[0m_poll\u001b[0m\u001b[0;34m(\u001b[0m\u001b[0mself\u001b[0m\u001b[0;34m,\u001b[0m \u001b[0mtimeout\u001b[0m\u001b[0;34m)\u001b[0m\u001b[0;34m:\u001b[0m\u001b[0;34m\u001b[0m\u001b[0;34m\u001b[0m\u001b[0m\n\u001b[0;32m--> 424\u001b[0;31m         \u001b[0mr\u001b[0m \u001b[0;34m=\u001b[0m \u001b[0mwait\u001b[0m\u001b[0;34m(\u001b[0m\u001b[0;34m[\u001b[0m\u001b[0mself\u001b[0m\u001b[0;34m]\u001b[0m\u001b[0;34m,\u001b[0m \u001b[0mtimeout\u001b[0m\u001b[0;34m)\u001b[0m\u001b[0;34m\u001b[0m\u001b[0;34m\u001b[0m\u001b[0m\n\u001b[0m\u001b[1;32m    425\u001b[0m         \u001b[0;32mreturn\u001b[0m \u001b[0mbool\u001b[0m\u001b[0;34m(\u001b[0m\u001b[0mr\u001b[0m\u001b[0;34m)\u001b[0m\u001b[0;34m\u001b[0m\u001b[0;34m\u001b[0m\u001b[0m\n\u001b[1;32m    426\u001b[0m \u001b[0;34m\u001b[0m\u001b[0m\n",
            "\u001b[0;32m/usr/lib/python3.10/multiprocessing/connection.py\u001b[0m in \u001b[0;36mwait\u001b[0;34m(object_list, timeout)\u001b[0m\n\u001b[1;32m    929\u001b[0m \u001b[0;34m\u001b[0m\u001b[0m\n\u001b[1;32m    930\u001b[0m             \u001b[0;32mwhile\u001b[0m \u001b[0;32mTrue\u001b[0m\u001b[0;34m:\u001b[0m\u001b[0;34m\u001b[0m\u001b[0;34m\u001b[0m\u001b[0m\n\u001b[0;32m--> 931\u001b[0;31m                 \u001b[0mready\u001b[0m \u001b[0;34m=\u001b[0m \u001b[0mselector\u001b[0m\u001b[0;34m.\u001b[0m\u001b[0mselect\u001b[0m\u001b[0;34m(\u001b[0m\u001b[0mtimeout\u001b[0m\u001b[0;34m)\u001b[0m\u001b[0;34m\u001b[0m\u001b[0;34m\u001b[0m\u001b[0m\n\u001b[0m\u001b[1;32m    932\u001b[0m                 \u001b[0;32mif\u001b[0m \u001b[0mready\u001b[0m\u001b[0;34m:\u001b[0m\u001b[0;34m\u001b[0m\u001b[0;34m\u001b[0m\u001b[0m\n\u001b[1;32m    933\u001b[0m                     \u001b[0;32mreturn\u001b[0m \u001b[0;34m[\u001b[0m\u001b[0mkey\u001b[0m\u001b[0;34m.\u001b[0m\u001b[0mfileobj\u001b[0m \u001b[0;32mfor\u001b[0m \u001b[0;34m(\u001b[0m\u001b[0mkey\u001b[0m\u001b[0;34m,\u001b[0m \u001b[0mevents\u001b[0m\u001b[0;34m)\u001b[0m \u001b[0;32min\u001b[0m \u001b[0mready\u001b[0m\u001b[0;34m]\u001b[0m\u001b[0;34m\u001b[0m\u001b[0;34m\u001b[0m\u001b[0m\n",
            "\u001b[0;32m/usr/lib/python3.10/selectors.py\u001b[0m in \u001b[0;36mselect\u001b[0;34m(self, timeout)\u001b[0m\n\u001b[1;32m    414\u001b[0m         \u001b[0mready\u001b[0m \u001b[0;34m=\u001b[0m \u001b[0;34m[\u001b[0m\u001b[0;34m]\u001b[0m\u001b[0;34m\u001b[0m\u001b[0;34m\u001b[0m\u001b[0m\n\u001b[1;32m    415\u001b[0m         \u001b[0;32mtry\u001b[0m\u001b[0;34m:\u001b[0m\u001b[0;34m\u001b[0m\u001b[0;34m\u001b[0m\u001b[0m\n\u001b[0;32m--> 416\u001b[0;31m             \u001b[0mfd_event_list\u001b[0m \u001b[0;34m=\u001b[0m \u001b[0mself\u001b[0m\u001b[0;34m.\u001b[0m\u001b[0m_selector\u001b[0m\u001b[0;34m.\u001b[0m\u001b[0mpoll\u001b[0m\u001b[0;34m(\u001b[0m\u001b[0mtimeout\u001b[0m\u001b[0;34m)\u001b[0m\u001b[0;34m\u001b[0m\u001b[0;34m\u001b[0m\u001b[0m\n\u001b[0m\u001b[1;32m    417\u001b[0m         \u001b[0;32mexcept\u001b[0m \u001b[0mInterruptedError\u001b[0m\u001b[0;34m:\u001b[0m\u001b[0;34m\u001b[0m\u001b[0;34m\u001b[0m\u001b[0m\n\u001b[1;32m    418\u001b[0m             \u001b[0;32mreturn\u001b[0m \u001b[0mready\u001b[0m\u001b[0;34m\u001b[0m\u001b[0;34m\u001b[0m\u001b[0m\n",
            "\u001b[0;31mKeyboardInterrupt\u001b[0m: "
          ]
        }
      ],
      "source": [
        "import os\n",
        "\n",
        "# Define a directory to save model checkpoints\n",
        "checkpoint_dir = \"model_checkpoints\"\n",
        "os.makedirs(checkpoint_dir, exist_ok=True)\n",
        "\n",
        "# Training loop\n",
        "epochs = 50\n",
        "for epoch in range(epochs):\n",
        "    model.train()\n",
        "    running_loss = 0.0\n",
        "    correct_train_binary = 0\n",
        "    total_train_binary = 0\n",
        "    correct_train_multi_class = 0\n",
        "    total_train_multi_class = 0\n",
        "\n",
        "    # Training loop\n",
        "    for images, (binary_labels, multi_class_labels) in tqdm(train_loader, desc=f\"Epoch {epoch + 1}/{epochs} - Training\"):\n",
        "        images = images.to(device)\n",
        "        binary_labels = binary_labels.to(device)\n",
        "        multi_class_labels = multi_class_labels.to(device)\n",
        "\n",
        "        optimizer.zero_grad()\n",
        "\n",
        "        # Forward pass\n",
        "        binary_output, multi_class_output = model(images)\n",
        "\n",
        "        # Compute combined loss\n",
        "        loss = combined_loss(binary_output, binary_labels, multi_class_output, multi_class_labels)\n",
        "        loss.backward()\n",
        "        optimizer.step()\n",
        "\n",
        "        running_loss += loss.item()\n",
        "\n",
        "        # Calculate training accuracy for binary classification\n",
        "        predicted_binary = (torch.sigmoid(binary_output.squeeze()) > 0.5).int()  # Apply sigmoid for probability\n",
        "        correct_train_binary += (predicted_binary == binary_labels.int()).sum().item()\n",
        "        total_train_binary += binary_labels.size(0)\n",
        "\n",
        "        # Calculate training accuracy for multi-class classification\n",
        "        _, predicted_multi_class = torch.max(multi_class_output, 1)\n",
        "        correct_train_multi_class += (predicted_multi_class == multi_class_labels).sum().item()\n",
        "        total_train_multi_class += multi_class_labels.size(0)\n",
        "\n",
        "    # Calculate the average loss and training accuracies\n",
        "    avg_loss = running_loss / len(train_loader)\n",
        "    train_binary_accuracy = 100 * correct_train_binary / total_train_binary\n",
        "    train_multi_class_accuracy = 100 * correct_train_multi_class / total_train_multi_class\n",
        "\n",
        "    # Validation loop\n",
        "    model.eval()\n",
        "    correct_val_binary = 0\n",
        "    total_val_binary = 0\n",
        "    correct_val_multi_class = 0\n",
        "    total_val_multi_class = 0\n",
        "    with torch.no_grad():\n",
        "        for images, (binary_labels, multi_class_labels) in tqdm(val_loader, desc=f\"Epoch {epoch + 1}/{epochs} - Validation\"):\n",
        "            images = images.to(device)\n",
        "            binary_labels = binary_labels.to(device)\n",
        "            multi_class_labels = multi_class_labels.to(device)\n",
        "\n",
        "            binary_output, multi_class_output = model(images)\n",
        "\n",
        "            # Calculate validation accuracy for binary classification\n",
        "            predicted_binary = (torch.sigmoid(binary_output.squeeze()) > 0.5).int()  # Apply sigmoid for probability\n",
        "            correct_val_binary += (predicted_binary == binary_labels.int()).sum().item()\n",
        "            total_val_binary += binary_labels.size(0)\n",
        "\n",
        "            # Calculate validation accuracy for multi-class classification\n",
        "            _, predicted_multi_class = torch.max(multi_class_output, 1)\n",
        "            correct_val_multi_class += (predicted_multi_class == multi_class_labels).sum().item()\n",
        "            total_val_multi_class += multi_class_labels.size(0)\n",
        "\n",
        "    # Calculate validation accuracies\n",
        "    val_binary_accuracy = 100 * correct_val_binary / total_val_binary\n",
        "    val_multi_class_accuracy = 100 * correct_val_multi_class / total_val_multi_class\n",
        "\n",
        "    # Store the metrics\n",
        "    epoch_list.append(epoch + 1)\n",
        "    loss_list.append(avg_loss)\n",
        "    train_binary_accuracy_list.append(train_binary_accuracy)\n",
        "    train_multi_class_accuracy_list.append(train_multi_class_accuracy)\n",
        "    val_binary_accuracy_list.append(val_binary_accuracy)\n",
        "    val_multi_class_accuracy_list.append(val_multi_class_accuracy)\n",
        "\n",
        "    # Log the metrics\n",
        "    print(f\"Epoch {epoch + 1}/{epochs}\")\n",
        "    print(f\"  Loss: {avg_loss:.4f}\")\n",
        "    print(f\"  Training Binary Accuracy: {train_binary_accuracy:.2f}%\")\n",
        "    print(f\"  Training Multi-Class Accuracy: {train_multi_class_accuracy:.2f}%\")\n",
        "    print(f\"  Validation Binary Accuracy: {val_binary_accuracy:.2f}%\")\n",
        "    print(f\"  Validation Multi-Class Accuracy: {val_multi_class_accuracy:.2f}%\")\n",
        "\n",
        "    # Save model checkpoint\n",
        "    checkpoint_path = os.path.join(checkpoint_dir, f\"model_epoch_{epoch + 1}.pth\")\n",
        "    torch.save({\n",
        "        'epoch': epoch + 1,\n",
        "        'model_state_dict': model.state_dict(),\n",
        "        'optimizer_state_dict': optimizer.state_dict(),\n",
        "        'loss': avg_loss,\n",
        "        'train_binary_accuracy': train_binary_accuracy,\n",
        "        'train_multi_class_accuracy': train_multi_class_accuracy,\n",
        "        'val_binary_accuracy': val_binary_accuracy,\n",
        "        'val_multi_class_accuracy': val_multi_class_accuracy\n",
        "    }, checkpoint_path)\n",
        "\n",
        "    print(f\"Model checkpoint saved at {checkpoint_path}\")\n"
      ]
    },
    {
      "cell_type": "code",
      "execution_count": null,
      "metadata": {
        "id": "PlbISfkHWn8b",
        "colab": {
          "base_uri": "https://localhost:8080/"
        },
        "outputId": "e1938312-7596-4277-fd8f-9bd11ad875b9"
      },
      "outputs": [
        {
          "output_type": "stream",
          "name": "stdout",
          "text": [
            "Model saved successfully!\n"
          ]
        }
      ],
      "source": [
        "# Save the model's state dictionary\n",
        "torch.save(model.state_dict(), \"edgenext_aug2.pth\")\n",
        "print(\"Model saved successfully!\")"
      ]
    },
    {
      "cell_type": "code",
      "execution_count": null,
      "metadata": {
        "id": "Dxt2ytzvZdXp",
        "colab": {
          "base_uri": "https://localhost:8080/"
        },
        "outputId": "7b170018-98f7-4f39-d6b8-681d0f8ac8f2"
      },
      "outputs": [
        {
          "output_type": "stream",
          "name": "stdout",
          "text": [
            "Training results saved successfully!\n"
          ]
        }
      ],
      "source": [
        "# Save the metrics to a CSV file\n",
        "data = {\n",
        "    'Epoch': epoch_list,\n",
        "    'Loss': loss_list,\n",
        "    'Train Binary Accuracy': train_binary_accuracy_list,\n",
        "    'Train Multi-Class Accuracy': train_multi_class_accuracy_list,\n",
        "    'Validation Binary Accuracy': val_binary_accuracy_list,\n",
        "    'Validation Multi-Class Accuracy': val_multi_class_accuracy_list\n",
        "}\n",
        "\n",
        "# Create a DataFrame from the dictionary\n",
        "df = pd.DataFrame(data)\n",
        "\n",
        "# Save the DataFrame to a CSV file\n",
        "df.to_csv('edgenext_aug2_training_results.csv', index=False)\n",
        "print(\"Training results saved successfully!\")"
      ]
    },
    {
      "cell_type": "markdown",
      "metadata": {
        "id": "UcsqOo-xudHK"
      },
      "source": [
        "## Test the Model"
      ]
    },
    {
      "cell_type": "code",
      "execution_count": null,
      "metadata": {
        "id": "vghdvUe2Tsdh"
      },
      "outputs": [],
      "source": [
        "#model.load_state_dict(torch.load(\"efficientnetv2_multi_classifier.pth\"))"
      ]
    },
    {
      "cell_type": "code",
      "execution_count": null,
      "metadata": {
        "id": "TgewvZivs_sb"
      },
      "outputs": [],
      "source": [
        "# Define transformations for the test set\n",
        "test_transforms = transforms.Compose([\n",
        "    transforms.Resize((224, 224)),\n",
        "    transforms.ToTensor(),\n",
        "    transforms.Normalize([0.485, 0.456, 0.406], [0.229, 0.224, 0.225])\n",
        "])\n",
        "\n",
        "# Load your test dataset\n",
        "test_dataset = CustomFireDataset(root_dir=\"/root/.cache/kagglehub/datasets/elmadafri/the-wildfire-dataset/versions/1/the_wildfire_dataset/the_wildfire_dataset/test\", transform=test_transforms)\n",
        "\n",
        "# Create a DataLoader for the test dataset\n",
        "test_loader = torch.utils.data.DataLoader(test_dataset, batch_size=64, shuffle=False, num_workers=10)"
      ]
    },
    {
      "cell_type": "code",
      "execution_count": null,
      "metadata": {
        "id": "Ibrtd8M6WE80",
        "colab": {
          "base_uri": "https://localhost:8080/"
        },
        "outputId": "57b2ba30-feba-4c5e-a41b-09bf48ace905"
      },
      "outputs": [
        {
          "output_type": "stream",
          "name": "stderr",
          "text": [
            "/usr/local/lib/python3.10/dist-packages/PIL/Image.py:3406: DecompressionBombWarning: Image size (96631920 pixels) exceeds limit of 89478485 pixels, could be decompression bomb DOS attack.\n",
            "  warnings.warn(\n",
            "/usr/local/lib/python3.10/dist-packages/PIL/Image.py:3406: DecompressionBombWarning: Image size (94487082 pixels) exceeds limit of 89478485 pixels, could be decompression bomb DOS attack.\n",
            "  warnings.warn(\n",
            "/usr/local/lib/python3.10/dist-packages/PIL/Image.py:3406: DecompressionBombWarning: Image size (101859328 pixels) exceeds limit of 89478485 pixels, could be decompression bomb DOS attack.\n",
            "  warnings.warn(\n"
          ]
        },
        {
          "output_type": "stream",
          "name": "stdout",
          "text": [
            "Test results saved to 'edgenext_test_results.csv'.\n"
          ]
        }
      ],
      "source": [
        "from sklearn.metrics import roc_curve, auc, confusion_matrix, classification_report\n",
        "import pandas as pd\n",
        "import numpy as np\n",
        "import torch\n",
        "\n",
        "# Initialize lists to store results\n",
        "true_binary_labels = []\n",
        "predicted_binary_probs = []  # Probabilities for the positive class (fire)\n",
        "\n",
        "true_multi_class_labels = []\n",
        "predicted_multi_class_labels = []\n",
        "\n",
        "# Evaluate the model on the test set\n",
        "model.eval()\n",
        "with torch.no_grad():\n",
        "    for images, (binary_labels, multi_class_labels) in test_loader:\n",
        "        # Move data to device\n",
        "        images = images.to(device)\n",
        "        binary_labels = binary_labels.to(device)\n",
        "        multi_class_labels = multi_class_labels.to(device)\n",
        "\n",
        "        # Forward pass through the model\n",
        "        binary_output, multi_class_output = model(images)\n",
        "\n",
        "        # Apply sigmoid to binary outputs for probabilities\n",
        "        binary_probs = torch.sigmoid(binary_output).squeeze().cpu().numpy()  # Convert logits to probabilities\n",
        "\n",
        "        # Get predicted class labels for multi-class classification\n",
        "        _, predicted_multi_class = torch.max(multi_class_output, 1)\n",
        "        predicted_multi_class = predicted_multi_class.cpu().numpy()\n",
        "\n",
        "        # Store true labels and predictions for binary classification\n",
        "        true_binary_labels.extend(binary_labels.cpu().numpy())\n",
        "        predicted_binary_probs.extend(binary_probs)\n",
        "\n",
        "        # Store true labels and predictions for multi-class classification\n",
        "        true_multi_class_labels.extend(multi_class_labels.cpu().numpy())\n",
        "        predicted_multi_class_labels.extend(predicted_multi_class)\n",
        "\n",
        "# Combine all data into a single DataFrame\n",
        "results = pd.DataFrame({\n",
        "    \"True Binary Labels\": true_binary_labels,\n",
        "    \"Predicted Binary Probabilities\": predicted_binary_probs,\n",
        "    \"True Multi-Class Labels\": true_multi_class_labels,\n",
        "    \"Predicted Multi-Class Labels\": predicted_multi_class_labels\n",
        "})\n",
        "\n",
        "# Save results to CSV\n",
        "results.to_csv(\"edgenext_aug2_test_results.csv\", index=False)\n",
        "print(\"Test results saved to 'edgenext_test_results.csv'.\")"
      ]
    },
    {
      "cell_type": "code",
      "source": [],
      "metadata": {
        "id": "Xhh7nTvHi7Qd"
      },
      "execution_count": null,
      "outputs": []
    }
  ],
  "metadata": {
    "accelerator": "GPU",
    "colab": {
      "gpuType": "L4",
      "machine_shape": "hm",
      "provenance": []
    },
    "kernelspec": {
      "display_name": "Python 3",
      "name": "python3"
    },
    "language_info": {
      "codemirror_mode": {
        "name": "ipython",
        "version": 3
      },
      "file_extension": ".py",
      "mimetype": "text/x-python",
      "name": "python",
      "nbconvert_exporter": "python",
      "pygments_lexer": "ipython3",
      "version": "3.11.10"
    },
    "widgets": {
      "application/vnd.jupyter.widget-state+json": {
        "96136a0db2ec4a18a8cad12dde83a8a9": {
          "model_module": "@jupyter-widgets/controls",
          "model_name": "HBoxModel",
          "model_module_version": "1.5.0",
          "state": {
            "_dom_classes": [],
            "_model_module": "@jupyter-widgets/controls",
            "_model_module_version": "1.5.0",
            "_model_name": "HBoxModel",
            "_view_count": null,
            "_view_module": "@jupyter-widgets/controls",
            "_view_module_version": "1.5.0",
            "_view_name": "HBoxView",
            "box_style": "",
            "children": [
              "IPY_MODEL_8b1edc22f6e0404eb37371f74ead3afb",
              "IPY_MODEL_d1ecf68ecffa4a67bc8bb0254cc3782f",
              "IPY_MODEL_4201af817f4b4c619ba846e7d0ac8404"
            ],
            "layout": "IPY_MODEL_8c54f91c6a424d1e8294290efaf2753c"
          }
        },
        "8b1edc22f6e0404eb37371f74ead3afb": {
          "model_module": "@jupyter-widgets/controls",
          "model_name": "HTMLModel",
          "model_module_version": "1.5.0",
          "state": {
            "_dom_classes": [],
            "_model_module": "@jupyter-widgets/controls",
            "_model_module_version": "1.5.0",
            "_model_name": "HTMLModel",
            "_view_count": null,
            "_view_module": "@jupyter-widgets/controls",
            "_view_module_version": "1.5.0",
            "_view_name": "HTMLView",
            "description": "",
            "description_tooltip": null,
            "layout": "IPY_MODEL_1f0d8466dc194f05a7bc8e0b5dafa3f3",
            "placeholder": "​",
            "style": "IPY_MODEL_56e8e58d14cb4c5e8badd52760054c7c",
            "value": "model.safetensors: 100%"
          }
        },
        "d1ecf68ecffa4a67bc8bb0254cc3782f": {
          "model_module": "@jupyter-widgets/controls",
          "model_name": "FloatProgressModel",
          "model_module_version": "1.5.0",
          "state": {
            "_dom_classes": [],
            "_model_module": "@jupyter-widgets/controls",
            "_model_module_version": "1.5.0",
            "_model_name": "FloatProgressModel",
            "_view_count": null,
            "_view_module": "@jupyter-widgets/controls",
            "_view_module_version": "1.5.0",
            "_view_name": "ProgressView",
            "bar_style": "success",
            "description": "",
            "description_tooltip": null,
            "layout": "IPY_MODEL_dfa468d72d99494a85ea315985e0beee",
            "max": 22368078,
            "min": 0,
            "orientation": "horizontal",
            "style": "IPY_MODEL_d8f18adee15f45f7a170be0dca65e173",
            "value": 22368078
          }
        },
        "4201af817f4b4c619ba846e7d0ac8404": {
          "model_module": "@jupyter-widgets/controls",
          "model_name": "HTMLModel",
          "model_module_version": "1.5.0",
          "state": {
            "_dom_classes": [],
            "_model_module": "@jupyter-widgets/controls",
            "_model_module_version": "1.5.0",
            "_model_name": "HTMLModel",
            "_view_count": null,
            "_view_module": "@jupyter-widgets/controls",
            "_view_module_version": "1.5.0",
            "_view_name": "HTMLView",
            "description": "",
            "description_tooltip": null,
            "layout": "IPY_MODEL_10c2bd1f436846e685d7fa9f22623644",
            "placeholder": "​",
            "style": "IPY_MODEL_ed2560e96fda4cc9824040fe6c5ab900",
            "value": " 22.4M/22.4M [00:00&lt;00:00, 48.6MB/s]"
          }
        },
        "8c54f91c6a424d1e8294290efaf2753c": {
          "model_module": "@jupyter-widgets/base",
          "model_name": "LayoutModel",
          "model_module_version": "1.2.0",
          "state": {
            "_model_module": "@jupyter-widgets/base",
            "_model_module_version": "1.2.0",
            "_model_name": "LayoutModel",
            "_view_count": null,
            "_view_module": "@jupyter-widgets/base",
            "_view_module_version": "1.2.0",
            "_view_name": "LayoutView",
            "align_content": null,
            "align_items": null,
            "align_self": null,
            "border": null,
            "bottom": null,
            "display": null,
            "flex": null,
            "flex_flow": null,
            "grid_area": null,
            "grid_auto_columns": null,
            "grid_auto_flow": null,
            "grid_auto_rows": null,
            "grid_column": null,
            "grid_gap": null,
            "grid_row": null,
            "grid_template_areas": null,
            "grid_template_columns": null,
            "grid_template_rows": null,
            "height": null,
            "justify_content": null,
            "justify_items": null,
            "left": null,
            "margin": null,
            "max_height": null,
            "max_width": null,
            "min_height": null,
            "min_width": null,
            "object_fit": null,
            "object_position": null,
            "order": null,
            "overflow": null,
            "overflow_x": null,
            "overflow_y": null,
            "padding": null,
            "right": null,
            "top": null,
            "visibility": null,
            "width": null
          }
        },
        "1f0d8466dc194f05a7bc8e0b5dafa3f3": {
          "model_module": "@jupyter-widgets/base",
          "model_name": "LayoutModel",
          "model_module_version": "1.2.0",
          "state": {
            "_model_module": "@jupyter-widgets/base",
            "_model_module_version": "1.2.0",
            "_model_name": "LayoutModel",
            "_view_count": null,
            "_view_module": "@jupyter-widgets/base",
            "_view_module_version": "1.2.0",
            "_view_name": "LayoutView",
            "align_content": null,
            "align_items": null,
            "align_self": null,
            "border": null,
            "bottom": null,
            "display": null,
            "flex": null,
            "flex_flow": null,
            "grid_area": null,
            "grid_auto_columns": null,
            "grid_auto_flow": null,
            "grid_auto_rows": null,
            "grid_column": null,
            "grid_gap": null,
            "grid_row": null,
            "grid_template_areas": null,
            "grid_template_columns": null,
            "grid_template_rows": null,
            "height": null,
            "justify_content": null,
            "justify_items": null,
            "left": null,
            "margin": null,
            "max_height": null,
            "max_width": null,
            "min_height": null,
            "min_width": null,
            "object_fit": null,
            "object_position": null,
            "order": null,
            "overflow": null,
            "overflow_x": null,
            "overflow_y": null,
            "padding": null,
            "right": null,
            "top": null,
            "visibility": null,
            "width": null
          }
        },
        "56e8e58d14cb4c5e8badd52760054c7c": {
          "model_module": "@jupyter-widgets/controls",
          "model_name": "DescriptionStyleModel",
          "model_module_version": "1.5.0",
          "state": {
            "_model_module": "@jupyter-widgets/controls",
            "_model_module_version": "1.5.0",
            "_model_name": "DescriptionStyleModel",
            "_view_count": null,
            "_view_module": "@jupyter-widgets/base",
            "_view_module_version": "1.2.0",
            "_view_name": "StyleView",
            "description_width": ""
          }
        },
        "dfa468d72d99494a85ea315985e0beee": {
          "model_module": "@jupyter-widgets/base",
          "model_name": "LayoutModel",
          "model_module_version": "1.2.0",
          "state": {
            "_model_module": "@jupyter-widgets/base",
            "_model_module_version": "1.2.0",
            "_model_name": "LayoutModel",
            "_view_count": null,
            "_view_module": "@jupyter-widgets/base",
            "_view_module_version": "1.2.0",
            "_view_name": "LayoutView",
            "align_content": null,
            "align_items": null,
            "align_self": null,
            "border": null,
            "bottom": null,
            "display": null,
            "flex": null,
            "flex_flow": null,
            "grid_area": null,
            "grid_auto_columns": null,
            "grid_auto_flow": null,
            "grid_auto_rows": null,
            "grid_column": null,
            "grid_gap": null,
            "grid_row": null,
            "grid_template_areas": null,
            "grid_template_columns": null,
            "grid_template_rows": null,
            "height": null,
            "justify_content": null,
            "justify_items": null,
            "left": null,
            "margin": null,
            "max_height": null,
            "max_width": null,
            "min_height": null,
            "min_width": null,
            "object_fit": null,
            "object_position": null,
            "order": null,
            "overflow": null,
            "overflow_x": null,
            "overflow_y": null,
            "padding": null,
            "right": null,
            "top": null,
            "visibility": null,
            "width": null
          }
        },
        "d8f18adee15f45f7a170be0dca65e173": {
          "model_module": "@jupyter-widgets/controls",
          "model_name": "ProgressStyleModel",
          "model_module_version": "1.5.0",
          "state": {
            "_model_module": "@jupyter-widgets/controls",
            "_model_module_version": "1.5.0",
            "_model_name": "ProgressStyleModel",
            "_view_count": null,
            "_view_module": "@jupyter-widgets/base",
            "_view_module_version": "1.2.0",
            "_view_name": "StyleView",
            "bar_color": null,
            "description_width": ""
          }
        },
        "10c2bd1f436846e685d7fa9f22623644": {
          "model_module": "@jupyter-widgets/base",
          "model_name": "LayoutModel",
          "model_module_version": "1.2.0",
          "state": {
            "_model_module": "@jupyter-widgets/base",
            "_model_module_version": "1.2.0",
            "_model_name": "LayoutModel",
            "_view_count": null,
            "_view_module": "@jupyter-widgets/base",
            "_view_module_version": "1.2.0",
            "_view_name": "LayoutView",
            "align_content": null,
            "align_items": null,
            "align_self": null,
            "border": null,
            "bottom": null,
            "display": null,
            "flex": null,
            "flex_flow": null,
            "grid_area": null,
            "grid_auto_columns": null,
            "grid_auto_flow": null,
            "grid_auto_rows": null,
            "grid_column": null,
            "grid_gap": null,
            "grid_row": null,
            "grid_template_areas": null,
            "grid_template_columns": null,
            "grid_template_rows": null,
            "height": null,
            "justify_content": null,
            "justify_items": null,
            "left": null,
            "margin": null,
            "max_height": null,
            "max_width": null,
            "min_height": null,
            "min_width": null,
            "object_fit": null,
            "object_position": null,
            "order": null,
            "overflow": null,
            "overflow_x": null,
            "overflow_y": null,
            "padding": null,
            "right": null,
            "top": null,
            "visibility": null,
            "width": null
          }
        },
        "ed2560e96fda4cc9824040fe6c5ab900": {
          "model_module": "@jupyter-widgets/controls",
          "model_name": "DescriptionStyleModel",
          "model_module_version": "1.5.0",
          "state": {
            "_model_module": "@jupyter-widgets/controls",
            "_model_module_version": "1.5.0",
            "_model_name": "DescriptionStyleModel",
            "_view_count": null,
            "_view_module": "@jupyter-widgets/base",
            "_view_module_version": "1.2.0",
            "_view_name": "StyleView",
            "description_width": ""
          }
        }
      }
    }
  },
  "nbformat": 4,
  "nbformat_minor": 0
}